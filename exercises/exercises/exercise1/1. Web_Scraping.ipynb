{
 "cells": [
  {
   "cell_type": "markdown",
   "metadata": {
    "id": "XTYk2W9dCJlZ"
   },
   "source": [
    "# 1. Web Scraping (static pages) with BeautifulSoap"
   ]
  },
  {
   "cell_type": "markdown",
   "metadata": {
    "id": "d_O9zMg76YWk"
   },
   "source": [
    "Import the required libraries\n",
    "\n",
    "BeautifulSoup documentation: https://www.crummy.com/software/BeautifulSoup/bs4/doc/\n",
    "\n",
    "Pandas documentation: https://pandas.pydata.org/docs/getting_started/intro_tutorials/01_table_oriented.html\n",
    "\n"
   ]
  },
  {
   "cell_type": "markdown",
   "metadata": {
    "id": "QjrXNL5o-JJH"
   },
   "source": [
    "**First click on the folder icon to connect Google Drive, the third one in the side menu. We need the connection to save the data in the end**"
   ]
  },
  {
   "cell_type": "code",
   "execution_count": null,
   "metadata": {
    "id": "b7Ei7bp_qbsR"
   },
   "outputs": [],
   "source": [
    "import requests\n",
    "from bs4 import BeautifulSoup\n",
    "import pandas as pd"
   ]
  },
  {
   "cell_type": "code",
   "execution_count": null,
   "metadata": {
    "id": "omU6edEWDQrD"
   },
   "outputs": [],
   "source": [
    "url = \"https://www.setec.mk/\""
   ]
  },
  {
   "cell_type": "markdown",
   "metadata": {
    "id": "2bYthhkYBpNr"
   },
   "source": [
    "Send a HTTP GET request to the URL"
   ]
  },
  {
   "cell_type": "code",
   "execution_count": null,
   "metadata": {
    "id": "H9qWTn46C_c-"
   },
   "outputs": [],
   "source": [
    "response = requests.get(url)"
   ]
  },
  {
   "cell_type": "code",
   "execution_count": null,
   "metadata": {
    "colab": {
     "base_uri": "https://localhost:8080/"
    },
    "id": "kfqNAjwSDG2f",
    "outputId": "84480eda-e3ed-40a7-d88b-4e6d4c625b66"
   },
   "outputs": [
    {
     "data": {
      "text/plain": [
       "<Response [200]>"
      ]
     },
     "execution_count": 13,
     "metadata": {},
     "output_type": "execute_result"
    }
   ],
   "source": [
    "response"
   ]
  },
  {
   "cell_type": "code",
   "execution_count": null,
   "metadata": {
    "colab": {
     "base_uri": "https://localhost:8080/"
    },
    "id": "FY_SOxYaDIKX",
    "outputId": "f15ad8af-499a-4baa-e98f-817b70211a95"
   },
   "outputs": [
    {
     "data": {
      "text/plain": [
       "200"
      ]
     },
     "execution_count": 14,
     "metadata": {},
     "output_type": "execute_result"
    }
   ],
   "source": [
    "response.status_code"
   ]
  },
  {
   "cell_type": "code",
   "execution_count": 2,
   "metadata": {
    "colab": {
     "base_uri": "https://localhost:8080/",
     "height": 140
    },
    "id": "mW40x50KDJxB",
    "outputId": "2d638978-0f88-4f24-f098-075cf67562f4"
   },
   "outputs": [],
   "source": [
    "# response.text"
   ]
  },
  {
   "cell_type": "code",
   "execution_count": null,
   "metadata": {
    "id": "EAZww-TyDmG7"
   },
   "outputs": [],
   "source": [
    "raw_html = response.text"
   ]
  },
  {
   "cell_type": "markdown",
   "metadata": {
    "id": "xlGF8rTDBuo6"
   },
   "source": [
    "Parse the raw html file with a html parser from BeautifulSoup"
   ]
  },
  {
   "cell_type": "code",
   "execution_count": null,
   "metadata": {
    "id": "j-aXkuMXDxbi"
   },
   "outputs": [],
   "source": [
    "soup = BeautifulSoup(raw_html, \"html.parser\")"
   ]
  },
  {
   "cell_type": "code",
   "execution_count": 4,
   "metadata": {
    "colab": {
     "base_uri": "https://localhost:8080/"
    },
    "id": "PMmwNW5eD2u8",
    "outputId": "18cb9aa3-2467-482b-ee2f-efdd58592fb5"
   },
   "outputs": [],
   "source": [
    "# print(soup.prettify())"
   ]
  },
  {
   "cell_type": "markdown",
   "metadata": {
    "id": "E2S24UT67W0n"
   },
   "source": [
    "* class selector - starts with '.' and continues with the name of the class\n",
    "(example '.sale')\n",
    "\n",
    "* id selector - starts with '#' and continues with the name of the id (example '#id')\n",
    "\n",
    "* tag names - example 'p': paragraph, 'a': anchor (link), 'div' - division"
   ]
  },
  {
   "cell_type": "code",
   "execution_count": null,
   "metadata": {
    "id": "hFqSAHR3D8UA"
   },
   "outputs": [],
   "source": [
    "regular_price = soup.select(\".price-old-new\")"
   ]
  },
  {
   "cell_type": "code",
   "execution_count": null,
   "metadata": {
    "colab": {
     "base_uri": "https://localhost:8080/"
    },
    "id": "XYtTReeVEk6Q",
    "outputId": "0175860b-4ece-4619-ce3b-596e01c16cad"
   },
   "outputs": [
    {
     "data": {
      "text/plain": [
       "81"
      ]
     },
     "execution_count": 35,
     "metadata": {},
     "output_type": "execute_result"
    }
   ],
   "source": [
    "len(regular_price)"
   ]
  },
  {
   "cell_type": "code",
   "execution_count": null,
   "metadata": {
    "id": "TmylnUmQFLlV"
   },
   "outputs": [],
   "source": [
    "happy_price = soup.select(\".price-new-new\")"
   ]
  },
  {
   "cell_type": "code",
   "execution_count": null,
   "metadata": {
    "colab": {
     "base_uri": "https://localhost:8080/"
    },
    "id": "x-MvQGS5FSFL",
    "outputId": "75220ee4-0cab-4138-90a5-b57ff760c368"
   },
   "outputs": [
    {
     "data": {
      "text/plain": [
       "81"
      ]
     },
     "execution_count": 38,
     "metadata": {},
     "output_type": "execute_result"
    }
   ],
   "source": [
    "len(happy_price)"
   ]
  },
  {
   "cell_type": "code",
   "execution_count": null,
   "metadata": {
    "id": "pxAJXguYFXGo"
   },
   "outputs": [],
   "source": [
    "discount = soup.select(\".sale\")"
   ]
  },
  {
   "cell_type": "code",
   "execution_count": null,
   "metadata": {
    "colab": {
     "base_uri": "https://localhost:8080/"
    },
    "id": "aTd02SgjFfOJ",
    "outputId": "d41eb544-5bd9-4539-d22a-1bf69962214d"
   },
   "outputs": [
    {
     "data": {
      "text/plain": [
       "69"
      ]
     },
     "execution_count": 40,
     "metadata": {},
     "output_type": "execute_result"
    }
   ],
   "source": [
    "len(discount)"
   ]
  },
  {
   "cell_type": "markdown",
   "metadata": {
    "id": "IFecnpYRFiFR"
   },
   "source": [
    "Notice that not all products have a discount"
   ]
  },
  {
   "cell_type": "markdown",
   "metadata": {
    "id": "jwGp-BW4Fz8y"
   },
   "source": [
    "Tag selector"
   ]
  },
  {
   "cell_type": "code",
   "execution_count": 6,
   "metadata": {
    "colab": {
     "base_uri": "https://localhost:8080/"
    },
    "id": "Zyz6BOAgFgDh",
    "outputId": "978018d2-bf77-4858-b0e5-9972976f6e57"
   },
   "outputs": [],
   "source": [
    "# soup.select('p')"
   ]
  },
  {
   "cell_type": "markdown",
   "metadata": {
    "id": "zHw5d4LIF1qi"
   },
   "source": [
    "Id selector"
   ]
  },
  {
   "cell_type": "code",
   "execution_count": null,
   "metadata": {
    "colab": {
     "base_uri": "https://localhost:8080/"
    },
    "id": "9p6gapIzFn82",
    "outputId": "845c9e31-c3c0-4f73-b9d1-60a2c64486d7"
   },
   "outputs": [
    {
     "data": {
      "text/plain": [
       "<div class=\"name\" id=\"mora_da_ima_prazno_mesto\"><a href=\"https://setec.mk/tcl-65c74577352\">\n",
       "\t\t\t\tTCL 65C745</a>\n",
       "</div>"
      ]
     },
     "execution_count": 43,
     "metadata": {},
     "output_type": "execute_result"
    }
   ],
   "source": [
    "soup.select_one(\"#mora_da_ima_prazno_mesto\")"
   ]
  },
  {
   "cell_type": "markdown",
   "metadata": {
    "id": "WPpEM6PTGWFb"
   },
   "source": [
    "The find and find_all functions"
   ]
  },
  {
   "cell_type": "code",
   "execution_count": null,
   "metadata": {
    "colab": {
     "base_uri": "https://localhost:8080/"
    },
    "id": "cfa1fVwcFuzg",
    "outputId": "40d7feb8-bf82-4307-db69-422ddebf7603"
   },
   "outputs": [
    {
     "data": {
      "text/plain": [
       "<p class=\"close-menu\"></p>"
      ]
     },
     "execution_count": 44,
     "metadata": {},
     "output_type": "execute_result"
    }
   ],
   "source": [
    "soup.find(\"p\")"
   ]
  },
  {
   "cell_type": "code",
   "execution_count": 8,
   "metadata": {
    "colab": {
     "base_uri": "https://localhost:8080/"
    },
    "id": "UV2ZBwJNGaEF",
    "outputId": "64bebdd0-7383-4b73-85a7-dc08298b9953"
   },
   "outputs": [],
   "source": [
    "# soup.find_all(\"p\")"
   ]
  },
  {
   "cell_type": "code",
   "execution_count": 10,
   "metadata": {
    "colab": {
     "base_uri": "https://localhost:8080/"
    },
    "id": "AOXuBPQUGb9e",
    "outputId": "21049920-00fa-4dc6-c3a6-cfde6e6711b6"
   },
   "outputs": [],
   "source": [
    "# soup.find_all(\"span\")"
   ]
  },
  {
   "cell_type": "markdown",
   "metadata": {
    "id": "rg8njEQUMwqi"
   },
   "source": [
    "More specific selectors"
   ]
  },
  {
   "cell_type": "code",
   "execution_count": 12,
   "metadata": {
    "colab": {
     "base_uri": "https://localhost:8080/"
    },
    "id": "tDB_7MudG8ME",
    "outputId": "ae09e638-fe8f-4f90-ebcb-ca7f8708dcaf"
   },
   "outputs": [],
   "source": [
    "# soup.select(\"div.category-price-akciska span.price-new-new\")"
   ]
  },
  {
   "cell_type": "markdown",
   "metadata": {
    "id": "rl1IKWNuMzRR"
   },
   "source": [
    "Find tags with attributes, you can add multiple key-value pairs for the attrubte names and values."
   ]
  },
  {
   "cell_type": "code",
   "execution_count": 14,
   "metadata": {
    "colab": {
     "base_uri": "https://localhost:8080/"
    },
    "id": "bMsoi163HNmo",
    "outputId": "d88aee09-29c0-442e-ba4c-bce11aba0ac3"
   },
   "outputs": [],
   "source": [
    "# soup.find_all('a', attrs={\"data-original-title\": \"Додади во кошничка\"})"
   ]
  },
  {
   "cell_type": "markdown",
   "metadata": {
    "id": "nPTbHmT_Hly6"
   },
   "source": [
    "Scrape all products from the home page"
   ]
  },
  {
   "cell_type": "code",
   "execution_count": null,
   "metadata": {
    "id": "xkHvNE8UHXh4"
   },
   "outputs": [],
   "source": [
    "products = soup.select('.product')"
   ]
  },
  {
   "cell_type": "code",
   "execution_count": null,
   "metadata": {
    "colab": {
     "base_uri": "https://localhost:8080/"
    },
    "id": "B63LjSjeH76R",
    "outputId": "d6663ed2-dc75-435a-f9a2-752cc842816a"
   },
   "outputs": [
    {
     "name": "stdout",
     "output_type": "stream",
     "text": [
      "<div class=\"product clearfix product-hover\">\n",
      "<div class=\"left\">\n",
      "<div class=\"sale\">-40%</div>\n",
      "<div class=\"image\">\n",
      "<a href=\"https://setec.mk/tcl-65c74577352\">\n",
      "<!-- Como LABELS -->\n",
      "<!--&& $manufacturer!=15 -->\n",
      "<div class=\"comopl\" id=\"comopl1\"><div class=\"comopl_box\">\n",
      "<span class=\"comopl_label comopl_mod-270 comopl_page-other\" style=\"left: 0%;bottom: 0%;opacity: 1;height: 90px;width: 80px;font-size: 1em;font-weight: 700;text-align: center;border-style: none;border: none;box-shadow: none;background-image: url('https://setec.mk/image/catalog/Promo/2+3TCL.png'); background-position: center; background-repeat: no-repeat;z-index: 1;\">\n",
      "</span>\n",
      "</div>\n",
      "<div class=\"comopl_box\">\n",
      "<span class=\"comopl_label comopl_mod-450 comopl_page-other\" style=\"right: 0%;top: 0%;opacity: 1;height: 100px;width: 100px;font-size: 1em;font-weight: 700;text-align: center;border-style: none;border: none;box-shadow: none;background-image: url('https://setec.mk/image/catalog/Promo/iute_eye.png'); background-position: center; background-repeat: no-repeat;z-index: 1;\">\n",
      "</span>\n",
      "</div>\n",
      "</div> <!-- Como LABELS end -->\n",
      "<!--\t<div class=\"ClubCardPoints\" style=\"position: absolute;top: 0pt;right: 5pt;z-index: 1;text-align: center;background: -webkit-linear-gradient(left,#3e5fa9 0,#3e5fa9 100%); border-radius: 50%; width: 100px; height: 100px;\">\n",
      "\t\t\t\t\t\t\t\t\t\t\t\t<p class=\"keshback\" style=\"font-size: 21pt;font-weight: 900;color: white;height: 24px;letter-spacing: -1pt;margin-top: 5px;\">\n",
      "\t\t\t\t\t\t\t\t\t\t\t\t\t\t\t\t\t\t\t\t\t\t\t\t</p>\n",
      "\t\t\t\t\t\t<p class=\"denaros\" style=\"color:#f3812d;font-size: 14pt;font-weight: bold;letter-spacing: -1.5px;height: 13px;\">CASH BACK</p>\n",
      "\t\t\t\t\t\t<p class=\"denaros\" style=\"color:white;font-size: 12pt;\">ПОЕНИ</p>\n",
      "\t\t\t\t\t\t\t\t\t\t\t\t<p class=\"keshback\" style=\"font-size: 21pt;font-weight: 900;color: white;height: 24px;letter-spacing: -1pt;margin-top: 5px;\">\n",
      "\t\t\t\t\t\t\t\t\t\t\t\t\t\t\t\t\t\t\t\t\t\t\t\t</p>\n",
      "\t\t\t\t\t\t<p class=\"denaros\" style=\"color:#f3812d;font-size: 14pt;font-weight: bold;letter-spacing: -1.5px;height: 13px;\">CASH BACK</p>\n",
      "\t\t\t\t\t\t<p class=\"denaros\" style=\"color:white;font-size: 12pt;\">ПОЕНИ</p>\n",
      "\t\t\t\t\t\t\t\t\t\t\t\t</div> -->\n",
      "<img alt=\"TCL 65C745\" class=\"zoom-image-effect\" data-echo=\"https://setec.mk/image/cache/catalog/Product/77352_0-220x220.jpg\" src=\"image/catalog/blank.gif\"/>\n",
      "</a>\n",
      "</div>\n",
      "<!--<div class=\"24dostava\" style=\"opacity: 1; height: 80px; width: 80px; background-image:url(https://setec.mk/image/catalog/Promo/24-48-dostava.png);\n",
      "    background-size: 80px !important; background-repeat: no-repeat; z-index: 1;\"></div>-->\n",
      "</div>\n",
      "<div class=\"right\">\n",
      "<div class=\"name\" id=\"mora_da_ima_prazno_mesto\"><a href=\"https://setec.mk/tcl-65c74577352\">\n",
      "\t\t\t\tTCL 65C745</a>\n",
      "</div>\n",
      "<div class=\"shifra\">\n",
      "\t\t\t\tШифра: 77352\t\t\t</div>\n",
      "<div class=\"lager\">\n",
      "<div class=\"ima_zaliha\" style=\"color:#47c353;\">Производот е достапен</div>\n",
      "</div>\n",
      "<div class=\"price\">\n",
      "<!-- Modul za vauceri -->\n",
      "<div class=\"cena-bace-cena-druze\">\n",
      "<div class=\"category-price-redovna\">\n",
      "<span class=\"redovna-cena\">Редовна цена: </span>\n",
      "<span class=\"price-old-new\">74,999 Ден.</span>\n",
      "</div>\n",
      "<div class=\"category-price-akciska\">\n",
      "<span class=\"akciska-cena\">КЛУБ ЦЕНА: </span>\n",
      "<p style=\"clear: both; text-align: center; margin: 2px !important;\"></p>\n",
      "<span class=\"price-new-new\">44,999 Ден.</span>\n",
      "</div>\n",
      "<!-- RATI -->\n",
      "<div id=\"category-rata\">\n",
      "<span class=\"klub-rata\">12 РАТИ: </span>\n",
      "<span class=\"klub-rata-suma\">\t\t\t\t\t\t\t\t\t\t3,900 Ден.</span><br/>\n",
      "<span class=\"klub-rata\">24 РАТИ: </span>\n",
      "<!--style=\"border-radius: 1300em 0em 6em 1300em;\n",
      "\t\t\t\t\tbackground-color: #3c9555;\n",
      "\t\t\t\t\tpadding: 8px 62px;\n",
      "\t\t\t\t\tcolor: #fff;\"-->\n",
      "<span class=\"klub-rata-suma\"> <!--style=\"background-color: #3c9555;  margin: 60px;  padding: 8px;  color: #fff;\"-->\t\t\t\t\t\t\t\t\t\t2,007 Ден.</span><br/>\n",
      "</div>\n",
      "<!-- RATI -->\n",
      "</div>\n",
      "</div>\n",
      "<div class=\"only-hover\">\n",
      "<ul>\n",
      "<li><a data-original-title=\"Додади во кошничка\" data-toggle=\"tooltip\" onclick=\"cart.add('77352');\"><i class=\"fa fa-shopping-cart\"></i></a></li>\n",
      "<li><a data-original-title=\"Додади за споредба\" data-toggle=\"tooltip\" onclick=\"compare.add('77352');\"><i class=\"fa fa-exchange\"></i></a></li>\n",
      "<li><a data-original-title=\"Додади во омилени\" data-toggle=\"tooltip\" onclick=\"wishlist.add('77352');\"><i class=\"fa fa-heart\"></i></a></li>\n",
      "</ul>\n",
      "</div>\n",
      "</div>\n",
      "</div>\n"
     ]
    }
   ],
   "source": [
    "print(products[0])"
   ]
  },
  {
   "cell_type": "markdown",
   "metadata": {
    "id": "LU3xiNCMCAgY"
   },
   "source": [
    "Let's test out the selectors for a single product. Then we will use them for all products on the home page."
   ]
  },
  {
   "cell_type": "code",
   "execution_count": null,
   "metadata": {
    "id": "cC2xIsNxI1nQ"
   },
   "outputs": [],
   "source": [
    "product = products[0]"
   ]
  },
  {
   "cell_type": "code",
   "execution_count": null,
   "metadata": {
    "id": "-1l8CWFII3ip"
   },
   "outputs": [],
   "source": [
    "name = product.select_one('.name').text\n",
    "code = product.select_one('.shifra').text\n",
    "regular_price = product.select_one('.price-old-new').text\n",
    "happy_price = product.select_one('.price-new-new').text\n",
    "discount = product.select_one('.sale').text\n",
    "link = product.select_one('.image a').get(\"href\")\n",
    "image_link = product.select_one('.image img').get(\"data-echo\")"
   ]
  },
  {
   "cell_type": "code",
   "execution_count": null,
   "metadata": {
    "colab": {
     "base_uri": "https://localhost:8080/",
     "height": 36
    },
    "id": "MRupivKxM7Lx",
    "outputId": "a076b564-b93f-49e2-b1e0-f642f854ac6f"
   },
   "outputs": [
    {
     "data": {
      "application/vnd.google.colaboratory.intrinsic+json": {
       "type": "string"
      },
      "text/plain": [
       "'https://setec.mk/image/cache/catalog/Product/56939_0-228x228.jpg'"
      ]
     },
     "execution_count": 95,
     "metadata": {},
     "output_type": "execute_result"
    }
   ],
   "source": [
    "product.select_one('.image img').get(\"data-echo\")"
   ]
  },
  {
   "cell_type": "code",
   "execution_count": null,
   "metadata": {
    "colab": {
     "base_uri": "https://localhost:8080/"
    },
    "id": "jhO7sDgvI5Jy",
    "outputId": "3c27dba7-72e7-492c-e928-2ccc94f9eb81"
   },
   "outputs": [
    {
     "data": {
      "text/plain": [
       "('\\n\\t\\t\\t\\tLenovo DT Legion T7 34IRZ8 (Storm Grey)\\n',\n",
       " '\\n\\t\\t\\t\\tШифра: 56939\\t\\t\\t',\n",
       " '199,999 Ден.',\n",
       " '179,999 Ден.',\n",
       " '-10%',\n",
       " 'https://setec.mk/компјутери-и-it-опрема/конфигурации/lenovo-dt-legion-t7-34irz8-storm-grey56939',\n",
       " 'https://setec.mk/image/cache/catalog/Product/56939_0-228x228.jpg')"
      ]
     },
     "execution_count": 96,
     "metadata": {},
     "output_type": "execute_result"
    }
   ],
   "source": [
    "name, code, regular_price, happy_price, discount, link, image_link"
   ]
  },
  {
   "cell_type": "code",
   "execution_count": null,
   "metadata": {
    "colab": {
     "base_uri": "https://localhost:8080/",
     "height": 36
    },
    "id": "ogWmv9LpJJKy",
    "outputId": "002c1f5c-fcd4-4e31-ef31-c4626c604bb6"
   },
   "outputs": [
    {
     "data": {
      "application/vnd.google.colaboratory.intrinsic+json": {
       "type": "string"
      },
      "text/plain": [
       "'TCL 65C745'"
      ]
     },
     "execution_count": 70,
     "metadata": {},
     "output_type": "execute_result"
    }
   ],
   "source": [
    "name.strip()"
   ]
  },
  {
   "cell_type": "code",
   "execution_count": null,
   "metadata": {
    "colab": {
     "base_uri": "https://localhost:8080/"
    },
    "id": "iwwlH6TdJ49k",
    "outputId": "8b4ca798-40b2-4df6-bc36-5c0ee7c8a182"
   },
   "outputs": [
    {
     "data": {
      "text/plain": [
       "82"
      ]
     },
     "execution_count": 73,
     "metadata": {},
     "output_type": "execute_result"
    }
   ],
   "source": [
    "len(products)"
   ]
  },
  {
   "cell_type": "code",
   "execution_count": null,
   "metadata": {
    "id": "vWloicBkHrtJ"
   },
   "outputs": [],
   "source": [
    "parsed_products = []\n",
    "for product in products:\n",
    "  name = product.select_one('.name').text.strip()\n",
    "  code = product.select_one('.shifra').text.strip()\n",
    "  regular_price = product.select_one('.price-old-new')\n",
    "  if regular_price is not None:  # check to see if the element exists, if it's None it will throw an error\n",
    "    regular_price = regular_price.text.strip()\n",
    "\n",
    "  happy_price = product.select_one('.price-new-new')\n",
    "  if happy_price is not None:\n",
    "    happy_price = happy_price.text.strip()\n",
    "  discount = product.select_one('.sale')\n",
    "  if discount is not None:\n",
    "    discount = discount.text.strip()\n",
    "  link = product.select_one('.image a').get(\"href\")\n",
    "  image_link = product.select_one('.image img').get(\"data-echo\")\n",
    "\n",
    "  product_dict = {\n",
    "      \"ProductName\": name,\n",
    "      \"ProductCode\": code,\n",
    "      \"RegularPrice\": regular_price,\n",
    "      \"HappyPrice\": happy_price,\n",
    "      \"DiscountPercent\": discount,\n",
    "      \"PageLink\": link,\n",
    "      \"ImageLink\": image_link\n",
    "  }\n",
    "\n",
    "  parsed_products.append(product_dict)"
   ]
  },
  {
   "cell_type": "code",
   "execution_count": null,
   "metadata": {
    "colab": {
     "base_uri": "https://localhost:8080/"
    },
    "id": "SNh1W2zNJrb6",
    "outputId": "d6fa0ea5-0ec6-47d4-db03-cf3953935073"
   },
   "outputs": [
    {
     "data": {
      "text/plain": [
       "[{'ProductName': 'Apple Mac mini M2 PRO -',\n",
       "  'ProductCode': 'Шифра: 55218',\n",
       "  'RegularPrice': '99,999 Ден.',\n",
       "  'HappyPrice': '89,999 Ден.',\n",
       "  'DiscountPercent': '-10%',\n",
       "  'PageLink': 'https://setec.mk/компјутери-и-it-опрема/конфигурации/apple-mac-mini-m2-pro-55218',\n",
       "  'ImageLink': 'https://setec.mk/image/cache/catalog/Product/55218_0-228x228.jpg'},\n",
       " {'ProductName': 'ASUS GAMING PC G35DX-WB7730W  /  Win 11',\n",
       "  'ProductCode': 'Шифра: 52738',\n",
       "  'RegularPrice': '99,999 Ден.',\n",
       "  'HappyPrice': '89,999 Ден.',\n",
       "  'DiscountPercent': '-10%',\n",
       "  'PageLink': 'https://setec.mk/компјутери-и-it-опрема/конфигурации/asus-gaming-pc-g35dx-wb7730w-win-1152738',\n",
       "  'ImageLink': 'https://setec.mk/image/cache/catalog/Product/52738_0-228x228.jpg'},\n",
       " {'ProductName': 'Lenovo Legion T5 26ARA8',\n",
       "  'ProductCode': 'Шифра: 56987',\n",
       "  'RegularPrice': '99,999 Ден.',\n",
       "  'HappyPrice': '92,999 Ден.',\n",
       "  'DiscountPercent': '-7%',\n",
       "  'PageLink': 'https://setec.mk/компјутери-и-it-опрема/конфигурации?product_id=56987',\n",
       "  'ImageLink': 'https://setec.mk/image/cache/catalog/Product/56987_0-228x228.jpg'},\n",
       " {'ProductName': 'Apple iMac 24\" ( Blue ) - Процесор:Apple M3 chip with 8-core CPU  /   GPU  8-core',\n",
       "  'ProductCode': 'Шифра: 59281',\n",
       "  'RegularPrice': '99,999 Ден.',\n",
       "  'HappyPrice': '94,999 Ден.',\n",
       "  'DiscountPercent': '-5%',\n",
       "  'PageLink': 'https://setec.mk/компјутери-и-it-опрема/конфигурации?product_id=59281',\n",
       "  'ImageLink': 'https://setec.mk/image/cache/catalog/Product/59281_0-228x228.jpg'},\n",
       " {'ProductName': 'Apple iMac 24\" ( Green ) - Процесор:Apple M3 chip with 8-core CPU  /   GPU  8-core',\n",
       "  'ProductCode': 'Шифра: 59100',\n",
       "  'RegularPrice': '99,999 Ден.',\n",
       "  'HappyPrice': '94,999 Ден.',\n",
       "  'DiscountPercent': '-5%',\n",
       "  'PageLink': 'https://setec.mk/компјутери-и-it-опрема/конфигурации?product_id=59100',\n",
       "  'ImageLink': 'https://setec.mk/image/cache/catalog/Product/59100_0-228x228.jpg'},\n",
       " {'ProductName': 'Конфигурација INTEL GAMER WARRIOR',\n",
       "  'ProductCode': 'Шифра: 57467',\n",
       "  'RegularPrice': '97,999 Ден.',\n",
       "  'HappyPrice': '94,999 Ден.',\n",
       "  'DiscountPercent': '-3%',\n",
       "  'PageLink': 'https://setec.mk/компјутери-и-it-опрема/конфигурации/конфигурација-intel-gamer-warrior-57467',\n",
       "  'ImageLink': 'https://setec.mk/image/cache/catalog/Product/57467_0-228x228.jpg'},\n",
       " {'ProductName': 'ASUS ROG STRIX GAMING PC G13CHR-M71470F16465',\n",
       "  'ProductCode': 'Шифра: 59715',\n",
       "  'RegularPrice': '99,999 Ден.',\n",
       "  'HappyPrice': '97,999 Ден.',\n",
       "  'DiscountPercent': '-2%',\n",
       "  'PageLink': 'https://setec.mk/компјутери-и-it-опрема/конфигурации?product_id=59715',\n",
       "  'ImageLink': 'https://setec.mk/image/cache/catalog/Product/59715_0-228x228.jpg'},\n",
       " {'ProductName': 'ASUS GAMING PC G15DS-WB7722W  /  Win 11',\n",
       "  'ProductCode': 'Шифра: 55819',\n",
       "  'RegularPrice': '109,999 Ден.',\n",
       "  'HappyPrice': '99,999 Ден.',\n",
       "  'DiscountPercent': '-9%',\n",
       "  'PageLink': 'https://setec.mk/компјутери-и-it-опрема/конфигурации/asus-gaming-pc-g15ds-wb7722w-win-1155819',\n",
       "  'ImageLink': 'https://setec.mk/image/cache/catalog/Product/55819_0-228x228.jpg'},\n",
       " {'ProductName': 'Конфигурација INTEL GAMER EXTREME',\n",
       "  'ProductCode': 'Шифра: 54337',\n",
       "  'RegularPrice': '119,999 Ден.',\n",
       "  'HappyPrice': '99,999 Ден.',\n",
       "  'DiscountPercent': '-17%',\n",
       "  'PageLink': 'https://setec.mk/компјутери-и-it-опрема/конфигурации/конфигурација-intel-gamer-extreme-54337',\n",
       "  'ImageLink': 'https://setec.mk/image/cache/catalog/Product/54337_0-228x228.jpg'},\n",
       " {'ProductName': 'Apple iMac 24\" ( Blue ) - Процесор:Apple M3 chip with 8-core CPU  /   GPU  10-core',\n",
       "  'ProductCode': 'Шифра: 59099',\n",
       "  'RegularPrice': '115,999 Ден.',\n",
       "  'HappyPrice': '104,999 Ден.',\n",
       "  'DiscountPercent': '-9%',\n",
       "  'PageLink': 'https://setec.mk/компјутери-и-it-опрема/конфигурации?product_id=59099',\n",
       "  'ImageLink': 'https://setec.mk/image/cache/catalog/Product/59099_0-228x228.jpg'},\n",
       " {'ProductName': 'Apple iMac 24\" ( Silver ) - Процесор:Apple M3 chip with 8-core CPU  /   GPU  10-core',\n",
       "  'ProductCode': 'Шифра: 57125',\n",
       "  'RegularPrice': '115,999 Ден.',\n",
       "  'HappyPrice': '104,999 Ден.',\n",
       "  'DiscountPercent': '-9%',\n",
       "  'PageLink': 'https://setec.mk/компјутери-и-it-опрема/конфигурации/apple-imac-24-silver-процесор:apple-m3-chip-with-8-core-cpu-gpu-10-core57125',\n",
       "  'ImageLink': 'https://setec.mk/image/cache/catalog/Product/57125_0-228x228.jpg'},\n",
       " {'ProductName': 'Lenovo Legion T5 26IRB8',\n",
       "  'ProductCode': 'Шифра: 58910',\n",
       "  'RegularPrice': '109,999 Ден.',\n",
       "  'HappyPrice': '104,999 Ден.',\n",
       "  'DiscountPercent': '-5%',\n",
       "  'PageLink': 'https://setec.mk/компјутери-и-it-опрема/конфигурации?product_id=58910',\n",
       "  'ImageLink': 'https://setec.mk/image/cache/catalog/Product/58910_0-228x228.jpg'},\n",
       " {'ProductName': 'Lenovo Legion T5 26ARA8',\n",
       "  'ProductCode': 'Шифра: 56986',\n",
       "  'RegularPrice': '124,999 Ден.',\n",
       "  'HappyPrice': '114,999 Ден.',\n",
       "  'DiscountPercent': '-8%',\n",
       "  'PageLink': 'https://setec.mk/компјутери-и-it-опрема/конфигурации?product_id=56986',\n",
       "  'ImageLink': 'https://setec.mk/image/cache/catalog/Product/56986_0-228x228.jpg'},\n",
       " {'ProductName': 'Lenovo Legion T5 26IRB8',\n",
       "  'ProductCode': 'Шифра: 59067',\n",
       "  'RegularPrice': '129,999 Ден.',\n",
       "  'HappyPrice': '124,999 Ден.',\n",
       "  'DiscountPercent': '-4%',\n",
       "  'PageLink': 'https://setec.mk/компјутери-и-it-опрема/конфигурации?product_id=59067',\n",
       "  'ImageLink': 'https://setec.mk/image/cache/catalog/Product/59067_0-228x228.jpg'},\n",
       " {'ProductName': 'Конфигурација INTEL GAMER BEAST',\n",
       "  'ProductCode': 'Шифра: 54338',\n",
       "  'RegularPrice': '149,999 Ден.',\n",
       "  'HappyPrice': '124,999 Ден.',\n",
       "  'DiscountPercent': '-17%',\n",
       "  'PageLink': 'https://setec.mk/компјутери-и-it-опрема/конфигурации/конфигурација-intel-gamer-beast-54338',\n",
       "  'ImageLink': 'https://setec.mk/image/cache/catalog/Product/54338_0-228x228.jpg'},\n",
       " {'ProductName': 'ASUS ROG STRIX GAMING PC G16CHR-S71470F3247S',\n",
       "  'ProductCode': 'Шифра: 59716',\n",
       "  'RegularPrice': '131,999 Ден.',\n",
       "  'HappyPrice': '127,999 Ден.',\n",
       "  'DiscountPercent': '-3%',\n",
       "  'PageLink': 'https://setec.mk/компјутери-и-it-опрема/конфигурации?product_id=59716',\n",
       "  'ImageLink': 'https://setec.mk/image/cache/catalog/Product/59716_0-228x228.jpg'},\n",
       " {'ProductName': 'Lenovo Legion T5 26IRB8',\n",
       "  'ProductCode': 'Шифра: 59068',\n",
       "  'RegularPrice': '159,999 Ден.',\n",
       "  'HappyPrice': '149,999 Ден.',\n",
       "  'DiscountPercent': '-6%',\n",
       "  'PageLink': 'https://setec.mk/компјутери-и-it-опрема/конфигурации?product_id=59068',\n",
       "  'ImageLink': 'https://setec.mk/image/cache/catalog/Product/59068_0-228x228.jpg'},\n",
       " {'ProductName': 'ASUS ROG STRIX GAMING PC G16CHR-SL91490KF6447S',\n",
       "  'ProductCode': 'Шифра: 59717',\n",
       "  'RegularPrice': '176,999 Ден.',\n",
       "  'HappyPrice': '169,999 Ден.',\n",
       "  'DiscountPercent': '-4%',\n",
       "  'PageLink': 'https://setec.mk/компјутери-и-it-опрема/конфигурации?product_id=59717',\n",
       "  'ImageLink': 'https://setec.mk/image/cache/catalog/Product/59717_0-228x228.jpg'},\n",
       " {'ProductName': 'Lenovo DT Legion T7 34IRZ8 (Storm Grey)',\n",
       "  'ProductCode': 'Шифра: 56939',\n",
       "  'RegularPrice': '199,999 Ден.',\n",
       "  'HappyPrice': '179,999 Ден.',\n",
       "  'DiscountPercent': '-10%',\n",
       "  'PageLink': 'https://setec.mk/компјутери-и-it-опрема/конфигурации/lenovo-dt-legion-t7-34irz8-storm-grey56939',\n",
       "  'ImageLink': 'https://setec.mk/image/cache/catalog/Product/56939_0-228x228.jpg'}]"
      ]
     },
     "execution_count": 98,
     "metadata": {},
     "output_type": "execute_result"
    }
   ],
   "source": [
    "parsed_products"
   ]
  },
  {
   "cell_type": "code",
   "execution_count": null,
   "metadata": {
    "id": "zO5TVtonKJ47"
   },
   "outputs": [],
   "source": [
    "df = pd.DataFrame(parsed_products)"
   ]
  },
  {
   "cell_type": "code",
   "execution_count": null,
   "metadata": {
    "colab": {
     "base_uri": "https://localhost:8080/",
     "height": 1000
    },
    "id": "r7_AlaRAKYwV",
    "outputId": "a68448d1-f4db-42fe-89c1-d7c8d57f2a7a"
   },
   "outputs": [
    {
     "data": {
      "application/vnd.google.colaboratory.intrinsic+json": {
       "summary": "{\n  \"name\": \"df\",\n  \"rows\": 19,\n  \"fields\": [\n    {\n      \"column\": \"ProductName\",\n      \"properties\": {\n        \"dtype\": \"string\",\n        \"num_unique_values\": 16,\n        \"samples\": [\n          \"Apple Mac mini M2 PRO -\",\n          \"ASUS GAMING PC G35DX-WB7730W  /  Win 11\",\n          \"\\u041a\\u043e\\u043d\\u0444\\u0438\\u0433\\u0443\\u0440\\u0430\\u0446\\u0438\\u0458\\u0430 INTEL GAMER WARRIOR\"\n        ],\n        \"semantic_type\": \"\",\n        \"description\": \"\"\n      }\n    },\n    {\n      \"column\": \"ProductCode\",\n      \"properties\": {\n        \"dtype\": \"string\",\n        \"num_unique_values\": 19,\n        \"samples\": [\n          \"\\u0428\\u0438\\u0444\\u0440\\u0430: 55218\",\n          \"\\u0428\\u0438\\u0444\\u0440\\u0430: 57467\",\n          \"\\u0428\\u0438\\u0444\\u0440\\u0430: 58910\"\n        ],\n        \"semantic_type\": \"\",\n        \"description\": \"\"\n      }\n    },\n    {\n      \"column\": \"RegularPrice\",\n      \"properties\": {\n        \"dtype\": \"string\",\n        \"num_unique_values\": 12,\n        \"samples\": [\n          \"176,999 \\u0414\\u0435\\u043d.\",\n          \"159,999 \\u0414\\u0435\\u043d.\",\n          \"99,999 \\u0414\\u0435\\u043d.\"\n        ],\n        \"semantic_type\": \"\",\n        \"description\": \"\"\n      }\n    },\n    {\n      \"column\": \"HappyPrice\",\n      \"properties\": {\n        \"dtype\": \"string\",\n        \"num_unique_values\": 12,\n        \"samples\": [\n          \"169,999 \\u0414\\u0435\\u043d.\",\n          \"149,999 \\u0414\\u0435\\u043d.\",\n          \"89,999 \\u0414\\u0435\\u043d.\"\n        ],\n        \"semantic_type\": \"\",\n        \"description\": \"\"\n      }\n    },\n    {\n      \"column\": \"DiscountPercent\",\n      \"properties\": {\n        \"dtype\": \"string\",\n        \"num_unique_values\": 10,\n        \"samples\": [\n          \"-4%\",\n          \"-7%\",\n          \"-9%\"\n        ],\n        \"semantic_type\": \"\",\n        \"description\": \"\"\n      }\n    },\n    {\n      \"column\": \"PageLink\",\n      \"properties\": {\n        \"dtype\": \"string\",\n        \"num_unique_values\": 19,\n        \"samples\": [\n          \"https://setec.mk/\\u043a\\u043e\\u043c\\u043f\\u0458\\u0443\\u0442\\u0435\\u0440\\u0438-\\u0438-it-\\u043e\\u043f\\u0440\\u0435\\u043c\\u0430/\\u043a\\u043e\\u043d\\u0444\\u0438\\u0433\\u0443\\u0440\\u0430\\u0446\\u0438\\u0438/apple-mac-mini-m2-pro-55218\",\n          \"https://setec.mk/\\u043a\\u043e\\u043c\\u043f\\u0458\\u0443\\u0442\\u0435\\u0440\\u0438-\\u0438-it-\\u043e\\u043f\\u0440\\u0435\\u043c\\u0430/\\u043a\\u043e\\u043d\\u0444\\u0438\\u0433\\u0443\\u0440\\u0430\\u0446\\u0438\\u0438/\\u043a\\u043e\\u043d\\u0444\\u0438\\u0433\\u0443\\u0440\\u0430\\u0446\\u0438\\u0458\\u0430-intel-gamer-warrior-57467\",\n          \"https://setec.mk/\\u043a\\u043e\\u043c\\u043f\\u0458\\u0443\\u0442\\u0435\\u0440\\u0438-\\u0438-it-\\u043e\\u043f\\u0440\\u0435\\u043c\\u0430/\\u043a\\u043e\\u043d\\u0444\\u0438\\u0433\\u0443\\u0440\\u0430\\u0446\\u0438\\u0438?product_id=58910\"\n        ],\n        \"semantic_type\": \"\",\n        \"description\": \"\"\n      }\n    },\n    {\n      \"column\": \"ImageLink\",\n      \"properties\": {\n        \"dtype\": \"string\",\n        \"num_unique_values\": 19,\n        \"samples\": [\n          \"https://setec.mk/image/cache/catalog/Product/55218_0-228x228.jpg\",\n          \"https://setec.mk/image/cache/catalog/Product/57467_0-228x228.jpg\",\n          \"https://setec.mk/image/cache/catalog/Product/58910_0-228x228.jpg\"\n        ],\n        \"semantic_type\": \"\",\n        \"description\": \"\"\n      }\n    }\n  ]\n}",
       "type": "dataframe",
       "variable_name": "df"
      },
      "text/html": [
       "\n",
       "  <div id=\"df-af111199-c3ac-4a03-934a-1cc1ad1f93ae\" class=\"colab-df-container\">\n",
       "    <div>\n",
       "<style scoped>\n",
       "    .dataframe tbody tr th:only-of-type {\n",
       "        vertical-align: middle;\n",
       "    }\n",
       "\n",
       "    .dataframe tbody tr th {\n",
       "        vertical-align: top;\n",
       "    }\n",
       "\n",
       "    .dataframe thead th {\n",
       "        text-align: right;\n",
       "    }\n",
       "</style>\n",
       "<table border=\"1\" class=\"dataframe\">\n",
       "  <thead>\n",
       "    <tr style=\"text-align: right;\">\n",
       "      <th></th>\n",
       "      <th>ProductName</th>\n",
       "      <th>ProductCode</th>\n",
       "      <th>RegularPrice</th>\n",
       "      <th>HappyPrice</th>\n",
       "      <th>DiscountPercent</th>\n",
       "      <th>PageLink</th>\n",
       "      <th>ImageLink</th>\n",
       "    </tr>\n",
       "  </thead>\n",
       "  <tbody>\n",
       "    <tr>\n",
       "      <th>0</th>\n",
       "      <td>Apple Mac mini M2 PRO -</td>\n",
       "      <td>Шифра: 55218</td>\n",
       "      <td>99,999 Ден.</td>\n",
       "      <td>89,999 Ден.</td>\n",
       "      <td>-10%</td>\n",
       "      <td>https://setec.mk/компјутери-и-it-опрема/конфиг...</td>\n",
       "      <td>https://setec.mk/image/cache/catalog/Product/5...</td>\n",
       "    </tr>\n",
       "    <tr>\n",
       "      <th>1</th>\n",
       "      <td>ASUS GAMING PC G35DX-WB7730W  /  Win 11</td>\n",
       "      <td>Шифра: 52738</td>\n",
       "      <td>99,999 Ден.</td>\n",
       "      <td>89,999 Ден.</td>\n",
       "      <td>-10%</td>\n",
       "      <td>https://setec.mk/компјутери-и-it-опрема/конфиг...</td>\n",
       "      <td>https://setec.mk/image/cache/catalog/Product/5...</td>\n",
       "    </tr>\n",
       "    <tr>\n",
       "      <th>2</th>\n",
       "      <td>Lenovo Legion T5 26ARA8</td>\n",
       "      <td>Шифра: 56987</td>\n",
       "      <td>99,999 Ден.</td>\n",
       "      <td>92,999 Ден.</td>\n",
       "      <td>-7%</td>\n",
       "      <td>https://setec.mk/компјутери-и-it-опрема/конфиг...</td>\n",
       "      <td>https://setec.mk/image/cache/catalog/Product/5...</td>\n",
       "    </tr>\n",
       "    <tr>\n",
       "      <th>3</th>\n",
       "      <td>Apple iMac 24\" ( Blue ) - Процесор:Apple M3 ch...</td>\n",
       "      <td>Шифра: 59281</td>\n",
       "      <td>99,999 Ден.</td>\n",
       "      <td>94,999 Ден.</td>\n",
       "      <td>-5%</td>\n",
       "      <td>https://setec.mk/компјутери-и-it-опрема/конфиг...</td>\n",
       "      <td>https://setec.mk/image/cache/catalog/Product/5...</td>\n",
       "    </tr>\n",
       "    <tr>\n",
       "      <th>4</th>\n",
       "      <td>Apple iMac 24\" ( Green ) - Процесор:Apple M3 c...</td>\n",
       "      <td>Шифра: 59100</td>\n",
       "      <td>99,999 Ден.</td>\n",
       "      <td>94,999 Ден.</td>\n",
       "      <td>-5%</td>\n",
       "      <td>https://setec.mk/компјутери-и-it-опрема/конфиг...</td>\n",
       "      <td>https://setec.mk/image/cache/catalog/Product/5...</td>\n",
       "    </tr>\n",
       "    <tr>\n",
       "      <th>5</th>\n",
       "      <td>Конфигурација INTEL GAMER WARRIOR</td>\n",
       "      <td>Шифра: 57467</td>\n",
       "      <td>97,999 Ден.</td>\n",
       "      <td>94,999 Ден.</td>\n",
       "      <td>-3%</td>\n",
       "      <td>https://setec.mk/компјутери-и-it-опрема/конфиг...</td>\n",
       "      <td>https://setec.mk/image/cache/catalog/Product/5...</td>\n",
       "    </tr>\n",
       "    <tr>\n",
       "      <th>6</th>\n",
       "      <td>ASUS ROG STRIX GAMING PC G13CHR-M71470F16465</td>\n",
       "      <td>Шифра: 59715</td>\n",
       "      <td>99,999 Ден.</td>\n",
       "      <td>97,999 Ден.</td>\n",
       "      <td>-2%</td>\n",
       "      <td>https://setec.mk/компјутери-и-it-опрема/конфиг...</td>\n",
       "      <td>https://setec.mk/image/cache/catalog/Product/5...</td>\n",
       "    </tr>\n",
       "    <tr>\n",
       "      <th>7</th>\n",
       "      <td>ASUS GAMING PC G15DS-WB7722W  /  Win 11</td>\n",
       "      <td>Шифра: 55819</td>\n",
       "      <td>109,999 Ден.</td>\n",
       "      <td>99,999 Ден.</td>\n",
       "      <td>-9%</td>\n",
       "      <td>https://setec.mk/компјутери-и-it-опрема/конфиг...</td>\n",
       "      <td>https://setec.mk/image/cache/catalog/Product/5...</td>\n",
       "    </tr>\n",
       "    <tr>\n",
       "      <th>8</th>\n",
       "      <td>Конфигурација INTEL GAMER EXTREME</td>\n",
       "      <td>Шифра: 54337</td>\n",
       "      <td>119,999 Ден.</td>\n",
       "      <td>99,999 Ден.</td>\n",
       "      <td>-17%</td>\n",
       "      <td>https://setec.mk/компјутери-и-it-опрема/конфиг...</td>\n",
       "      <td>https://setec.mk/image/cache/catalog/Product/5...</td>\n",
       "    </tr>\n",
       "    <tr>\n",
       "      <th>9</th>\n",
       "      <td>Apple iMac 24\" ( Blue ) - Процесор:Apple M3 ch...</td>\n",
       "      <td>Шифра: 59099</td>\n",
       "      <td>115,999 Ден.</td>\n",
       "      <td>104,999 Ден.</td>\n",
       "      <td>-9%</td>\n",
       "      <td>https://setec.mk/компјутери-и-it-опрема/конфиг...</td>\n",
       "      <td>https://setec.mk/image/cache/catalog/Product/5...</td>\n",
       "    </tr>\n",
       "    <tr>\n",
       "      <th>10</th>\n",
       "      <td>Apple iMac 24\" ( Silver ) - Процесор:Apple M3 ...</td>\n",
       "      <td>Шифра: 57125</td>\n",
       "      <td>115,999 Ден.</td>\n",
       "      <td>104,999 Ден.</td>\n",
       "      <td>-9%</td>\n",
       "      <td>https://setec.mk/компјутери-и-it-опрема/конфиг...</td>\n",
       "      <td>https://setec.mk/image/cache/catalog/Product/5...</td>\n",
       "    </tr>\n",
       "    <tr>\n",
       "      <th>11</th>\n",
       "      <td>Lenovo Legion T5 26IRB8</td>\n",
       "      <td>Шифра: 58910</td>\n",
       "      <td>109,999 Ден.</td>\n",
       "      <td>104,999 Ден.</td>\n",
       "      <td>-5%</td>\n",
       "      <td>https://setec.mk/компјутери-и-it-опрема/конфиг...</td>\n",
       "      <td>https://setec.mk/image/cache/catalog/Product/5...</td>\n",
       "    </tr>\n",
       "    <tr>\n",
       "      <th>12</th>\n",
       "      <td>Lenovo Legion T5 26ARA8</td>\n",
       "      <td>Шифра: 56986</td>\n",
       "      <td>124,999 Ден.</td>\n",
       "      <td>114,999 Ден.</td>\n",
       "      <td>-8%</td>\n",
       "      <td>https://setec.mk/компјутери-и-it-опрема/конфиг...</td>\n",
       "      <td>https://setec.mk/image/cache/catalog/Product/5...</td>\n",
       "    </tr>\n",
       "    <tr>\n",
       "      <th>13</th>\n",
       "      <td>Lenovo Legion T5 26IRB8</td>\n",
       "      <td>Шифра: 59067</td>\n",
       "      <td>129,999 Ден.</td>\n",
       "      <td>124,999 Ден.</td>\n",
       "      <td>-4%</td>\n",
       "      <td>https://setec.mk/компјутери-и-it-опрема/конфиг...</td>\n",
       "      <td>https://setec.mk/image/cache/catalog/Product/5...</td>\n",
       "    </tr>\n",
       "    <tr>\n",
       "      <th>14</th>\n",
       "      <td>Конфигурација INTEL GAMER BEAST</td>\n",
       "      <td>Шифра: 54338</td>\n",
       "      <td>149,999 Ден.</td>\n",
       "      <td>124,999 Ден.</td>\n",
       "      <td>-17%</td>\n",
       "      <td>https://setec.mk/компјутери-и-it-опрема/конфиг...</td>\n",
       "      <td>https://setec.mk/image/cache/catalog/Product/5...</td>\n",
       "    </tr>\n",
       "    <tr>\n",
       "      <th>15</th>\n",
       "      <td>ASUS ROG STRIX GAMING PC G16CHR-S71470F3247S</td>\n",
       "      <td>Шифра: 59716</td>\n",
       "      <td>131,999 Ден.</td>\n",
       "      <td>127,999 Ден.</td>\n",
       "      <td>-3%</td>\n",
       "      <td>https://setec.mk/компјутери-и-it-опрема/конфиг...</td>\n",
       "      <td>https://setec.mk/image/cache/catalog/Product/5...</td>\n",
       "    </tr>\n",
       "    <tr>\n",
       "      <th>16</th>\n",
       "      <td>Lenovo Legion T5 26IRB8</td>\n",
       "      <td>Шифра: 59068</td>\n",
       "      <td>159,999 Ден.</td>\n",
       "      <td>149,999 Ден.</td>\n",
       "      <td>-6%</td>\n",
       "      <td>https://setec.mk/компјутери-и-it-опрема/конфиг...</td>\n",
       "      <td>https://setec.mk/image/cache/catalog/Product/5...</td>\n",
       "    </tr>\n",
       "    <tr>\n",
       "      <th>17</th>\n",
       "      <td>ASUS ROG STRIX GAMING PC G16CHR-SL91490KF6447S</td>\n",
       "      <td>Шифра: 59717</td>\n",
       "      <td>176,999 Ден.</td>\n",
       "      <td>169,999 Ден.</td>\n",
       "      <td>-4%</td>\n",
       "      <td>https://setec.mk/компјутери-и-it-опрема/конфиг...</td>\n",
       "      <td>https://setec.mk/image/cache/catalog/Product/5...</td>\n",
       "    </tr>\n",
       "    <tr>\n",
       "      <th>18</th>\n",
       "      <td>Lenovo DT Legion T7 34IRZ8 (Storm Grey)</td>\n",
       "      <td>Шифра: 56939</td>\n",
       "      <td>199,999 Ден.</td>\n",
       "      <td>179,999 Ден.</td>\n",
       "      <td>-10%</td>\n",
       "      <td>https://setec.mk/компјутери-и-it-опрема/конфиг...</td>\n",
       "      <td>https://setec.mk/image/cache/catalog/Product/5...</td>\n",
       "    </tr>\n",
       "  </tbody>\n",
       "</table>\n",
       "</div>\n",
       "    <div class=\"colab-df-buttons\">\n",
       "\n",
       "  <div class=\"colab-df-container\">\n",
       "    <button class=\"colab-df-convert\" onclick=\"convertToInteractive('df-af111199-c3ac-4a03-934a-1cc1ad1f93ae')\"\n",
       "            title=\"Convert this dataframe to an interactive table.\"\n",
       "            style=\"display:none;\">\n",
       "\n",
       "  <svg xmlns=\"http://www.w3.org/2000/svg\" height=\"24px\" viewBox=\"0 -960 960 960\">\n",
       "    <path d=\"M120-120v-720h720v720H120Zm60-500h600v-160H180v160Zm220 220h160v-160H400v160Zm0 220h160v-160H400v160ZM180-400h160v-160H180v160Zm440 0h160v-160H620v160ZM180-180h160v-160H180v160Zm440 0h160v-160H620v160Z\"/>\n",
       "  </svg>\n",
       "    </button>\n",
       "\n",
       "  <style>\n",
       "    .colab-df-container {\n",
       "      display:flex;\n",
       "      gap: 12px;\n",
       "    }\n",
       "\n",
       "    .colab-df-convert {\n",
       "      background-color: #E8F0FE;\n",
       "      border: none;\n",
       "      border-radius: 50%;\n",
       "      cursor: pointer;\n",
       "      display: none;\n",
       "      fill: #1967D2;\n",
       "      height: 32px;\n",
       "      padding: 0 0 0 0;\n",
       "      width: 32px;\n",
       "    }\n",
       "\n",
       "    .colab-df-convert:hover {\n",
       "      background-color: #E2EBFA;\n",
       "      box-shadow: 0px 1px 2px rgba(60, 64, 67, 0.3), 0px 1px 3px 1px rgba(60, 64, 67, 0.15);\n",
       "      fill: #174EA6;\n",
       "    }\n",
       "\n",
       "    .colab-df-buttons div {\n",
       "      margin-bottom: 4px;\n",
       "    }\n",
       "\n",
       "    [theme=dark] .colab-df-convert {\n",
       "      background-color: #3B4455;\n",
       "      fill: #D2E3FC;\n",
       "    }\n",
       "\n",
       "    [theme=dark] .colab-df-convert:hover {\n",
       "      background-color: #434B5C;\n",
       "      box-shadow: 0px 1px 3px 1px rgba(0, 0, 0, 0.15);\n",
       "      filter: drop-shadow(0px 1px 2px rgba(0, 0, 0, 0.3));\n",
       "      fill: #FFFFFF;\n",
       "    }\n",
       "  </style>\n",
       "\n",
       "    <script>\n",
       "      const buttonEl =\n",
       "        document.querySelector('#df-af111199-c3ac-4a03-934a-1cc1ad1f93ae button.colab-df-convert');\n",
       "      buttonEl.style.display =\n",
       "        google.colab.kernel.accessAllowed ? 'block' : 'none';\n",
       "\n",
       "      async function convertToInteractive(key) {\n",
       "        const element = document.querySelector('#df-af111199-c3ac-4a03-934a-1cc1ad1f93ae');\n",
       "        const dataTable =\n",
       "          await google.colab.kernel.invokeFunction('convertToInteractive',\n",
       "                                                    [key], {});\n",
       "        if (!dataTable) return;\n",
       "\n",
       "        const docLinkHtml = 'Like what you see? Visit the ' +\n",
       "          '<a target=\"_blank\" href=https://colab.research.google.com/notebooks/data_table.ipynb>data table notebook</a>'\n",
       "          + ' to learn more about interactive tables.';\n",
       "        element.innerHTML = '';\n",
       "        dataTable['output_type'] = 'display_data';\n",
       "        await google.colab.output.renderOutput(dataTable, element);\n",
       "        const docLink = document.createElement('div');\n",
       "        docLink.innerHTML = docLinkHtml;\n",
       "        element.appendChild(docLink);\n",
       "      }\n",
       "    </script>\n",
       "  </div>\n",
       "\n",
       "\n",
       "<div id=\"df-071b6a21-1c10-4458-b8af-84dc97dfd4c0\">\n",
       "  <button class=\"colab-df-quickchart\" onclick=\"quickchart('df-071b6a21-1c10-4458-b8af-84dc97dfd4c0')\"\n",
       "            title=\"Suggest charts\"\n",
       "            style=\"display:none;\">\n",
       "\n",
       "<svg xmlns=\"http://www.w3.org/2000/svg\" height=\"24px\"viewBox=\"0 0 24 24\"\n",
       "     width=\"24px\">\n",
       "    <g>\n",
       "        <path d=\"M19 3H5c-1.1 0-2 .9-2 2v14c0 1.1.9 2 2 2h14c1.1 0 2-.9 2-2V5c0-1.1-.9-2-2-2zM9 17H7v-7h2v7zm4 0h-2V7h2v10zm4 0h-2v-4h2v4z\"/>\n",
       "    </g>\n",
       "</svg>\n",
       "  </button>\n",
       "\n",
       "<style>\n",
       "  .colab-df-quickchart {\n",
       "      --bg-color: #E8F0FE;\n",
       "      --fill-color: #1967D2;\n",
       "      --hover-bg-color: #E2EBFA;\n",
       "      --hover-fill-color: #174EA6;\n",
       "      --disabled-fill-color: #AAA;\n",
       "      --disabled-bg-color: #DDD;\n",
       "  }\n",
       "\n",
       "  [theme=dark] .colab-df-quickchart {\n",
       "      --bg-color: #3B4455;\n",
       "      --fill-color: #D2E3FC;\n",
       "      --hover-bg-color: #434B5C;\n",
       "      --hover-fill-color: #FFFFFF;\n",
       "      --disabled-bg-color: #3B4455;\n",
       "      --disabled-fill-color: #666;\n",
       "  }\n",
       "\n",
       "  .colab-df-quickchart {\n",
       "    background-color: var(--bg-color);\n",
       "    border: none;\n",
       "    border-radius: 50%;\n",
       "    cursor: pointer;\n",
       "    display: none;\n",
       "    fill: var(--fill-color);\n",
       "    height: 32px;\n",
       "    padding: 0;\n",
       "    width: 32px;\n",
       "  }\n",
       "\n",
       "  .colab-df-quickchart:hover {\n",
       "    background-color: var(--hover-bg-color);\n",
       "    box-shadow: 0 1px 2px rgba(60, 64, 67, 0.3), 0 1px 3px 1px rgba(60, 64, 67, 0.15);\n",
       "    fill: var(--button-hover-fill-color);\n",
       "  }\n",
       "\n",
       "  .colab-df-quickchart-complete:disabled,\n",
       "  .colab-df-quickchart-complete:disabled:hover {\n",
       "    background-color: var(--disabled-bg-color);\n",
       "    fill: var(--disabled-fill-color);\n",
       "    box-shadow: none;\n",
       "  }\n",
       "\n",
       "  .colab-df-spinner {\n",
       "    border: 2px solid var(--fill-color);\n",
       "    border-color: transparent;\n",
       "    border-bottom-color: var(--fill-color);\n",
       "    animation:\n",
       "      spin 1s steps(1) infinite;\n",
       "  }\n",
       "\n",
       "  @keyframes spin {\n",
       "    0% {\n",
       "      border-color: transparent;\n",
       "      border-bottom-color: var(--fill-color);\n",
       "      border-left-color: var(--fill-color);\n",
       "    }\n",
       "    20% {\n",
       "      border-color: transparent;\n",
       "      border-left-color: var(--fill-color);\n",
       "      border-top-color: var(--fill-color);\n",
       "    }\n",
       "    30% {\n",
       "      border-color: transparent;\n",
       "      border-left-color: var(--fill-color);\n",
       "      border-top-color: var(--fill-color);\n",
       "      border-right-color: var(--fill-color);\n",
       "    }\n",
       "    40% {\n",
       "      border-color: transparent;\n",
       "      border-right-color: var(--fill-color);\n",
       "      border-top-color: var(--fill-color);\n",
       "    }\n",
       "    60% {\n",
       "      border-color: transparent;\n",
       "      border-right-color: var(--fill-color);\n",
       "    }\n",
       "    80% {\n",
       "      border-color: transparent;\n",
       "      border-right-color: var(--fill-color);\n",
       "      border-bottom-color: var(--fill-color);\n",
       "    }\n",
       "    90% {\n",
       "      border-color: transparent;\n",
       "      border-bottom-color: var(--fill-color);\n",
       "    }\n",
       "  }\n",
       "</style>\n",
       "\n",
       "  <script>\n",
       "    async function quickchart(key) {\n",
       "      const quickchartButtonEl =\n",
       "        document.querySelector('#' + key + ' button');\n",
       "      quickchartButtonEl.disabled = true;  // To prevent multiple clicks.\n",
       "      quickchartButtonEl.classList.add('colab-df-spinner');\n",
       "      try {\n",
       "        const charts = await google.colab.kernel.invokeFunction(\n",
       "            'suggestCharts', [key], {});\n",
       "      } catch (error) {\n",
       "        console.error('Error during call to suggestCharts:', error);\n",
       "      }\n",
       "      quickchartButtonEl.classList.remove('colab-df-spinner');\n",
       "      quickchartButtonEl.classList.add('colab-df-quickchart-complete');\n",
       "    }\n",
       "    (() => {\n",
       "      let quickchartButtonEl =\n",
       "        document.querySelector('#df-071b6a21-1c10-4458-b8af-84dc97dfd4c0 button');\n",
       "      quickchartButtonEl.style.display =\n",
       "        google.colab.kernel.accessAllowed ? 'block' : 'none';\n",
       "    })();\n",
       "  </script>\n",
       "</div>\n",
       "    </div>\n",
       "  </div>\n"
      ],
      "text/plain": [
       "                                          ProductName   ProductCode  \\\n",
       "0                             Apple Mac mini M2 PRO -  Шифра: 55218   \n",
       "1             ASUS GAMING PC G35DX-WB7730W  /  Win 11  Шифра: 52738   \n",
       "2                             Lenovo Legion T5 26ARA8  Шифра: 56987   \n",
       "3   Apple iMac 24\" ( Blue ) - Процесор:Apple M3 ch...  Шифра: 59281   \n",
       "4   Apple iMac 24\" ( Green ) - Процесор:Apple M3 c...  Шифра: 59100   \n",
       "5                   Конфигурација INTEL GAMER WARRIOR  Шифра: 57467   \n",
       "6        ASUS ROG STRIX GAMING PC G13CHR-M71470F16465  Шифра: 59715   \n",
       "7             ASUS GAMING PC G15DS-WB7722W  /  Win 11  Шифра: 55819   \n",
       "8                   Конфигурација INTEL GAMER EXTREME  Шифра: 54337   \n",
       "9   Apple iMac 24\" ( Blue ) - Процесор:Apple M3 ch...  Шифра: 59099   \n",
       "10  Apple iMac 24\" ( Silver ) - Процесор:Apple M3 ...  Шифра: 57125   \n",
       "11                            Lenovo Legion T5 26IRB8  Шифра: 58910   \n",
       "12                            Lenovo Legion T5 26ARA8  Шифра: 56986   \n",
       "13                            Lenovo Legion T5 26IRB8  Шифра: 59067   \n",
       "14                    Конфигурација INTEL GAMER BEAST  Шифра: 54338   \n",
       "15       ASUS ROG STRIX GAMING PC G16CHR-S71470F3247S  Шифра: 59716   \n",
       "16                            Lenovo Legion T5 26IRB8  Шифра: 59068   \n",
       "17     ASUS ROG STRIX GAMING PC G16CHR-SL91490KF6447S  Шифра: 59717   \n",
       "18            Lenovo DT Legion T7 34IRZ8 (Storm Grey)  Шифра: 56939   \n",
       "\n",
       "    RegularPrice    HappyPrice DiscountPercent  \\\n",
       "0    99,999 Ден.   89,999 Ден.            -10%   \n",
       "1    99,999 Ден.   89,999 Ден.            -10%   \n",
       "2    99,999 Ден.   92,999 Ден.             -7%   \n",
       "3    99,999 Ден.   94,999 Ден.             -5%   \n",
       "4    99,999 Ден.   94,999 Ден.             -5%   \n",
       "5    97,999 Ден.   94,999 Ден.             -3%   \n",
       "6    99,999 Ден.   97,999 Ден.             -2%   \n",
       "7   109,999 Ден.   99,999 Ден.             -9%   \n",
       "8   119,999 Ден.   99,999 Ден.            -17%   \n",
       "9   115,999 Ден.  104,999 Ден.             -9%   \n",
       "10  115,999 Ден.  104,999 Ден.             -9%   \n",
       "11  109,999 Ден.  104,999 Ден.             -5%   \n",
       "12  124,999 Ден.  114,999 Ден.             -8%   \n",
       "13  129,999 Ден.  124,999 Ден.             -4%   \n",
       "14  149,999 Ден.  124,999 Ден.            -17%   \n",
       "15  131,999 Ден.  127,999 Ден.             -3%   \n",
       "16  159,999 Ден.  149,999 Ден.             -6%   \n",
       "17  176,999 Ден.  169,999 Ден.             -4%   \n",
       "18  199,999 Ден.  179,999 Ден.            -10%   \n",
       "\n",
       "                                             PageLink  \\\n",
       "0   https://setec.mk/компјутери-и-it-опрема/конфиг...   \n",
       "1   https://setec.mk/компјутери-и-it-опрема/конфиг...   \n",
       "2   https://setec.mk/компјутери-и-it-опрема/конфиг...   \n",
       "3   https://setec.mk/компјутери-и-it-опрема/конфиг...   \n",
       "4   https://setec.mk/компјутери-и-it-опрема/конфиг...   \n",
       "5   https://setec.mk/компјутери-и-it-опрема/конфиг...   \n",
       "6   https://setec.mk/компјутери-и-it-опрема/конфиг...   \n",
       "7   https://setec.mk/компјутери-и-it-опрема/конфиг...   \n",
       "8   https://setec.mk/компјутери-и-it-опрема/конфиг...   \n",
       "9   https://setec.mk/компјутери-и-it-опрема/конфиг...   \n",
       "10  https://setec.mk/компјутери-и-it-опрема/конфиг...   \n",
       "11  https://setec.mk/компјутери-и-it-опрема/конфиг...   \n",
       "12  https://setec.mk/компјутери-и-it-опрема/конфиг...   \n",
       "13  https://setec.mk/компјутери-и-it-опрема/конфиг...   \n",
       "14  https://setec.mk/компјутери-и-it-опрема/конфиг...   \n",
       "15  https://setec.mk/компјутери-и-it-опрема/конфиг...   \n",
       "16  https://setec.mk/компјутери-и-it-опрема/конфиг...   \n",
       "17  https://setec.mk/компјутери-и-it-опрема/конфиг...   \n",
       "18  https://setec.mk/компјутери-и-it-опрема/конфиг...   \n",
       "\n",
       "                                            ImageLink  \n",
       "0   https://setec.mk/image/cache/catalog/Product/5...  \n",
       "1   https://setec.mk/image/cache/catalog/Product/5...  \n",
       "2   https://setec.mk/image/cache/catalog/Product/5...  \n",
       "3   https://setec.mk/image/cache/catalog/Product/5...  \n",
       "4   https://setec.mk/image/cache/catalog/Product/5...  \n",
       "5   https://setec.mk/image/cache/catalog/Product/5...  \n",
       "6   https://setec.mk/image/cache/catalog/Product/5...  \n",
       "7   https://setec.mk/image/cache/catalog/Product/5...  \n",
       "8   https://setec.mk/image/cache/catalog/Product/5...  \n",
       "9   https://setec.mk/image/cache/catalog/Product/5...  \n",
       "10  https://setec.mk/image/cache/catalog/Product/5...  \n",
       "11  https://setec.mk/image/cache/catalog/Product/5...  \n",
       "12  https://setec.mk/image/cache/catalog/Product/5...  \n",
       "13  https://setec.mk/image/cache/catalog/Product/5...  \n",
       "14  https://setec.mk/image/cache/catalog/Product/5...  \n",
       "15  https://setec.mk/image/cache/catalog/Product/5...  \n",
       "16  https://setec.mk/image/cache/catalog/Product/5...  \n",
       "17  https://setec.mk/image/cache/catalog/Product/5...  \n",
       "18  https://setec.mk/image/cache/catalog/Product/5...  "
      ]
     },
     "execution_count": 100,
     "metadata": {},
     "output_type": "execute_result"
    }
   ],
   "source": [
    "df"
   ]
  },
  {
   "cell_type": "code",
   "execution_count": null,
   "metadata": {
    "colab": {
     "base_uri": "https://localhost:8080/",
     "height": 710
    },
    "id": "VjHvmj5hKZJS",
    "outputId": "9f77d2b9-ccfe-431e-9f4c-4f19dc1e0def"
   },
   "outputs": [
    {
     "data": {
      "application/vnd.google.colaboratory.intrinsic+json": {
       "summary": "{\n  \"name\": \"df\",\n  \"rows\": 19,\n  \"fields\": [\n    {\n      \"column\": \"ProductName\",\n      \"properties\": {\n        \"dtype\": \"string\",\n        \"num_unique_values\": 16,\n        \"samples\": [\n          \"Apple Mac mini M2 PRO -\",\n          \"ASUS GAMING PC G35DX-WB7730W  /  Win 11\",\n          \"\\u041a\\u043e\\u043d\\u0444\\u0438\\u0433\\u0443\\u0440\\u0430\\u0446\\u0438\\u0458\\u0430 INTEL GAMER WARRIOR\"\n        ],\n        \"semantic_type\": \"\",\n        \"description\": \"\"\n      }\n    },\n    {\n      \"column\": \"ProductCode\",\n      \"properties\": {\n        \"dtype\": \"string\",\n        \"num_unique_values\": 19,\n        \"samples\": [\n          \"\\u0428\\u0438\\u0444\\u0440\\u0430: 55218\",\n          \"\\u0428\\u0438\\u0444\\u0440\\u0430: 57467\",\n          \"\\u0428\\u0438\\u0444\\u0440\\u0430: 58910\"\n        ],\n        \"semantic_type\": \"\",\n        \"description\": \"\"\n      }\n    },\n    {\n      \"column\": \"RegularPrice\",\n      \"properties\": {\n        \"dtype\": \"string\",\n        \"num_unique_values\": 12,\n        \"samples\": [\n          \"176,999 \\u0414\\u0435\\u043d.\",\n          \"159,999 \\u0414\\u0435\\u043d.\",\n          \"99,999 \\u0414\\u0435\\u043d.\"\n        ],\n        \"semantic_type\": \"\",\n        \"description\": \"\"\n      }\n    },\n    {\n      \"column\": \"HappyPrice\",\n      \"properties\": {\n        \"dtype\": \"string\",\n        \"num_unique_values\": 12,\n        \"samples\": [\n          \"169,999 \\u0414\\u0435\\u043d.\",\n          \"149,999 \\u0414\\u0435\\u043d.\",\n          \"89,999 \\u0414\\u0435\\u043d.\"\n        ],\n        \"semantic_type\": \"\",\n        \"description\": \"\"\n      }\n    },\n    {\n      \"column\": \"DiscountPercent\",\n      \"properties\": {\n        \"dtype\": \"string\",\n        \"num_unique_values\": 10,\n        \"samples\": [\n          \"-4%\",\n          \"-7%\",\n          \"-9%\"\n        ],\n        \"semantic_type\": \"\",\n        \"description\": \"\"\n      }\n    },\n    {\n      \"column\": \"PageLink\",\n      \"properties\": {\n        \"dtype\": \"string\",\n        \"num_unique_values\": 19,\n        \"samples\": [\n          \"https://setec.mk/\\u043a\\u043e\\u043c\\u043f\\u0458\\u0443\\u0442\\u0435\\u0440\\u0438-\\u0438-it-\\u043e\\u043f\\u0440\\u0435\\u043c\\u0430/\\u043a\\u043e\\u043d\\u0444\\u0438\\u0433\\u0443\\u0440\\u0430\\u0446\\u0438\\u0438/apple-mac-mini-m2-pro-55218\",\n          \"https://setec.mk/\\u043a\\u043e\\u043c\\u043f\\u0458\\u0443\\u0442\\u0435\\u0440\\u0438-\\u0438-it-\\u043e\\u043f\\u0440\\u0435\\u043c\\u0430/\\u043a\\u043e\\u043d\\u0444\\u0438\\u0433\\u0443\\u0440\\u0430\\u0446\\u0438\\u0438/\\u043a\\u043e\\u043d\\u0444\\u0438\\u0433\\u0443\\u0440\\u0430\\u0446\\u0438\\u0458\\u0430-intel-gamer-warrior-57467\",\n          \"https://setec.mk/\\u043a\\u043e\\u043c\\u043f\\u0458\\u0443\\u0442\\u0435\\u0440\\u0438-\\u0438-it-\\u043e\\u043f\\u0440\\u0435\\u043c\\u0430/\\u043a\\u043e\\u043d\\u0444\\u0438\\u0433\\u0443\\u0440\\u0430\\u0446\\u0438\\u0438?product_id=58910\"\n        ],\n        \"semantic_type\": \"\",\n        \"description\": \"\"\n      }\n    },\n    {\n      \"column\": \"ImageLink\",\n      \"properties\": {\n        \"dtype\": \"string\",\n        \"num_unique_values\": 19,\n        \"samples\": [\n          \"https://setec.mk/image/cache/catalog/Product/55218_0-228x228.jpg\",\n          \"https://setec.mk/image/cache/catalog/Product/57467_0-228x228.jpg\",\n          \"https://setec.mk/image/cache/catalog/Product/58910_0-228x228.jpg\"\n        ],\n        \"semantic_type\": \"\",\n        \"description\": \"\"\n      }\n    }\n  ]\n}",
       "type": "dataframe",
       "variable_name": "df"
      },
      "text/html": [
       "\n",
       "  <div id=\"df-53c25abf-3dce-4b56-9d45-fb997205d775\" class=\"colab-df-container\">\n",
       "    <div>\n",
       "<style scoped>\n",
       "    .dataframe tbody tr th:only-of-type {\n",
       "        vertical-align: middle;\n",
       "    }\n",
       "\n",
       "    .dataframe tbody tr th {\n",
       "        vertical-align: top;\n",
       "    }\n",
       "\n",
       "    .dataframe thead th {\n",
       "        text-align: right;\n",
       "    }\n",
       "</style>\n",
       "<table border=\"1\" class=\"dataframe\">\n",
       "  <thead>\n",
       "    <tr style=\"text-align: right;\">\n",
       "      <th></th>\n",
       "      <th>ProductName</th>\n",
       "      <th>ProductCode</th>\n",
       "      <th>RegularPrice</th>\n",
       "      <th>HappyPrice</th>\n",
       "      <th>DiscountPercent</th>\n",
       "      <th>PageLink</th>\n",
       "      <th>ImageLink</th>\n",
       "    </tr>\n",
       "  </thead>\n",
       "  <tbody>\n",
       "    <tr>\n",
       "      <th>0</th>\n",
       "      <td>Apple Mac mini M2 PRO -</td>\n",
       "      <td>Шифра: 55218</td>\n",
       "      <td>99,999 Ден.</td>\n",
       "      <td>89,999 Ден.</td>\n",
       "      <td>-10%</td>\n",
       "      <td>https://setec.mk/компјутери-и-it-опрема/конфиг...</td>\n",
       "      <td>https://setec.mk/image/cache/catalog/Product/5...</td>\n",
       "    </tr>\n",
       "    <tr>\n",
       "      <th>1</th>\n",
       "      <td>ASUS GAMING PC G35DX-WB7730W  /  Win 11</td>\n",
       "      <td>Шифра: 52738</td>\n",
       "      <td>99,999 Ден.</td>\n",
       "      <td>89,999 Ден.</td>\n",
       "      <td>-10%</td>\n",
       "      <td>https://setec.mk/компјутери-и-it-опрема/конфиг...</td>\n",
       "      <td>https://setec.mk/image/cache/catalog/Product/5...</td>\n",
       "    </tr>\n",
       "    <tr>\n",
       "      <th>2</th>\n",
       "      <td>Lenovo Legion T5 26ARA8</td>\n",
       "      <td>Шифра: 56987</td>\n",
       "      <td>99,999 Ден.</td>\n",
       "      <td>92,999 Ден.</td>\n",
       "      <td>-7%</td>\n",
       "      <td>https://setec.mk/компјутери-и-it-опрема/конфиг...</td>\n",
       "      <td>https://setec.mk/image/cache/catalog/Product/5...</td>\n",
       "    </tr>\n",
       "    <tr>\n",
       "      <th>3</th>\n",
       "      <td>Apple iMac 24\" ( Blue ) - Процесор:Apple M3 ch...</td>\n",
       "      <td>Шифра: 59281</td>\n",
       "      <td>99,999 Ден.</td>\n",
       "      <td>94,999 Ден.</td>\n",
       "      <td>-5%</td>\n",
       "      <td>https://setec.mk/компјутери-и-it-опрема/конфиг...</td>\n",
       "      <td>https://setec.mk/image/cache/catalog/Product/5...</td>\n",
       "    </tr>\n",
       "    <tr>\n",
       "      <th>4</th>\n",
       "      <td>Apple iMac 24\" ( Green ) - Процесор:Apple M3 c...</td>\n",
       "      <td>Шифра: 59100</td>\n",
       "      <td>99,999 Ден.</td>\n",
       "      <td>94,999 Ден.</td>\n",
       "      <td>-5%</td>\n",
       "      <td>https://setec.mk/компјутери-и-it-опрема/конфиг...</td>\n",
       "      <td>https://setec.mk/image/cache/catalog/Product/5...</td>\n",
       "    </tr>\n",
       "    <tr>\n",
       "      <th>5</th>\n",
       "      <td>Конфигурација INTEL GAMER WARRIOR</td>\n",
       "      <td>Шифра: 57467</td>\n",
       "      <td>97,999 Ден.</td>\n",
       "      <td>94,999 Ден.</td>\n",
       "      <td>-3%</td>\n",
       "      <td>https://setec.mk/компјутери-и-it-опрема/конфиг...</td>\n",
       "      <td>https://setec.mk/image/cache/catalog/Product/5...</td>\n",
       "    </tr>\n",
       "    <tr>\n",
       "      <th>6</th>\n",
       "      <td>ASUS ROG STRIX GAMING PC G13CHR-M71470F16465</td>\n",
       "      <td>Шифра: 59715</td>\n",
       "      <td>99,999 Ден.</td>\n",
       "      <td>97,999 Ден.</td>\n",
       "      <td>-2%</td>\n",
       "      <td>https://setec.mk/компјутери-и-it-опрема/конфиг...</td>\n",
       "      <td>https://setec.mk/image/cache/catalog/Product/5...</td>\n",
       "    </tr>\n",
       "    <tr>\n",
       "      <th>7</th>\n",
       "      <td>ASUS GAMING PC G15DS-WB7722W  /  Win 11</td>\n",
       "      <td>Шифра: 55819</td>\n",
       "      <td>109,999 Ден.</td>\n",
       "      <td>99,999 Ден.</td>\n",
       "      <td>-9%</td>\n",
       "      <td>https://setec.mk/компјутери-и-it-опрема/конфиг...</td>\n",
       "      <td>https://setec.mk/image/cache/catalog/Product/5...</td>\n",
       "    </tr>\n",
       "    <tr>\n",
       "      <th>8</th>\n",
       "      <td>Конфигурација INTEL GAMER EXTREME</td>\n",
       "      <td>Шифра: 54337</td>\n",
       "      <td>119,999 Ден.</td>\n",
       "      <td>99,999 Ден.</td>\n",
       "      <td>-17%</td>\n",
       "      <td>https://setec.mk/компјутери-и-it-опрема/конфиг...</td>\n",
       "      <td>https://setec.mk/image/cache/catalog/Product/5...</td>\n",
       "    </tr>\n",
       "    <tr>\n",
       "      <th>9</th>\n",
       "      <td>Apple iMac 24\" ( Blue ) - Процесор:Apple M3 ch...</td>\n",
       "      <td>Шифра: 59099</td>\n",
       "      <td>115,999 Ден.</td>\n",
       "      <td>104,999 Ден.</td>\n",
       "      <td>-9%</td>\n",
       "      <td>https://setec.mk/компјутери-и-it-опрема/конфиг...</td>\n",
       "      <td>https://setec.mk/image/cache/catalog/Product/5...</td>\n",
       "    </tr>\n",
       "  </tbody>\n",
       "</table>\n",
       "</div>\n",
       "    <div class=\"colab-df-buttons\">\n",
       "\n",
       "  <div class=\"colab-df-container\">\n",
       "    <button class=\"colab-df-convert\" onclick=\"convertToInteractive('df-53c25abf-3dce-4b56-9d45-fb997205d775')\"\n",
       "            title=\"Convert this dataframe to an interactive table.\"\n",
       "            style=\"display:none;\">\n",
       "\n",
       "  <svg xmlns=\"http://www.w3.org/2000/svg\" height=\"24px\" viewBox=\"0 -960 960 960\">\n",
       "    <path d=\"M120-120v-720h720v720H120Zm60-500h600v-160H180v160Zm220 220h160v-160H400v160Zm0 220h160v-160H400v160ZM180-400h160v-160H180v160Zm440 0h160v-160H620v160ZM180-180h160v-160H180v160Zm440 0h160v-160H620v160Z\"/>\n",
       "  </svg>\n",
       "    </button>\n",
       "\n",
       "  <style>\n",
       "    .colab-df-container {\n",
       "      display:flex;\n",
       "      gap: 12px;\n",
       "    }\n",
       "\n",
       "    .colab-df-convert {\n",
       "      background-color: #E8F0FE;\n",
       "      border: none;\n",
       "      border-radius: 50%;\n",
       "      cursor: pointer;\n",
       "      display: none;\n",
       "      fill: #1967D2;\n",
       "      height: 32px;\n",
       "      padding: 0 0 0 0;\n",
       "      width: 32px;\n",
       "    }\n",
       "\n",
       "    .colab-df-convert:hover {\n",
       "      background-color: #E2EBFA;\n",
       "      box-shadow: 0px 1px 2px rgba(60, 64, 67, 0.3), 0px 1px 3px 1px rgba(60, 64, 67, 0.15);\n",
       "      fill: #174EA6;\n",
       "    }\n",
       "\n",
       "    .colab-df-buttons div {\n",
       "      margin-bottom: 4px;\n",
       "    }\n",
       "\n",
       "    [theme=dark] .colab-df-convert {\n",
       "      background-color: #3B4455;\n",
       "      fill: #D2E3FC;\n",
       "    }\n",
       "\n",
       "    [theme=dark] .colab-df-convert:hover {\n",
       "      background-color: #434B5C;\n",
       "      box-shadow: 0px 1px 3px 1px rgba(0, 0, 0, 0.15);\n",
       "      filter: drop-shadow(0px 1px 2px rgba(0, 0, 0, 0.3));\n",
       "      fill: #FFFFFF;\n",
       "    }\n",
       "  </style>\n",
       "\n",
       "    <script>\n",
       "      const buttonEl =\n",
       "        document.querySelector('#df-53c25abf-3dce-4b56-9d45-fb997205d775 button.colab-df-convert');\n",
       "      buttonEl.style.display =\n",
       "        google.colab.kernel.accessAllowed ? 'block' : 'none';\n",
       "\n",
       "      async function convertToInteractive(key) {\n",
       "        const element = document.querySelector('#df-53c25abf-3dce-4b56-9d45-fb997205d775');\n",
       "        const dataTable =\n",
       "          await google.colab.kernel.invokeFunction('convertToInteractive',\n",
       "                                                    [key], {});\n",
       "        if (!dataTable) return;\n",
       "\n",
       "        const docLinkHtml = 'Like what you see? Visit the ' +\n",
       "          '<a target=\"_blank\" href=https://colab.research.google.com/notebooks/data_table.ipynb>data table notebook</a>'\n",
       "          + ' to learn more about interactive tables.';\n",
       "        element.innerHTML = '';\n",
       "        dataTable['output_type'] = 'display_data';\n",
       "        await google.colab.output.renderOutput(dataTable, element);\n",
       "        const docLink = document.createElement('div');\n",
       "        docLink.innerHTML = docLinkHtml;\n",
       "        element.appendChild(docLink);\n",
       "      }\n",
       "    </script>\n",
       "  </div>\n",
       "\n",
       "\n",
       "<div id=\"df-6cf5f418-d0bd-4811-bd66-4b11dc2224de\">\n",
       "  <button class=\"colab-df-quickchart\" onclick=\"quickchart('df-6cf5f418-d0bd-4811-bd66-4b11dc2224de')\"\n",
       "            title=\"Suggest charts\"\n",
       "            style=\"display:none;\">\n",
       "\n",
       "<svg xmlns=\"http://www.w3.org/2000/svg\" height=\"24px\"viewBox=\"0 0 24 24\"\n",
       "     width=\"24px\">\n",
       "    <g>\n",
       "        <path d=\"M19 3H5c-1.1 0-2 .9-2 2v14c0 1.1.9 2 2 2h14c1.1 0 2-.9 2-2V5c0-1.1-.9-2-2-2zM9 17H7v-7h2v7zm4 0h-2V7h2v10zm4 0h-2v-4h2v4z\"/>\n",
       "    </g>\n",
       "</svg>\n",
       "  </button>\n",
       "\n",
       "<style>\n",
       "  .colab-df-quickchart {\n",
       "      --bg-color: #E8F0FE;\n",
       "      --fill-color: #1967D2;\n",
       "      --hover-bg-color: #E2EBFA;\n",
       "      --hover-fill-color: #174EA6;\n",
       "      --disabled-fill-color: #AAA;\n",
       "      --disabled-bg-color: #DDD;\n",
       "  }\n",
       "\n",
       "  [theme=dark] .colab-df-quickchart {\n",
       "      --bg-color: #3B4455;\n",
       "      --fill-color: #D2E3FC;\n",
       "      --hover-bg-color: #434B5C;\n",
       "      --hover-fill-color: #FFFFFF;\n",
       "      --disabled-bg-color: #3B4455;\n",
       "      --disabled-fill-color: #666;\n",
       "  }\n",
       "\n",
       "  .colab-df-quickchart {\n",
       "    background-color: var(--bg-color);\n",
       "    border: none;\n",
       "    border-radius: 50%;\n",
       "    cursor: pointer;\n",
       "    display: none;\n",
       "    fill: var(--fill-color);\n",
       "    height: 32px;\n",
       "    padding: 0;\n",
       "    width: 32px;\n",
       "  }\n",
       "\n",
       "  .colab-df-quickchart:hover {\n",
       "    background-color: var(--hover-bg-color);\n",
       "    box-shadow: 0 1px 2px rgba(60, 64, 67, 0.3), 0 1px 3px 1px rgba(60, 64, 67, 0.15);\n",
       "    fill: var(--button-hover-fill-color);\n",
       "  }\n",
       "\n",
       "  .colab-df-quickchart-complete:disabled,\n",
       "  .colab-df-quickchart-complete:disabled:hover {\n",
       "    background-color: var(--disabled-bg-color);\n",
       "    fill: var(--disabled-fill-color);\n",
       "    box-shadow: none;\n",
       "  }\n",
       "\n",
       "  .colab-df-spinner {\n",
       "    border: 2px solid var(--fill-color);\n",
       "    border-color: transparent;\n",
       "    border-bottom-color: var(--fill-color);\n",
       "    animation:\n",
       "      spin 1s steps(1) infinite;\n",
       "  }\n",
       "\n",
       "  @keyframes spin {\n",
       "    0% {\n",
       "      border-color: transparent;\n",
       "      border-bottom-color: var(--fill-color);\n",
       "      border-left-color: var(--fill-color);\n",
       "    }\n",
       "    20% {\n",
       "      border-color: transparent;\n",
       "      border-left-color: var(--fill-color);\n",
       "      border-top-color: var(--fill-color);\n",
       "    }\n",
       "    30% {\n",
       "      border-color: transparent;\n",
       "      border-left-color: var(--fill-color);\n",
       "      border-top-color: var(--fill-color);\n",
       "      border-right-color: var(--fill-color);\n",
       "    }\n",
       "    40% {\n",
       "      border-color: transparent;\n",
       "      border-right-color: var(--fill-color);\n",
       "      border-top-color: var(--fill-color);\n",
       "    }\n",
       "    60% {\n",
       "      border-color: transparent;\n",
       "      border-right-color: var(--fill-color);\n",
       "    }\n",
       "    80% {\n",
       "      border-color: transparent;\n",
       "      border-right-color: var(--fill-color);\n",
       "      border-bottom-color: var(--fill-color);\n",
       "    }\n",
       "    90% {\n",
       "      border-color: transparent;\n",
       "      border-bottom-color: var(--fill-color);\n",
       "    }\n",
       "  }\n",
       "</style>\n",
       "\n",
       "  <script>\n",
       "    async function quickchart(key) {\n",
       "      const quickchartButtonEl =\n",
       "        document.querySelector('#' + key + ' button');\n",
       "      quickchartButtonEl.disabled = true;  // To prevent multiple clicks.\n",
       "      quickchartButtonEl.classList.add('colab-df-spinner');\n",
       "      try {\n",
       "        const charts = await google.colab.kernel.invokeFunction(\n",
       "            'suggestCharts', [key], {});\n",
       "      } catch (error) {\n",
       "        console.error('Error during call to suggestCharts:', error);\n",
       "      }\n",
       "      quickchartButtonEl.classList.remove('colab-df-spinner');\n",
       "      quickchartButtonEl.classList.add('colab-df-quickchart-complete');\n",
       "    }\n",
       "    (() => {\n",
       "      let quickchartButtonEl =\n",
       "        document.querySelector('#df-6cf5f418-d0bd-4811-bd66-4b11dc2224de button');\n",
       "      quickchartButtonEl.style.display =\n",
       "        google.colab.kernel.accessAllowed ? 'block' : 'none';\n",
       "    })();\n",
       "  </script>\n",
       "</div>\n",
       "    </div>\n",
       "  </div>\n"
      ],
      "text/plain": [
       "                                         ProductName   ProductCode  \\\n",
       "0                            Apple Mac mini M2 PRO -  Шифра: 55218   \n",
       "1            ASUS GAMING PC G35DX-WB7730W  /  Win 11  Шифра: 52738   \n",
       "2                            Lenovo Legion T5 26ARA8  Шифра: 56987   \n",
       "3  Apple iMac 24\" ( Blue ) - Процесор:Apple M3 ch...  Шифра: 59281   \n",
       "4  Apple iMac 24\" ( Green ) - Процесор:Apple M3 c...  Шифра: 59100   \n",
       "5                  Конфигурација INTEL GAMER WARRIOR  Шифра: 57467   \n",
       "6       ASUS ROG STRIX GAMING PC G13CHR-M71470F16465  Шифра: 59715   \n",
       "7            ASUS GAMING PC G15DS-WB7722W  /  Win 11  Шифра: 55819   \n",
       "8                  Конфигурација INTEL GAMER EXTREME  Шифра: 54337   \n",
       "9  Apple iMac 24\" ( Blue ) - Процесор:Apple M3 ch...  Шифра: 59099   \n",
       "\n",
       "   RegularPrice    HappyPrice DiscountPercent  \\\n",
       "0   99,999 Ден.   89,999 Ден.            -10%   \n",
       "1   99,999 Ден.   89,999 Ден.            -10%   \n",
       "2   99,999 Ден.   92,999 Ден.             -7%   \n",
       "3   99,999 Ден.   94,999 Ден.             -5%   \n",
       "4   99,999 Ден.   94,999 Ден.             -5%   \n",
       "5   97,999 Ден.   94,999 Ден.             -3%   \n",
       "6   99,999 Ден.   97,999 Ден.             -2%   \n",
       "7  109,999 Ден.   99,999 Ден.             -9%   \n",
       "8  119,999 Ден.   99,999 Ден.            -17%   \n",
       "9  115,999 Ден.  104,999 Ден.             -9%   \n",
       "\n",
       "                                            PageLink  \\\n",
       "0  https://setec.mk/компјутери-и-it-опрема/конфиг...   \n",
       "1  https://setec.mk/компјутери-и-it-опрема/конфиг...   \n",
       "2  https://setec.mk/компјутери-и-it-опрема/конфиг...   \n",
       "3  https://setec.mk/компјутери-и-it-опрема/конфиг...   \n",
       "4  https://setec.mk/компјутери-и-it-опрема/конфиг...   \n",
       "5  https://setec.mk/компјутери-и-it-опрема/конфиг...   \n",
       "6  https://setec.mk/компјутери-и-it-опрема/конфиг...   \n",
       "7  https://setec.mk/компјутери-и-it-опрема/конфиг...   \n",
       "8  https://setec.mk/компјутери-и-it-опрема/конфиг...   \n",
       "9  https://setec.mk/компјутери-и-it-опрема/конфиг...   \n",
       "\n",
       "                                           ImageLink  \n",
       "0  https://setec.mk/image/cache/catalog/Product/5...  \n",
       "1  https://setec.mk/image/cache/catalog/Product/5...  \n",
       "2  https://setec.mk/image/cache/catalog/Product/5...  \n",
       "3  https://setec.mk/image/cache/catalog/Product/5...  \n",
       "4  https://setec.mk/image/cache/catalog/Product/5...  \n",
       "5  https://setec.mk/image/cache/catalog/Product/5...  \n",
       "6  https://setec.mk/image/cache/catalog/Product/5...  \n",
       "7  https://setec.mk/image/cache/catalog/Product/5...  \n",
       "8  https://setec.mk/image/cache/catalog/Product/5...  \n",
       "9  https://setec.mk/image/cache/catalog/Product/5...  "
      ]
     },
     "execution_count": 101,
     "metadata": {},
     "output_type": "execute_result"
    }
   ],
   "source": [
    "df.head(10)"
   ]
  },
  {
   "cell_type": "code",
   "execution_count": null,
   "metadata": {
    "id": "3Je8UFQ2KiCu"
   },
   "outputs": [],
   "source": [
    "df.to_csv('products-setec.csv', index=False)"
   ]
  },
  {
   "cell_type": "markdown",
   "metadata": {
    "id": "qooacOwWLOZS"
   },
   "source": [
    "# Additional"
   ]
  },
  {
   "cell_type": "markdown",
   "metadata": {
    "id": "YKjjsXhiMfiQ"
   },
   "source": [
    "### How to scrape multiple pages?"
   ]
  },
  {
   "cell_type": "markdown",
   "metadata": {
    "id": "_GVRtaSiCbFK"
   },
   "source": [
    "Let's try to scrape all the keybords from their category page. The page implements paging so we can use the query parameter to move between pages."
   ]
  },
  {
   "cell_type": "code",
   "execution_count": null,
   "metadata": {
    "id": "cmJK-ebALkvS"
   },
   "outputs": [],
   "source": [
    "base_url = \"https://setec.mk/computers--it/pc-accessories/keybords?page=\""
   ]
  },
  {
   "cell_type": "markdown",
   "metadata": {
    "id": "sQ7mLfK0CpAB"
   },
   "source": [
    "The same code from above is copied in a function `extract_product_characteristics_as_dict` for easy access"
   ]
  },
  {
   "cell_type": "code",
   "execution_count": null,
   "metadata": {
    "id": "LBAfpkCpL9s0"
   },
   "outputs": [],
   "source": [
    "def extract_product_characteristics_as_dict(product):\n",
    "  name = product.select_one('.name').text.strip()\n",
    "  code = product.select_one('.shifra').text.strip()\n",
    "  regular_price = product.select_one('.price-old-new')\n",
    "  if regular_price is not None:\n",
    "    regular_price = regular_price.text.strip()\n",
    "\n",
    "  happy_price = product.select_one('.price-new-new')\n",
    "  if happy_price is not None:\n",
    "    happy_price = happy_price.text.strip()\n",
    "  discount = product.select_one('.sale')\n",
    "  if discount is not None:\n",
    "    discount = discount.text.strip()\n",
    "  link = product.select_one('.image a').get(\"href\")\n",
    "  image_link = product.select_one('.image img').get(\"data-echo\")\n",
    "\n",
    "  product_dict = {\n",
    "      \"ProductName\": name,\n",
    "      \"ProductCode\": code,\n",
    "      \"RegularPrice\": regular_price,\n",
    "      \"HappyPrice\": happy_price,\n",
    "      \"DiscountPercent\": discount,\n",
    "      \"PageLink\": link,\n",
    "      \"ImageLink\": image_link\n",
    "  }\n",
    "\n",
    "  return product_dict"
   ]
  },
  {
   "cell_type": "code",
   "execution_count": null,
   "metadata": {
    "id": "YwsHxrwRKq_b"
   },
   "outputs": [],
   "source": [
    "all_products = []\n",
    "for i in range(1, 6):  # there are 6 pages for keyboards\n",
    "  url = base_url + str(i)\n",
    "  response = requests.get(url)\n",
    "  soup = BeautifulSoup(response.text, \"html.parser\")\n",
    "  products = soup.select('.product')\n",
    "  for product in products:\n",
    "    result = extract_product_characteristics_as_dict(product)\n",
    "    all_products.append(result)"
   ]
  },
  {
   "cell_type": "code",
   "execution_count": null,
   "metadata": {
    "id": "q8KJI4fsLx8G"
   },
   "outputs": [],
   "source": [
    "all_pc_configs = pd.DataFrame(all_products)"
   ]
  },
  {
   "cell_type": "code",
   "execution_count": null,
   "metadata": {
    "id": "95CQX9ziMTF3"
   },
   "outputs": [],
   "source": [
    "all_pc_configs.to_csv('pc-configs-setec.csv', index=False)"
   ]
  },
  {
   "cell_type": "markdown",
   "metadata": {
    "id": "goFxQcjeC1iq"
   },
   "source": [
    "# Homework: Find all links to categories and scrape the entire site\n",
    "Hint: Also find a way to automatically check the number of pages per category"
   ]
  }
 ],
 "metadata": {
  "colab": {
   "provenance": []
  },
  "kernelspec": {
   "display_name": "Python 3 (ipykernel)",
   "language": "python",
   "name": "python3"
  },
  "language_info": {
   "codemirror_mode": {
    "name": "ipython",
    "version": 3
   },
   "file_extension": ".py",
   "mimetype": "text/x-python",
   "name": "python",
   "nbconvert_exporter": "python",
   "pygments_lexer": "ipython3",
   "version": "3.12.7"
  }
 },
 "nbformat": 4,
 "nbformat_minor": 4
}
