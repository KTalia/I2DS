{
 "cells": [
  {
   "cell_type": "markdown",
   "metadata": {
    "id": "kx8Dz5ZFgHFN"
   },
   "source": [
    "# CNN & LSTM for Sentiment Analysis"
   ]
  },
  {
   "cell_type": "markdown",
   "metadata": {
    "id": "k_aVWIbBhZCF"
   },
   "source": [
    "The task is to classify the BBC news data based on their sentiment"
   ]
  },
  {
   "cell_type": "code",
   "execution_count": 66,
   "metadata": {
    "colab": {
     "base_uri": "https://localhost:8080/"
    },
    "executionInfo": {
     "elapsed": 5070,
     "status": "ok",
     "timestamp": 1702493917215,
     "user": {
      "displayName": "Milena Trajanoska",
      "userId": "04043802626059007351"
     },
     "user_tz": -60
    },
    "id": "esf00HPqgFEN",
    "outputId": "9256c303-4cb7-4dfb-ba4f-c045976723f0"
   },
   "outputs": [],
   "source": [
    "# !gdown 19xU3kUyivRWGQzYXnpwlIjQqdfkD56v4"
   ]
  },
  {
   "cell_type": "code",
   "execution_count": 67,
   "metadata": {
    "id": "vYf_OyvkhUcc"
   },
   "outputs": [],
   "source": [
    "import pandas as pd\n",
    "from sklearn.model_selection import train_test_split\n",
    "from tensorflow.keras.preprocessing.text import Tokenizer\n",
    "from keras.preprocessing import sequence\n",
    "import matplotlib.pyplot as plt\n",
    "import seaborn as sns\n",
    "import numpy as np"
   ]
  },
  {
   "cell_type": "code",
   "execution_count": 68,
   "metadata": {
    "id": "_2FtrpW5heFL"
   },
   "outputs": [],
   "source": [
    "data = pd.read_csv('twitter_data.csv')"
   ]
  },
  {
   "cell_type": "code",
   "execution_count": 69,
   "metadata": {
    "colab": {
     "base_uri": "https://localhost:8080/",
     "height": 423
    },
    "executionInfo": {
     "elapsed": 9,
     "status": "ok",
     "timestamp": 1702493932678,
     "user": {
      "displayName": "Milena Trajanoska",
      "userId": "04043802626059007351"
     },
     "user_tz": -60
    },
    "id": "GKh0fEqihgq4",
    "outputId": "7a46afe1-585c-44c0-b82d-53eff131a004"
   },
   "outputs": [
    {
     "data": {
      "text/html": [
       "<div>\n",
       "<style scoped>\n",
       "    .dataframe tbody tr th:only-of-type {\n",
       "        vertical-align: middle;\n",
       "    }\n",
       "\n",
       "    .dataframe tbody tr th {\n",
       "        vertical-align: top;\n",
       "    }\n",
       "\n",
       "    .dataframe thead th {\n",
       "        text-align: right;\n",
       "    }\n",
       "</style>\n",
       "<table border=\"1\" class=\"dataframe\">\n",
       "  <thead>\n",
       "    <tr style=\"text-align: right;\">\n",
       "      <th></th>\n",
       "      <th>id</th>\n",
       "      <th>user</th>\n",
       "      <th>sentiment</th>\n",
       "      <th>tweet</th>\n",
       "    </tr>\n",
       "  </thead>\n",
       "  <tbody>\n",
       "    <tr>\n",
       "      <th>0</th>\n",
       "      <td>2401</td>\n",
       "      <td>Borderlands</td>\n",
       "      <td>Positive</td>\n",
       "      <td>im getting on borderlands and i will murder yo...</td>\n",
       "    </tr>\n",
       "    <tr>\n",
       "      <th>1</th>\n",
       "      <td>2401</td>\n",
       "      <td>Borderlands</td>\n",
       "      <td>Positive</td>\n",
       "      <td>I am coming to the borders and I will kill you...</td>\n",
       "    </tr>\n",
       "    <tr>\n",
       "      <th>2</th>\n",
       "      <td>2401</td>\n",
       "      <td>Borderlands</td>\n",
       "      <td>Positive</td>\n",
       "      <td>im getting on borderlands and i will kill you ...</td>\n",
       "    </tr>\n",
       "    <tr>\n",
       "      <th>3</th>\n",
       "      <td>2401</td>\n",
       "      <td>Borderlands</td>\n",
       "      <td>Positive</td>\n",
       "      <td>im coming on borderlands and i will murder you...</td>\n",
       "    </tr>\n",
       "    <tr>\n",
       "      <th>4</th>\n",
       "      <td>2401</td>\n",
       "      <td>Borderlands</td>\n",
       "      <td>Positive</td>\n",
       "      <td>im getting on borderlands 2 and i will murder ...</td>\n",
       "    </tr>\n",
       "    <tr>\n",
       "      <th>...</th>\n",
       "      <td>...</td>\n",
       "      <td>...</td>\n",
       "      <td>...</td>\n",
       "      <td>...</td>\n",
       "    </tr>\n",
       "    <tr>\n",
       "      <th>74677</th>\n",
       "      <td>9200</td>\n",
       "      <td>Nvidia</td>\n",
       "      <td>Positive</td>\n",
       "      <td>Just realized that the Windows partition of my...</td>\n",
       "    </tr>\n",
       "    <tr>\n",
       "      <th>74678</th>\n",
       "      <td>9200</td>\n",
       "      <td>Nvidia</td>\n",
       "      <td>Positive</td>\n",
       "      <td>Just realized that my Mac window partition is ...</td>\n",
       "    </tr>\n",
       "    <tr>\n",
       "      <th>74679</th>\n",
       "      <td>9200</td>\n",
       "      <td>Nvidia</td>\n",
       "      <td>Positive</td>\n",
       "      <td>Just realized the windows partition of my Mac ...</td>\n",
       "    </tr>\n",
       "    <tr>\n",
       "      <th>74680</th>\n",
       "      <td>9200</td>\n",
       "      <td>Nvidia</td>\n",
       "      <td>Positive</td>\n",
       "      <td>Just realized between the windows partition of...</td>\n",
       "    </tr>\n",
       "    <tr>\n",
       "      <th>74681</th>\n",
       "      <td>9200</td>\n",
       "      <td>Nvidia</td>\n",
       "      <td>Positive</td>\n",
       "      <td>Just like the windows partition of my Mac is l...</td>\n",
       "    </tr>\n",
       "  </tbody>\n",
       "</table>\n",
       "<p>74682 rows × 4 columns</p>\n",
       "</div>"
      ],
      "text/plain": [
       "         id         user sentiment  \\\n",
       "0      2401  Borderlands  Positive   \n",
       "1      2401  Borderlands  Positive   \n",
       "2      2401  Borderlands  Positive   \n",
       "3      2401  Borderlands  Positive   \n",
       "4      2401  Borderlands  Positive   \n",
       "...     ...          ...       ...   \n",
       "74677  9200       Nvidia  Positive   \n",
       "74678  9200       Nvidia  Positive   \n",
       "74679  9200       Nvidia  Positive   \n",
       "74680  9200       Nvidia  Positive   \n",
       "74681  9200       Nvidia  Positive   \n",
       "\n",
       "                                                   tweet  \n",
       "0      im getting on borderlands and i will murder yo...  \n",
       "1      I am coming to the borders and I will kill you...  \n",
       "2      im getting on borderlands and i will kill you ...  \n",
       "3      im coming on borderlands and i will murder you...  \n",
       "4      im getting on borderlands 2 and i will murder ...  \n",
       "...                                                  ...  \n",
       "74677  Just realized that the Windows partition of my...  \n",
       "74678  Just realized that my Mac window partition is ...  \n",
       "74679  Just realized the windows partition of my Mac ...  \n",
       "74680  Just realized between the windows partition of...  \n",
       "74681  Just like the windows partition of my Mac is l...  \n",
       "\n",
       "[74682 rows x 4 columns]"
      ]
     },
     "execution_count": 69,
     "metadata": {},
     "output_type": "execute_result"
    }
   ],
   "source": [
    "data"
   ]
  },
  {
   "cell_type": "markdown",
   "metadata": {
    "id": "CSpHtxiEjFyN"
   },
   "source": [
    "We have 4 types of sentiment: 'Negative', 'Positive', 'Neutral', and 'Irrelevant'."
   ]
  },
  {
   "cell_type": "code",
   "execution_count": 71,
   "metadata": {
    "colab": {
     "base_uri": "https://localhost:8080/",
     "height": 500
    },
    "executionInfo": {
     "elapsed": 924,
     "status": "ok",
     "timestamp": 1702493953411,
     "user": {
      "displayName": "Milena Trajanoska",
      "userId": "04043802626059007351"
     },
     "user_tz": -60
    },
    "id": "oFy3VxGWi8d7",
    "outputId": "56395717-5a75-4032-df8d-7b9ef96bddde"
   },
   "outputs": [
    {
     "data": {
      "text/plain": [
       "<Axes: xlabel='sentiment'>"
      ]
     },
     "execution_count": 71,
     "metadata": {},
     "output_type": "execute_result"
    },
    {
     "data": {
      "image/png": "[encoded data removed]",
      "text/plain": [
       "<Figure size 640x480 with 1 Axes>"
      ]
     },
     "metadata": {},
     "output_type": "display_data"
    }
   ],
   "source": [
    "data['sentiment'].value_counts().plot.bar()"
   ]
  },
  {
   "cell_type": "code",
   "execution_count": 72,
   "metadata": {
    "colab": {
     "base_uri": "https://localhost:8080/"
    },
    "executionInfo": {
     "elapsed": 4,
     "status": "ok",
     "timestamp": 1702493962712,
     "user": {
      "displayName": "Milena Trajanoska",
      "userId": "04043802626059007351"
     },
     "user_tz": -60
    },
    "id": "2NJLGjFVjBcj",
    "outputId": "e6f8864c-63d9-47ac-8ee7-d2ba664fbf21"
   },
   "outputs": [
    {
     "data": {
      "text/plain": [
       "id             0\n",
       "user           0\n",
       "sentiment      0\n",
       "tweet        686\n",
       "dtype: int64"
      ]
     },
     "execution_count": 72,
     "metadata": {},
     "output_type": "execute_result"
    }
   ],
   "source": [
    "data.isnull().sum()"
   ]
  },
  {
   "cell_type": "markdown",
   "metadata": {
    "id": "1nFXZ-GBjN2q"
   },
   "source": [
    "We will remove the tweets which are null since there's no way we can impute them."
   ]
  },
  {
   "cell_type": "code",
   "execution_count": 74,
   "metadata": {
    "id": "sgks-D3qjD5C"
   },
   "outputs": [],
   "source": [
    "data = data.dropna(axis=0)"
   ]
  },
  {
   "cell_type": "markdown",
   "metadata": {
    "id": "dBMvjLkRjZIs"
   },
   "source": [
    "Let's check the length in characters for each tweet\n",
    "Add a new column for it"
   ]
  },
  {
   "cell_type": "code",
   "execution_count": 127,
   "metadata": {
    "colab": {
     "base_uri": "https://localhost:8080/"
    },
    "executionInfo": {
     "elapsed": 281,
     "status": "ok",
     "timestamp": 1702494059577,
     "user": {
      "displayName": "Milena Trajanoska",
      "userId": "04043802626059007351"
     },
     "user_tz": -60
    },
    "id": "VCjD70xsjS8-",
    "outputId": "e138bbf4-536b-461d-865e-63abdf26118a"
   },
   "outputs": [
    {
     "name": "stderr",
     "output_type": "stream",
     "text": [
      "C:\\Users\\admin\\AppData\\Local\\Temp\\ipykernel_15072\\3303123027.py:1: SettingWithCopyWarning: \n",
      "A value is trying to be set on a copy of a slice from a DataFrame.\n",
      "Try using .loc[row_indexer,col_indexer] = value instead\n",
      "\n",
      "See the caveats in the documentation: https://pandas.pydata.org/pandas-docs/stable/user_guide/indexing.html#returning-a-view-versus-a-copy\n",
      "  data['text_length'] = data['tweet'].apply(len)\n"
     ]
    }
   ],
   "source": [
    "data['text_length'] = data['tweet'].apply(len)"
   ]
  },
  {
   "cell_type": "code",
   "execution_count": 77,
   "metadata": {
    "colab": {
     "base_uri": "https://localhost:8080/",
     "height": 447
    },
    "executionInfo": {
     "elapsed": 465,
     "status": "ok",
     "timestamp": 1702494074084,
     "user": {
      "displayName": "Milena Trajanoska",
      "userId": "04043802626059007351"
     },
     "user_tz": -60
    },
    "id": "m-442C20jbiD",
    "outputId": "979dc6e3-eca1-47f0-da79-0be62c617b28"
   },
   "outputs": [
    {
     "data": {
      "text/plain": [
       "<Axes: ylabel='Frequency'>"
      ]
     },
     "execution_count": 77,
     "metadata": {},
     "output_type": "execute_result"
    },
    {
     "data": {
      "image/png": "[encoded data removed]",
      "text/plain": [
       "<Figure size 640x480 with 1 Axes>"
      ]
     },
     "metadata": {},
     "output_type": "display_data"
    }
   ],
   "source": [
    "data['text_length'].plot.hist()"
   ]
  },
  {
   "cell_type": "markdown",
   "metadata": {
    "id": "rwD7Bg_yjgaL"
   },
   "source": [
    "We have a small number of outliers"
   ]
  },
  {
   "cell_type": "code",
   "execution_count": 79,
   "metadata": {
    "id": "ttV-OT7Zjdv7"
   },
   "outputs": [],
   "source": [
    "X = data['tweet']\n",
    "Y = pd.get_dummies(data['sentiment'])"
   ]
  },
  {
   "cell_type": "code",
   "execution_count": 80,
   "metadata": {
    "colab": {
     "base_uri": "https://localhost:8080/",
     "height": 423
    },
    "executionInfo": {
     "elapsed": 685,
     "status": "ok",
     "timestamp": 1702494137629,
     "user": {
      "displayName": "Milena Trajanoska",
      "userId": "04043802626059007351"
     },
     "user_tz": -60
    },
    "id": "HfLBMgYzjs7v",
    "outputId": "063e7d43-f42f-42eb-acab-940f8fba24f9"
   },
   "outputs": [
    {
     "data": {
      "text/html": [
       "<div>\n",
       "<style scoped>\n",
       "    .dataframe tbody tr th:only-of-type {\n",
       "        vertical-align: middle;\n",
       "    }\n",
       "\n",
       "    .dataframe tbody tr th {\n",
       "        vertical-align: top;\n",
       "    }\n",
       "\n",
       "    .dataframe thead th {\n",
       "        text-align: right;\n",
       "    }\n",
       "</style>\n",
       "<table border=\"1\" class=\"dataframe\">\n",
       "  <thead>\n",
       "    <tr style=\"text-align: right;\">\n",
       "      <th></th>\n",
       "      <th>Irrelevant</th>\n",
       "      <th>Negative</th>\n",
       "      <th>Neutral</th>\n",
       "      <th>Positive</th>\n",
       "    </tr>\n",
       "  </thead>\n",
       "  <tbody>\n",
       "    <tr>\n",
       "      <th>0</th>\n",
       "      <td>False</td>\n",
       "      <td>False</td>\n",
       "      <td>False</td>\n",
       "      <td>True</td>\n",
       "    </tr>\n",
       "    <tr>\n",
       "      <th>1</th>\n",
       "      <td>False</td>\n",
       "      <td>False</td>\n",
       "      <td>False</td>\n",
       "      <td>True</td>\n",
       "    </tr>\n",
       "    <tr>\n",
       "      <th>2</th>\n",
       "      <td>False</td>\n",
       "      <td>False</td>\n",
       "      <td>False</td>\n",
       "      <td>True</td>\n",
       "    </tr>\n",
       "    <tr>\n",
       "      <th>3</th>\n",
       "      <td>False</td>\n",
       "      <td>False</td>\n",
       "      <td>False</td>\n",
       "      <td>True</td>\n",
       "    </tr>\n",
       "    <tr>\n",
       "      <th>4</th>\n",
       "      <td>False</td>\n",
       "      <td>False</td>\n",
       "      <td>False</td>\n",
       "      <td>True</td>\n",
       "    </tr>\n",
       "    <tr>\n",
       "      <th>...</th>\n",
       "      <td>...</td>\n",
       "      <td>...</td>\n",
       "      <td>...</td>\n",
       "      <td>...</td>\n",
       "    </tr>\n",
       "    <tr>\n",
       "      <th>74677</th>\n",
       "      <td>False</td>\n",
       "      <td>False</td>\n",
       "      <td>False</td>\n",
       "      <td>True</td>\n",
       "    </tr>\n",
       "    <tr>\n",
       "      <th>74678</th>\n",
       "      <td>False</td>\n",
       "      <td>False</td>\n",
       "      <td>False</td>\n",
       "      <td>True</td>\n",
       "    </tr>\n",
       "    <tr>\n",
       "      <th>74679</th>\n",
       "      <td>False</td>\n",
       "      <td>False</td>\n",
       "      <td>False</td>\n",
       "      <td>True</td>\n",
       "    </tr>\n",
       "    <tr>\n",
       "      <th>74680</th>\n",
       "      <td>False</td>\n",
       "      <td>False</td>\n",
       "      <td>False</td>\n",
       "      <td>True</td>\n",
       "    </tr>\n",
       "    <tr>\n",
       "      <th>74681</th>\n",
       "      <td>False</td>\n",
       "      <td>False</td>\n",
       "      <td>False</td>\n",
       "      <td>True</td>\n",
       "    </tr>\n",
       "  </tbody>\n",
       "</table>\n",
       "<p>73996 rows × 4 columns</p>\n",
       "</div>"
      ],
      "text/plain": [
       "       Irrelevant  Negative  Neutral  Positive\n",
       "0           False     False    False      True\n",
       "1           False     False    False      True\n",
       "2           False     False    False      True\n",
       "3           False     False    False      True\n",
       "4           False     False    False      True\n",
       "...           ...       ...      ...       ...\n",
       "74677       False     False    False      True\n",
       "74678       False     False    False      True\n",
       "74679       False     False    False      True\n",
       "74680       False     False    False      True\n",
       "74681       False     False    False      True\n",
       "\n",
       "[73996 rows x 4 columns]"
      ]
     },
     "execution_count": 80,
     "metadata": {},
     "output_type": "execute_result"
    }
   ],
   "source": [
    "Y"
   ]
  },
  {
   "cell_type": "code",
   "execution_count": 81,
   "metadata": {
    "id": "cSAO2M6mjtj-"
   },
   "outputs": [
    {
     "data": {
      "text/plain": [
       "4"
      ]
     },
     "execution_count": 81,
     "metadata": {},
     "output_type": "execute_result"
    }
   ],
   "source": [
    "num_classes = len(Y.columns)\n",
    "num_classes"
   ]
  },
  {
   "cell_type": "code",
   "execution_count": 82,
   "metadata": {
    "id": "koIwPD_ZjzYo"
   },
   "outputs": [],
   "source": [
    "X_train, X_test, Y_train, Y_test = train_test_split(X, Y, test_size=0.2)"
   ]
  },
  {
   "cell_type": "code",
   "execution_count": 172,
   "metadata": {},
   "outputs": [],
   "source": [
    "texts = data['tweet']\n",
    "matrix = []\n",
    "\n",
    "for text in texts:\n",
    "    words = text.split(\" \")\n",
    "    matrix.append(words)"
   ]
  },
  {
   "cell_type": "code",
   "execution_count": 83,
   "metadata": {
    "colab": {
     "base_uri": "https://localhost:8080/"
    },
    "executionInfo": {
     "elapsed": 400,
     "status": "ok",
     "timestamp": 1702494278898,
     "user": {
      "displayName": "Milena Trajanoska",
      "userId": "04043802626059007351"
     },
     "user_tz": -60
    },
    "id": "cWsq9wPLkFO1",
    "outputId": "ff032c7b-8fc7-499a-9d35-76017aae903d"
   },
   "outputs": [
    {
     "name": "stderr",
     "output_type": "stream",
     "text": [
      "C:\\Users\\admin\\AppData\\Local\\Temp\\ipykernel_15072\\1723634801.py:1: SettingWithCopyWarning: \n",
      "A value is trying to be set on a copy of a slice from a DataFrame.\n",
      "Try using .loc[row_indexer,col_indexer] = value instead\n",
      "\n",
      "See the caveats in the documentation: https://pandas.pydata.org/pandas-docs/stable/user_guide/indexing.html#returning-a-view-versus-a-copy\n",
      "  data['num_words'] = data['tweet'].apply(lambda x: len(x.split(\" \")))\n"
     ]
    }
   ],
   "source": [
    "data['num_words'] = data['tweet'].apply(lambda x: len(x.split(\" \")))"
   ]
  },
  {
   "cell_type": "code",
   "execution_count": 84,
   "metadata": {
    "colab": {
     "base_uri": "https://localhost:8080/",
     "height": 447
    },
    "executionInfo": {
     "elapsed": 459,
     "status": "ok",
     "timestamp": 1702494288671,
     "user": {
      "displayName": "Milena Trajanoska",
      "userId": "04043802626059007351"
     },
     "user_tz": -60
    },
    "id": "0ktEbQa0kR07",
    "outputId": "dcfc37ca-68f2-49b7-a5b0-9fa368adae20"
   },
   "outputs": [
    {
     "data": {
      "text/plain": [
       "<Axes: ylabel='Frequency'>"
      ]
     },
     "execution_count": 84,
     "metadata": {},
     "output_type": "execute_result"
    },
    {
     "data": {
      "image/png": "[encoded data removed]",
      "text/plain": [
       "<Figure size 640x480 with 1 Axes>"
      ]
     },
     "metadata": {},
     "output_type": "display_data"
    }
   ],
   "source": [
    "data['num_words'].plot.hist()"
   ]
  },
  {
   "cell_type": "markdown",
   "metadata": {},
   "source": [
    "- The parameter num_words in the Tokenizer specifies the maximum number of unique tokens (words) to keep based on their frequency in the dataset. \n",
    "\n",
    "- Only the top 64 most frequent tokens will be considered, and all other tokens will be ignored.\n",
    "\n",
    "- A small vocabulary (e.g., 64 words) might capture the majority of the important words used in tweets.\n",
    "\n",
    "- According to the diagram the majority of the words are between 0 and 55-60. With a peak at 0-25.\n",
    "\n",
    "- Most tweets have 0-25 words\n",
    "\n",
    "- max_tokens will keep the most frequent words in thw vocabulary. the top 64 words. all others will be ignored.\n"
   ]
  },
  {
   "cell_type": "code",
   "execution_count": 85,
   "metadata": {
    "id": "oC6uvrB4j96w"
   },
   "outputs": [],
   "source": [
    "max_tokens = 64"
   ]
  },
  {
   "cell_type": "markdown",
   "metadata": {},
   "source": [
    "**Text Tokenization:** It splits a string of text into smaller parts (tokens). \n",
    "\n",
    "For example, splitting the sentence \"I love programming\" would result in tokens: [\"I\", \"love\", \"programming\"]\n",
    "\n",
    "**fit_on_texts:** Builds the tokenizer's vocabulary from the training data.\n",
    "\n",
    "**texts_to_sequences:** Converts both the training and test text data into sequences of integers based on the vocabulary built during training.\n",
    "\n",
    "- For example, if the vocabulary contains {'I': 1, 'love': 2, 'programming': 3}, the sentence \"I love programming\" will be transformed into the sequence [1, 2, 3].\n",
    "\n"
   ]
  },
  {
   "cell_type": "code",
   "execution_count": 86,
   "metadata": {
    "id": "B2zIv4tSkWCh"
   },
   "outputs": [],
   "source": [
    "tokenizer = Tokenizer(num_words=max_tokens)\n",
    "tokenizer.fit_on_texts(X_train.values)\n",
    "X_train = tokenizer.texts_to_sequences(X_train)\n",
    "X_test = tokenizer.texts_to_sequences(X_test)"
   ]
  },
  {
   "cell_type": "markdown",
   "metadata": {},
   "source": [
    "After the tokenizer processes the text data using texts_to_sequences,\n",
    "\n",
    "X_train is transformed into a list of lists, where each list (referred to as **token_list**) contains integers.\n",
    "\n",
    "These integers represent the tokens (words) from the corresponding text data in X_train."
   ]
  },
  {
   "cell_type": "code",
   "execution_count": 157,
   "metadata": {},
   "outputs": [
    {
     "data": {
      "text/plain": [
       "array([[ 0,  0,  0, ..., 51, 51, 51],\n",
       "       [ 0,  0,  0, ...,  0, 10,  7],\n",
       "       [ 0,  0,  0, ..., 14, 55, 22],\n",
       "       ...,\n",
       "       [ 0,  0,  0, ...,  4, 10, 18],\n",
       "       [ 0,  0,  0, ..., 52, 21,  3],\n",
       "       [ 0,  0,  0, ...,  1, 29, 47]])"
      ]
     },
     "execution_count": 157,
     "metadata": {},
     "output_type": "execute_result"
    }
   ],
   "source": [
    "X_train"
   ]
  },
  {
   "cell_type": "code",
   "execution_count": 159,
   "metadata": {},
   "outputs": [
    {
     "data": {
      "text/plain": [
       "array([ 0,  0,  0,  0,  0,  0,  0,  0,  0,  0,  7,  9,  9, 51, 51, 51])"
      ]
     },
     "execution_count": 159,
     "metadata": {},
     "output_type": "execute_result"
    }
   ],
   "source": [
    "X_train[0]"
   ]
  },
  {
   "cell_type": "code",
   "execution_count": 161,
   "metadata": {},
   "outputs": [
    {
     "data": {
      "text/plain": [
       "array([ 0,  0,  0,  0,  0,  0,  0,  0,  0,  0,  0,  0,  0,  0, 10,  7])"
      ]
     },
     "execution_count": 161,
     "metadata": {},
     "output_type": "execute_result"
    }
   ],
   "source": [
    "X_train[1]"
   ]
  },
  {
   "cell_type": "code",
   "execution_count": 87,
   "metadata": {
    "id": "KN7N9ve5klkA"
   },
   "outputs": [],
   "source": [
    "len_tokens = [len(token_list) for token_list in X_train]"
   ]
  },
  {
   "cell_type": "code",
   "execution_count": 88,
   "metadata": {
    "colab": {
     "base_uri": "https://localhost:8080/",
     "height": 499
    },
    "executionInfo": {
     "elapsed": 1581,
     "status": "ok",
     "timestamp": 1702494439218,
     "user": {
      "displayName": "Milena Trajanoska",
      "userId": "04043802626059007351"
     },
     "user_tz": -60
    },
    "id": "wypwLcaCkxUj",
    "outputId": "ca1d36a4-0d45-4539-8078-dc77a4ea1563"
   },
   "outputs": [
    {
     "data": {
      "text/plain": [
       "(array([2.5668e+04, 1.4859e+04, 8.4300e+03, 4.9220e+03, 2.8790e+03,\n",
       "        1.8070e+03, 4.7000e+02, 1.2600e+02, 3.0000e+01, 5.0000e+00]),\n",
       " array([ 0. ,  4.2,  8.4, 12.6, 16.8, 21. , 25.2, 29.4, 33.6, 37.8, 42. ]),\n",
       " <BarContainer object of 10 artists>)"
      ]
     },
     "execution_count": 88,
     "metadata": {},
     "output_type": "execute_result"
    },
    {
     "data": {
      "image/png": "[encoded data removed]",
      "text/plain": [
       "<Figure size 640x480 with 1 Axes>"
      ]
     },
     "metadata": {},
     "output_type": "display_data"
    }
   ],
   "source": [
    "plt.hist(len_tokens)"
   ]
  },
  {
   "cell_type": "code",
   "execution_count": 89,
   "metadata": {
    "id": "1j6JZSajlZF8"
   },
   "outputs": [],
   "source": [
    "maxlen=16\n",
    "X_train = sequence.pad_sequences(X_train, maxlen=maxlen)\n",
    "X_test = sequence.pad_sequences(X_test, maxlen=maxlen)"
   ]
  },
  {
   "cell_type": "markdown",
   "metadata": {},
   "source": [
    "The code is padding the sequences of tokenized text data (X_train and X_test) to a fixed length of maxlen = 16. \n",
    "\n",
    "This means that each sequence in X_train and X_test will be padded or truncated to have exactly 16 tokens.\n",
    "\n",
    "And any sequence shorter than maxlen will be padded with zeros (or another specified padding value) to make it exactly maxlen tokens long."
   ]
  },
  {
   "cell_type": "code",
   "execution_count": 91,
   "metadata": {
    "colab": {
     "base_uri": "https://localhost:8080/"
    },
    "executionInfo": {
     "elapsed": 5,
     "status": "ok",
     "timestamp": 1702494507166,
     "user": {
      "displayName": "Milena Trajanoska",
      "userId": "04043802626059007351"
     },
     "user_tz": -60
    },
    "id": "tlcnqDeWlEtX",
    "outputId": "1b345174-9a94-46d2-9ac0-88d635c91ba7"
   },
   "outputs": [
    {
     "data": {
      "text/plain": [
       "((59196, 16), (14800, 16))"
      ]
     },
     "execution_count": 91,
     "metadata": {},
     "output_type": "execute_result"
    }
   ],
   "source": [
    "X_train.shape, X_test.shape"
   ]
  },
  {
   "cell_type": "markdown",
   "metadata": {
    "id": "6PYI33Z3lLH3"
   },
   "source": [
    "# Create the Model"
   ]
  },
  {
   "cell_type": "code",
   "execution_count": 93,
   "metadata": {
    "id": "8jJmXfVslIsR"
   },
   "outputs": [],
   "source": [
    "from keras.models import Sequential\n",
    "import keras\n",
    "from keras.layers import Dense, Embedding, Conv1D, MaxPooling1D, LSTM, Flatten\n",
    "from sklearn.metrics import confusion_matrix, classification_report"
   ]
  },
  {
   "cell_type": "code",
   "execution_count": 94,
   "metadata": {
    "id": "qQiKeK1tlSVE"
   },
   "outputs": [
    {
     "name": "stderr",
     "output_type": "stream",
     "text": [
      "C:\\Users\\admin\\AppData\\Roaming\\Python\\Python312\\site-packages\\keras\\src\\layers\\core\\embedding.py:90: UserWarning: Argument `input_length` is deprecated. Just remove it.\n",
      "  warnings.warn(\n"
     ]
    }
   ],
   "source": [
    "model = Sequential()\n",
    "model.add(Embedding(max_tokens, 32, input_length=X_train.shape[1]))\n",
    "model.add(Conv1D(filters=32, kernel_size=3, padding='same', activation='relu'))\n",
    "model.add(MaxPooling1D(pool_size=2))\n",
    "model.add(Conv1D(filters=32, kernel_size=3, padding='same', activation='relu'))\n",
    "model.add(MaxPooling1D(pool_size=2))\n",
    "model.add(LSTM(100, dropout=0.2, recurrent_dropout=0.2))\n",
    "model.add(Dense(num_classes, activation='softmax'))"
   ]
  },
  {
   "cell_type": "code",
   "execution_count": 95,
   "metadata": {
    "id": "TJOm1bIlln2a"
   },
   "outputs": [],
   "source": [
    "model.compile(loss=keras.losses.CategoricalCrossentropy(), optimizer=keras.optimizers.Adam(learning_rate=0.001), metrics=[keras.metrics.Precision(), keras.metrics.Recall()])"
   ]
  },
  {
   "cell_type": "code",
   "execution_count": 96,
   "metadata": {
    "colab": {
     "base_uri": "https://localhost:8080/"
    },
    "executionInfo": {
     "elapsed": 269969,
     "status": "ok",
     "timestamp": 1702495070738,
     "user": {
      "displayName": "Milena Trajanoska",
      "userId": "04043802626059007351"
     },
     "user_tz": -60
    },
    "id": "LMiYUV4Vl9WF",
    "outputId": "03cc6129-2419-4ef8-8271-7dcdd561e72e"
   },
   "outputs": [
    {
     "name": "stdout",
     "output_type": "stream",
     "text": [
      "Epoch 1/10\n",
      "\u001b[1m740/740\u001b[0m \u001b[32m━━━━━━━━━━━━━━━━━━━━\u001b[0m\u001b[37m\u001b[0m \u001b[1m16s\u001b[0m 13ms/step - loss: 1.3425 - precision: 0.4377 - recall: 0.0231 - val_loss: 1.2826 - val_precision: 0.6103 - val_recall: 0.0988\n",
      "Epoch 2/10\n",
      "\u001b[1m740/740\u001b[0m \u001b[32m━━━━━━━━━━━━━━━━━━━━\u001b[0m\u001b[37m\u001b[0m \u001b[1m8s\u001b[0m 11ms/step - loss: 1.2764 - precision: 0.5965 - recall: 0.1108 - val_loss: 1.2689 - val_precision: 0.6267 - val_recall: 0.1195\n",
      "Epoch 3/10\n",
      "\u001b[1m740/740\u001b[0m \u001b[32m━━━━━━━━━━━━━━━━━━━━\u001b[0m\u001b[37m\u001b[0m \u001b[1m8s\u001b[0m 10ms/step - loss: 1.2580 - precision: 0.6154 - recall: 0.1342 - val_loss: 1.2615 - val_precision: 0.6088 - val_recall: 0.1328\n",
      "Epoch 4/10\n",
      "\u001b[1m740/740\u001b[0m \u001b[32m━━━━━━━━━━━━━━━━━━━━\u001b[0m\u001b[37m\u001b[0m \u001b[1m8s\u001b[0m 11ms/step - loss: 1.2391 - precision: 0.6263 - recall: 0.1585 - val_loss: 1.2566 - val_precision: 0.5869 - val_recall: 0.1845\n",
      "Epoch 5/10\n",
      "\u001b[1m740/740\u001b[0m \u001b[32m━━━━━━━━━━━━━━━━━━━━\u001b[0m\u001b[37m\u001b[0m \u001b[1m8s\u001b[0m 10ms/step - loss: 1.2240 - precision: 0.6296 - recall: 0.1784 - val_loss: 1.2467 - val_precision: 0.5872 - val_recall: 0.2034\n",
      "Epoch 6/10\n",
      "\u001b[1m740/740\u001b[0m \u001b[32m━━━━━━━━━━━━━━━━━━━━\u001b[0m\u001b[37m\u001b[0m \u001b[1m8s\u001b[0m 10ms/step - loss: 1.2101 - precision: 0.6369 - recall: 0.1985 - val_loss: 1.2386 - val_precision: 0.6139 - val_recall: 0.1900\n",
      "Epoch 7/10\n",
      "\u001b[1m740/740\u001b[0m \u001b[32m━━━━━━━━━━━━━━━━━━━━\u001b[0m\u001b[37m\u001b[0m \u001b[1m7s\u001b[0m 10ms/step - loss: 1.1982 - precision: 0.6510 - recall: 0.2114 - val_loss: 1.2443 - val_precision: 0.5850 - val_recall: 0.2314\n",
      "Epoch 8/10\n",
      "\u001b[1m740/740\u001b[0m \u001b[32m━━━━━━━━━━━━━━━━━━━━\u001b[0m\u001b[37m\u001b[0m \u001b[1m7s\u001b[0m 10ms/step - loss: 1.1813 - precision: 0.6511 - recall: 0.2297 - val_loss: 1.2355 - val_precision: 0.6066 - val_recall: 0.2085\n",
      "Epoch 9/10\n",
      "\u001b[1m740/740\u001b[0m \u001b[32m━━━━━━━━━━━━━━━━━━━━\u001b[0m\u001b[37m\u001b[0m \u001b[1m8s\u001b[0m 10ms/step - loss: 1.1665 - precision: 0.6612 - recall: 0.2467 - val_loss: 1.2358 - val_precision: 0.6063 - val_recall: 0.2190\n",
      "Epoch 10/10\n",
      "\u001b[1m740/740\u001b[0m \u001b[32m━━━━━━━━━━━━━━━━━━━━\u001b[0m\u001b[37m\u001b[0m \u001b[1m7s\u001b[0m 10ms/step - loss: 1.1523 - precision: 0.6663 - recall: 0.2619 - val_loss: 1.2334 - val_precision: 0.5950 - val_recall: 0.2436\n"
     ]
    }
   ],
   "source": [
    "history = model.fit(X_train, Y_train, validation_split=0.2, batch_size=64, epochs=10)"
   ]
  },
  {
   "cell_type": "code",
   "execution_count": 97,
   "metadata": {
    "colab": {
     "base_uri": "https://localhost:8080/",
     "height": 434
    },
    "executionInfo": {
     "elapsed": 557,
     "status": "ok",
     "timestamp": 1702495084468,
     "user": {
      "displayName": "Milena Trajanoska",
      "userId": "04043802626059007351"
     },
     "user_tz": -60
    },
    "id": "eeFHr7PMmEEm",
    "outputId": "4658093d-55a2-46fb-89d6-afe2949c9fe7"
   },
   "outputs": [
    {
     "data": {
      "image/png": "[encoded data removed]",
      "text/plain": [
       "<Figure size 640x480 with 1 Axes>"
      ]
     },
     "metadata": {},
     "output_type": "display_data"
    }
   ],
   "source": [
    "plt.plot(history.history['loss'], label='loss')\n",
    "plt.plot(history.history['val_loss'], label='val_loss')\n",
    "plt.show()"
   ]
  },
  {
   "cell_type": "markdown",
   "metadata": {
    "id": "J5J9-0REnXOd"
   },
   "source": [
    "What does it mean?"
   ]
  },
  {
   "cell_type": "code",
   "execution_count": 99,
   "metadata": {
    "colab": {
     "base_uri": "https://localhost:8080/"
    },
    "executionInfo": {
     "elapsed": 12038,
     "status": "ok",
     "timestamp": 1702495116861,
     "user": {
      "displayName": "Milena Trajanoska",
      "userId": "04043802626059007351"
     },
     "user_tz": -60
    },
    "id": "WGQBZnitnWdD",
    "outputId": "551a2cce-4237-4a64-fa27-86606277e79f"
   },
   "outputs": [
    {
     "name": "stdout",
     "output_type": "stream",
     "text": [
      "\u001b[1m463/463\u001b[0m \u001b[32m━━━━━━━━━━━━━━━━━━━━\u001b[0m\u001b[37m\u001b[0m \u001b[1m3s\u001b[0m 5ms/step\n"
     ]
    }
   ],
   "source": [
    "preds = model.predict(X_test)"
   ]
  },
  {
   "cell_type": "code",
   "execution_count": 100,
   "metadata": {
    "colab": {
     "base_uri": "https://localhost:8080/",
     "height": 449
    },
    "executionInfo": {
     "elapsed": 922,
     "status": "ok",
     "timestamp": 1702495187391,
     "user": {
      "displayName": "Milena Trajanoska",
      "userId": "04043802626059007351"
     },
     "user_tz": -60
    },
    "id": "9Vh3j1HEmv8U",
    "outputId": "444fec1b-2923-4322-aed8-d73c3c645cb6"
   },
   "outputs": [
    {
     "data": {
      "image/png": "[encoded data removed]",
      "text/plain": [
       "<Figure size 640x480 with 2 Axes>"
      ]
     },
     "metadata": {},
     "output_type": "display_data"
    }
   ],
   "source": [
    "confmat = confusion_matrix(np.argmax(Y_test.values, axis=1), np.argmax(preds, axis=1))\n",
    "sns.heatmap(confmat, annot=True, cmap='Blues', fmt='5.2f')\n",
    "plt.xlabel('Predicted label')\n",
    "plt.ylabel('True label')\n",
    "plt.show()"
   ]
  },
  {
   "cell_type": "code",
   "execution_count": 101,
   "metadata": {
    "colab": {
     "base_uri": "https://localhost:8080/"
    },
    "executionInfo": {
     "elapsed": 270,
     "status": "ok",
     "timestamp": 1702495220926,
     "user": {
      "displayName": "Milena Trajanoska",
      "userId": "04043802626059007351"
     },
     "user_tz": -60
    },
    "id": "8JFDveHMnBq1",
    "outputId": "e668d751-7a42-4623-e2e9-c12e84405e80"
   },
   "outputs": [
    {
     "name": "stdout",
     "output_type": "stream",
     "text": [
      "              precision    recall  f1-score   support\n",
      "\n",
      "           0       0.56      0.06      0.12      2561\n",
      "           1       0.44      0.65      0.52      4457\n",
      "           2       0.49      0.46      0.48      3668\n",
      "           3       0.46      0.49      0.47      4114\n",
      "\n",
      "    accuracy                           0.46     14800\n",
      "   macro avg       0.49      0.42      0.40     14800\n",
      "weighted avg       0.48      0.46      0.43     14800\n",
      "\n"
     ]
    }
   ],
   "source": [
    "print(classification_report(np.argmax(Y_test.values, axis=1), np.argmax(preds, axis=1)))"
   ]
  }
 ],
 "metadata": {
  "colab": {
   "authorship_tag": "ABX9TyOZi6YIUUrI8e8H5k60v7d0",
   "mount_file_id": "14aK0bZWPfMReuGKinJ0xqjbFTLYdIdqD",
   "provenance": []
  },
  "kernelspec": {
   "display_name": "Python 3 (ipykernel)",
   "language": "python",
   "name": "python3"
  },
  "language_info": {
   "codemirror_mode": {
    "name": "ipython",
    "version": 3
   },
   "file_extension": ".py",
   "mimetype": "text/x-python",
   "name": "python",
   "nbconvert_exporter": "python",
   "pygments_lexer": "ipython3",
   "version": "3.12.7"
  }
 },
 "nbformat": 4,
 "nbformat_minor": 4
}
