{
 "cells": [
  {
   "cell_type": "markdown",
   "metadata": {
    "id": "bPifLCgpTIOE"
   },
   "source": [
    "# Time-series Forecasting\n",
    "\n",
    "## Description\n",
    "The data consists of 52,416 observations of energy consumption on a 10-minute window. Every observation is described by the following feature columns.\n",
    "\n",
    "Your task is to **aggregate the observations on an interval of 38 minutes**. For this time interval, using the values of the **9 previous time intervals**, forecast the target value one step in the future. Choose which features you are going to use.\n",
    "\n",
    "**You must train an LSTM network.**\n",
    "\n",
    "\n",
    "\n",
    "Features:\n",
    "\n",
    "* TimePeriod: Time window of ten minutes.\n",
    "* WT: Weather Temperature.\n",
    "* WH: Weather Humidity.\n",
    "* WS: Wind Speed.\n",
    "* GDF: General Diffuse Flow. “Diffuse flow” is a catchall term to describe low-temperature (< 0.2° to ~ 100°C) fluids that slowly discharge through sulfide mounds, fractured lava flows, and assemblages of bacterial mats and macrofauna.\n",
    "* DF: DiffuseFlows\n",
    "\n",
    "Target:\n",
    "\n",
    "Consumption\n",
    "\n",
    "## Dateset links:\n",
    " * [DS1](https://drive.google.com/file/d/1-8neeIpiq6yzWVw4EG_WgzHX4kPH1n1j/view?usp=sharing)\n",
    " * [DS2](https://drive.google.com/file/d/1-LhrUaH59q8O0SYB8WE-Eov2gaTMQYVx/view?usp=sharing)"
   ]
  },
  {
   "cell_type": "markdown",
   "metadata": {
    "id": "WRImf3uwjeVy"
   },
   "source": [
    "## Read the datasets"
   ]
  },
  {
   "cell_type": "code",
   "execution_count": 83,
   "metadata": {
    "id": "MRn3umfJTDRx"
   },
   "outputs": [
    {
     "data": {
      "text/html": [
       "<div>\n",
       "<style scoped>\n",
       "    .dataframe tbody tr th:only-of-type {\n",
       "        vertical-align: middle;\n",
       "    }\n",
       "\n",
       "    .dataframe tbody tr th {\n",
       "        vertical-align: top;\n",
       "    }\n",
       "\n",
       "    .dataframe thead th {\n",
       "        text-align: right;\n",
       "    }\n",
       "</style>\n",
       "<table border=\"1\" class=\"dataframe\">\n",
       "  <thead>\n",
       "    <tr style=\"text-align: right;\">\n",
       "      <th></th>\n",
       "      <th>TimePeriod</th>\n",
       "      <th>WT</th>\n",
       "      <th>WH</th>\n",
       "      <th>WS</th>\n",
       "      <th>GDF</th>\n",
       "      <th>DF</th>\n",
       "    </tr>\n",
       "  </thead>\n",
       "  <tbody>\n",
       "    <tr>\n",
       "      <th>0</th>\n",
       "      <td>2017-03-01 16:40:00</td>\n",
       "      <td>21.33</td>\n",
       "      <td>55.91</td>\n",
       "      <td>0.080</td>\n",
       "      <td>387.400</td>\n",
       "      <td>427.300</td>\n",
       "    </tr>\n",
       "    <tr>\n",
       "      <th>1</th>\n",
       "      <td>2017-07-27 06:30:00</td>\n",
       "      <td>23.10</td>\n",
       "      <td>48.58</td>\n",
       "      <td>4.908</td>\n",
       "      <td>10.450</td>\n",
       "      <td>8.630</td>\n",
       "    </tr>\n",
       "    <tr>\n",
       "      <th>2</th>\n",
       "      <td>2017-10-11 19:00:00</td>\n",
       "      <td>23.10</td>\n",
       "      <td>59.82</td>\n",
       "      <td>0.084</td>\n",
       "      <td>0.446</td>\n",
       "      <td>0.322</td>\n",
       "    </tr>\n",
       "    <tr>\n",
       "      <th>3</th>\n",
       "      <td>2017-02-10 06:50:00</td>\n",
       "      <td>12.25</td>\n",
       "      <td>80.80</td>\n",
       "      <td>4.916</td>\n",
       "      <td>0.051</td>\n",
       "      <td>0.111</td>\n",
       "    </tr>\n",
       "    <tr>\n",
       "      <th>4</th>\n",
       "      <td>2017-03-06 16:00:00</td>\n",
       "      <td>15.62</td>\n",
       "      <td>59.38</td>\n",
       "      <td>0.075</td>\n",
       "      <td>533.400</td>\n",
       "      <td>579.900</td>\n",
       "    </tr>\n",
       "    <tr>\n",
       "      <th>...</th>\n",
       "      <td>...</td>\n",
       "      <td>...</td>\n",
       "      <td>...</td>\n",
       "      <td>...</td>\n",
       "      <td>...</td>\n",
       "      <td>...</td>\n",
       "    </tr>\n",
       "    <tr>\n",
       "      <th>52411</th>\n",
       "      <td>2017-05-14 02:20:00</td>\n",
       "      <td>23.58</td>\n",
       "      <td>43.10</td>\n",
       "      <td>0.075</td>\n",
       "      <td>0.110</td>\n",
       "      <td>0.122</td>\n",
       "    </tr>\n",
       "    <tr>\n",
       "      <th>52412</th>\n",
       "      <td>2017-11-17 19:20:00</td>\n",
       "      <td>17.30</td>\n",
       "      <td>76.50</td>\n",
       "      <td>0.075</td>\n",
       "      <td>0.040</td>\n",
       "      <td>0.148</td>\n",
       "    </tr>\n",
       "    <tr>\n",
       "      <th>52413</th>\n",
       "      <td>2017-03-21 12:10:00</td>\n",
       "      <td>17.90</td>\n",
       "      <td>50.28</td>\n",
       "      <td>0.081</td>\n",
       "      <td>837.000</td>\n",
       "      <td>296.700</td>\n",
       "    </tr>\n",
       "    <tr>\n",
       "      <th>52414</th>\n",
       "      <td>2017-07-28 05:10:00</td>\n",
       "      <td>25.23</td>\n",
       "      <td>61.32</td>\n",
       "      <td>4.907</td>\n",
       "      <td>0.091</td>\n",
       "      <td>0.119</td>\n",
       "    </tr>\n",
       "    <tr>\n",
       "      <th>52415</th>\n",
       "      <td>2017-12-16 20:30:00</td>\n",
       "      <td>13.90</td>\n",
       "      <td>80.80</td>\n",
       "      <td>0.082</td>\n",
       "      <td>0.051</td>\n",
       "      <td>0.152</td>\n",
       "    </tr>\n",
       "  </tbody>\n",
       "</table>\n",
       "<p>52416 rows × 6 columns</p>\n",
       "</div>"
      ],
      "text/plain": [
       "                TimePeriod     WT     WH     WS      GDF       DF\n",
       "0      2017-03-01 16:40:00  21.33  55.91  0.080  387.400  427.300\n",
       "1      2017-07-27 06:30:00  23.10  48.58  4.908   10.450    8.630\n",
       "2      2017-10-11 19:00:00  23.10  59.82  0.084    0.446    0.322\n",
       "3      2017-02-10 06:50:00  12.25  80.80  4.916    0.051    0.111\n",
       "4      2017-03-06 16:00:00  15.62  59.38  0.075  533.400  579.900\n",
       "...                    ...    ...    ...    ...      ...      ...\n",
       "52411  2017-05-14 02:20:00  23.58  43.10  0.075    0.110    0.122\n",
       "52412  2017-11-17 19:20:00  17.30  76.50  0.075    0.040    0.148\n",
       "52413  2017-03-21 12:10:00  17.90  50.28  0.081  837.000  296.700\n",
       "52414  2017-07-28 05:10:00  25.23  61.32  4.907    0.091    0.119\n",
       "52415  2017-12-16 20:30:00  13.90  80.80  0.082    0.051    0.152\n",
       "\n",
       "[52416 rows x 6 columns]"
      ]
     },
     "execution_count": 83,
     "metadata": {},
     "output_type": "execute_result"
    }
   ],
   "source": [
    "import pandas as pd\n",
    "features_df = pd.read_csv(\"power_consumption_g2_feat.csv\")\n",
    "features_df\n"
   ]
  },
  {
   "cell_type": "code",
   "execution_count": 84,
   "metadata": {},
   "outputs": [
    {
     "data": {
      "text/html": [
       "<div>\n",
       "<style scoped>\n",
       "    .dataframe tbody tr th:only-of-type {\n",
       "        vertical-align: middle;\n",
       "    }\n",
       "\n",
       "    .dataframe tbody tr th {\n",
       "        vertical-align: top;\n",
       "    }\n",
       "\n",
       "    .dataframe thead th {\n",
       "        text-align: right;\n",
       "    }\n",
       "</style>\n",
       "<table border=\"1\" class=\"dataframe\">\n",
       "  <thead>\n",
       "    <tr style=\"text-align: right;\">\n",
       "      <th></th>\n",
       "      <th>WT</th>\n",
       "      <th>WH</th>\n",
       "      <th>WS</th>\n",
       "      <th>GDF</th>\n",
       "      <th>DF</th>\n",
       "    </tr>\n",
       "    <tr>\n",
       "      <th>TimePeriod</th>\n",
       "      <th></th>\n",
       "      <th></th>\n",
       "      <th></th>\n",
       "      <th></th>\n",
       "      <th></th>\n",
       "    </tr>\n",
       "  </thead>\n",
       "  <tbody>\n",
       "    <tr>\n",
       "      <th>2017-01-01 00:00:00</th>\n",
       "      <td>6.559</td>\n",
       "      <td>73.8</td>\n",
       "      <td>0.083</td>\n",
       "      <td>0.051</td>\n",
       "      <td>0.119</td>\n",
       "    </tr>\n",
       "    <tr>\n",
       "      <th>2017-01-01 00:10:00</th>\n",
       "      <td>6.414</td>\n",
       "      <td>74.5</td>\n",
       "      <td>0.083</td>\n",
       "      <td>0.070</td>\n",
       "      <td>0.085</td>\n",
       "    </tr>\n",
       "    <tr>\n",
       "      <th>2017-01-01 00:20:00</th>\n",
       "      <td>6.313</td>\n",
       "      <td>74.5</td>\n",
       "      <td>0.080</td>\n",
       "      <td>0.062</td>\n",
       "      <td>0.100</td>\n",
       "    </tr>\n",
       "    <tr>\n",
       "      <th>2017-01-01 00:30:00</th>\n",
       "      <td>6.121</td>\n",
       "      <td>75.0</td>\n",
       "      <td>0.083</td>\n",
       "      <td>0.091</td>\n",
       "      <td>0.096</td>\n",
       "    </tr>\n",
       "    <tr>\n",
       "      <th>2017-01-01 00:40:00</th>\n",
       "      <td>5.921</td>\n",
       "      <td>75.7</td>\n",
       "      <td>0.081</td>\n",
       "      <td>0.048</td>\n",
       "      <td>0.085</td>\n",
       "    </tr>\n",
       "    <tr>\n",
       "      <th>...</th>\n",
       "      <td>...</td>\n",
       "      <td>...</td>\n",
       "      <td>...</td>\n",
       "      <td>...</td>\n",
       "      <td>...</td>\n",
       "    </tr>\n",
       "    <tr>\n",
       "      <th>2017-12-30 23:10:00</th>\n",
       "      <td>7.010</td>\n",
       "      <td>72.4</td>\n",
       "      <td>0.080</td>\n",
       "      <td>NaN</td>\n",
       "      <td>0.096</td>\n",
       "    </tr>\n",
       "    <tr>\n",
       "      <th>2017-12-30 23:20:00</th>\n",
       "      <td>6.947</td>\n",
       "      <td>72.6</td>\n",
       "      <td>0.082</td>\n",
       "      <td>0.051</td>\n",
       "      <td>0.093</td>\n",
       "    </tr>\n",
       "    <tr>\n",
       "      <th>2017-12-30 23:30:00</th>\n",
       "      <td>6.900</td>\n",
       "      <td>72.8</td>\n",
       "      <td>0.086</td>\n",
       "      <td>0.084</td>\n",
       "      <td>0.074</td>\n",
       "    </tr>\n",
       "    <tr>\n",
       "      <th>2017-12-30 23:40:00</th>\n",
       "      <td>6.758</td>\n",
       "      <td>73.0</td>\n",
       "      <td>0.080</td>\n",
       "      <td>0.066</td>\n",
       "      <td>0.089</td>\n",
       "    </tr>\n",
       "    <tr>\n",
       "      <th>2017-12-30 23:50:00</th>\n",
       "      <td>6.580</td>\n",
       "      <td>74.1</td>\n",
       "      <td>0.081</td>\n",
       "      <td>0.062</td>\n",
       "      <td>0.111</td>\n",
       "    </tr>\n",
       "  </tbody>\n",
       "</table>\n",
       "<p>52416 rows × 5 columns</p>\n",
       "</div>"
      ],
      "text/plain": [
       "                        WT    WH     WS    GDF     DF\n",
       "TimePeriod                                           \n",
       "2017-01-01 00:00:00  6.559  73.8  0.083  0.051  0.119\n",
       "2017-01-01 00:10:00  6.414  74.5  0.083  0.070  0.085\n",
       "2017-01-01 00:20:00  6.313  74.5  0.080  0.062  0.100\n",
       "2017-01-01 00:30:00  6.121  75.0  0.083  0.091  0.096\n",
       "2017-01-01 00:40:00  5.921  75.7  0.081  0.048  0.085\n",
       "...                    ...   ...    ...    ...    ...\n",
       "2017-12-30 23:10:00  7.010  72.4  0.080    NaN  0.096\n",
       "2017-12-30 23:20:00  6.947  72.6  0.082  0.051  0.093\n",
       "2017-12-30 23:30:00  6.900  72.8  0.086  0.084  0.074\n",
       "2017-12-30 23:40:00  6.758  73.0  0.080  0.066  0.089\n",
       "2017-12-30 23:50:00  6.580  74.1  0.081  0.062  0.111\n",
       "\n",
       "[52416 rows x 5 columns]"
      ]
     },
     "execution_count": 84,
     "metadata": {},
     "output_type": "execute_result"
    }
   ],
   "source": [
    "features_df[\"TimePeriod\"] = pd.to_datetime(features_df[\"TimePeriod\"])\n",
    "features_df.set_index(keys=[\"TimePeriod\"], inplace=True)\n",
    "features_df.sort_index(inplace=True)\n",
    "features_df"
   ]
  },
  {
   "cell_type": "code",
   "execution_count": 85,
   "metadata": {},
   "outputs": [
    {
     "data": {
      "text/html": [
       "<div>\n",
       "<style scoped>\n",
       "    .dataframe tbody tr th:only-of-type {\n",
       "        vertical-align: middle;\n",
       "    }\n",
       "\n",
       "    .dataframe tbody tr th {\n",
       "        vertical-align: top;\n",
       "    }\n",
       "\n",
       "    .dataframe thead th {\n",
       "        text-align: right;\n",
       "    }\n",
       "</style>\n",
       "<table border=\"1\" class=\"dataframe\">\n",
       "  <thead>\n",
       "    <tr style=\"text-align: right;\">\n",
       "      <th></th>\n",
       "      <th>TimePeriod</th>\n",
       "      <th>Consumption</th>\n",
       "    </tr>\n",
       "  </thead>\n",
       "  <tbody>\n",
       "    <tr>\n",
       "      <th>0</th>\n",
       "      <td>2017-12-02 20:10:00</td>\n",
       "      <td>36824.33460</td>\n",
       "    </tr>\n",
       "    <tr>\n",
       "      <th>1</th>\n",
       "      <td>2017-12-25 15:30:00</td>\n",
       "      <td>31841.82510</td>\n",
       "    </tr>\n",
       "    <tr>\n",
       "      <th>2</th>\n",
       "      <td>2017-05-19 21:10:00</td>\n",
       "      <td>44909.11475</td>\n",
       "    </tr>\n",
       "    <tr>\n",
       "      <th>3</th>\n",
       "      <td>2017-05-28 04:50:00</td>\n",
       "      <td>22964.45902</td>\n",
       "    </tr>\n",
       "    <tr>\n",
       "      <th>4</th>\n",
       "      <td>2017-05-08 16:10:00</td>\n",
       "      <td>33829.77049</td>\n",
       "    </tr>\n",
       "    <tr>\n",
       "      <th>...</th>\n",
       "      <td>...</td>\n",
       "      <td>...</td>\n",
       "    </tr>\n",
       "    <tr>\n",
       "      <th>52411</th>\n",
       "      <td>2017-10-01 23:50:00</td>\n",
       "      <td>31138.03063</td>\n",
       "    </tr>\n",
       "    <tr>\n",
       "      <th>52412</th>\n",
       "      <td>2017-12-07 17:40:00</td>\n",
       "      <td>40091.25475</td>\n",
       "    </tr>\n",
       "    <tr>\n",
       "      <th>52413</th>\n",
       "      <td>2017-09-11 18:30:00</td>\n",
       "      <td>38930.97345</td>\n",
       "    </tr>\n",
       "    <tr>\n",
       "      <th>52414</th>\n",
       "      <td>2017-04-16 04:50:00</td>\n",
       "      <td>23734.42411</td>\n",
       "    </tr>\n",
       "    <tr>\n",
       "      <th>52415</th>\n",
       "      <td>2017-05-11 13:00:00</td>\n",
       "      <td>36599.60656</td>\n",
       "    </tr>\n",
       "  </tbody>\n",
       "</table>\n",
       "<p>52416 rows × 2 columns</p>\n",
       "</div>"
      ],
      "text/plain": [
       "                TimePeriod  Consumption\n",
       "0      2017-12-02 20:10:00  36824.33460\n",
       "1      2017-12-25 15:30:00  31841.82510\n",
       "2      2017-05-19 21:10:00  44909.11475\n",
       "3      2017-05-28 04:50:00  22964.45902\n",
       "4      2017-05-08 16:10:00  33829.77049\n",
       "...                    ...          ...\n",
       "52411  2017-10-01 23:50:00  31138.03063\n",
       "52412  2017-12-07 17:40:00  40091.25475\n",
       "52413  2017-09-11 18:30:00  38930.97345\n",
       "52414  2017-04-16 04:50:00  23734.42411\n",
       "52415  2017-05-11 13:00:00  36599.60656\n",
       "\n",
       "[52416 rows x 2 columns]"
      ]
     },
     "execution_count": 85,
     "metadata": {},
     "output_type": "execute_result"
    }
   ],
   "source": [
    "target_df = pd.read_csv(\"power_consumption_g2.csv\")\n",
    "target_df"
   ]
  },
  {
   "cell_type": "code",
   "execution_count": 86,
   "metadata": {},
   "outputs": [
    {
     "data": {
      "text/html": [
       "<div>\n",
       "<style scoped>\n",
       "    .dataframe tbody tr th:only-of-type {\n",
       "        vertical-align: middle;\n",
       "    }\n",
       "\n",
       "    .dataframe tbody tr th {\n",
       "        vertical-align: top;\n",
       "    }\n",
       "\n",
       "    .dataframe thead th {\n",
       "        text-align: right;\n",
       "    }\n",
       "</style>\n",
       "<table border=\"1\" class=\"dataframe\">\n",
       "  <thead>\n",
       "    <tr style=\"text-align: right;\">\n",
       "      <th></th>\n",
       "      <th>Consumption</th>\n",
       "    </tr>\n",
       "    <tr>\n",
       "      <th>TimePeriod</th>\n",
       "      <th></th>\n",
       "    </tr>\n",
       "  </thead>\n",
       "  <tbody>\n",
       "    <tr>\n",
       "      <th>2017-01-01 00:00:00</th>\n",
       "      <td>34055.69620</td>\n",
       "    </tr>\n",
       "    <tr>\n",
       "      <th>2017-01-01 00:10:00</th>\n",
       "      <td>29814.68354</td>\n",
       "    </tr>\n",
       "    <tr>\n",
       "      <th>2017-01-01 00:20:00</th>\n",
       "      <td>29128.10127</td>\n",
       "    </tr>\n",
       "    <tr>\n",
       "      <th>2017-01-01 00:30:00</th>\n",
       "      <td>28228.86076</td>\n",
       "    </tr>\n",
       "    <tr>\n",
       "      <th>2017-01-01 00:40:00</th>\n",
       "      <td>27335.69620</td>\n",
       "    </tr>\n",
       "    <tr>\n",
       "      <th>...</th>\n",
       "      <td>...</td>\n",
       "    </tr>\n",
       "    <tr>\n",
       "      <th>2017-12-30 23:10:00</th>\n",
       "      <td>31160.45627</td>\n",
       "    </tr>\n",
       "    <tr>\n",
       "      <th>2017-12-30 23:20:00</th>\n",
       "      <td>30430.41825</td>\n",
       "    </tr>\n",
       "    <tr>\n",
       "      <th>2017-12-30 23:30:00</th>\n",
       "      <td>29590.87452</td>\n",
       "    </tr>\n",
       "    <tr>\n",
       "      <th>2017-12-30 23:40:00</th>\n",
       "      <td>28958.17490</td>\n",
       "    </tr>\n",
       "    <tr>\n",
       "      <th>2017-12-30 23:50:00</th>\n",
       "      <td>28349.80989</td>\n",
       "    </tr>\n",
       "  </tbody>\n",
       "</table>\n",
       "<p>52416 rows × 1 columns</p>\n",
       "</div>"
      ],
      "text/plain": [
       "                     Consumption\n",
       "TimePeriod                      \n",
       "2017-01-01 00:00:00  34055.69620\n",
       "2017-01-01 00:10:00  29814.68354\n",
       "2017-01-01 00:20:00  29128.10127\n",
       "2017-01-01 00:30:00  28228.86076\n",
       "2017-01-01 00:40:00  27335.69620\n",
       "...                          ...\n",
       "2017-12-30 23:10:00  31160.45627\n",
       "2017-12-30 23:20:00  30430.41825\n",
       "2017-12-30 23:30:00  29590.87452\n",
       "2017-12-30 23:40:00  28958.17490\n",
       "2017-12-30 23:50:00  28349.80989\n",
       "\n",
       "[52416 rows x 1 columns]"
      ]
     },
     "execution_count": 86,
     "metadata": {},
     "output_type": "execute_result"
    }
   ],
   "source": [
    "target_df[\"TimePeriod\"] = pd.to_datetime(target_df[\"TimePeriod\"])\n",
    "target_df.set_index(keys=[\"TimePeriod\"], inplace=True)\n",
    "target_df.sort_index(inplace=True)\n",
    "target_df"
   ]
  },
  {
   "cell_type": "markdown",
   "metadata": {
    "id": "ZNXTm_lwjhpb"
   },
   "source": [
    "## Merge the datasets (and pre-process if needed)"
   ]
  },
  {
   "cell_type": "code",
   "execution_count": 88,
   "metadata": {
    "id": "mmX97V8ojhM8"
   },
   "outputs": [
    {
     "data": {
      "text/html": [
       "<div>\n",
       "<style scoped>\n",
       "    .dataframe tbody tr th:only-of-type {\n",
       "        vertical-align: middle;\n",
       "    }\n",
       "\n",
       "    .dataframe tbody tr th {\n",
       "        vertical-align: top;\n",
       "    }\n",
       "\n",
       "    .dataframe thead th {\n",
       "        text-align: right;\n",
       "    }\n",
       "</style>\n",
       "<table border=\"1\" class=\"dataframe\">\n",
       "  <thead>\n",
       "    <tr style=\"text-align: right;\">\n",
       "      <th></th>\n",
       "      <th>WT</th>\n",
       "      <th>WH</th>\n",
       "      <th>WS</th>\n",
       "      <th>GDF</th>\n",
       "      <th>DF</th>\n",
       "      <th>Consumption</th>\n",
       "    </tr>\n",
       "    <tr>\n",
       "      <th>TimePeriod</th>\n",
       "      <th></th>\n",
       "      <th></th>\n",
       "      <th></th>\n",
       "      <th></th>\n",
       "      <th></th>\n",
       "      <th></th>\n",
       "    </tr>\n",
       "  </thead>\n",
       "  <tbody>\n",
       "    <tr>\n",
       "      <th>2017-01-01 00:00:00</th>\n",
       "      <td>6.559</td>\n",
       "      <td>73.8</td>\n",
       "      <td>0.083</td>\n",
       "      <td>0.051</td>\n",
       "      <td>0.119</td>\n",
       "      <td>34055.69620</td>\n",
       "    </tr>\n",
       "    <tr>\n",
       "      <th>2017-01-01 00:10:00</th>\n",
       "      <td>6.414</td>\n",
       "      <td>74.5</td>\n",
       "      <td>0.083</td>\n",
       "      <td>0.070</td>\n",
       "      <td>0.085</td>\n",
       "      <td>29814.68354</td>\n",
       "    </tr>\n",
       "    <tr>\n",
       "      <th>2017-01-01 00:20:00</th>\n",
       "      <td>6.313</td>\n",
       "      <td>74.5</td>\n",
       "      <td>0.080</td>\n",
       "      <td>0.062</td>\n",
       "      <td>0.100</td>\n",
       "      <td>29128.10127</td>\n",
       "    </tr>\n",
       "    <tr>\n",
       "      <th>2017-01-01 00:30:00</th>\n",
       "      <td>6.121</td>\n",
       "      <td>75.0</td>\n",
       "      <td>0.083</td>\n",
       "      <td>0.091</td>\n",
       "      <td>0.096</td>\n",
       "      <td>28228.86076</td>\n",
       "    </tr>\n",
       "    <tr>\n",
       "      <th>2017-01-01 00:40:00</th>\n",
       "      <td>5.921</td>\n",
       "      <td>75.7</td>\n",
       "      <td>0.081</td>\n",
       "      <td>0.048</td>\n",
       "      <td>0.085</td>\n",
       "      <td>27335.69620</td>\n",
       "    </tr>\n",
       "    <tr>\n",
       "      <th>...</th>\n",
       "      <td>...</td>\n",
       "      <td>...</td>\n",
       "      <td>...</td>\n",
       "      <td>...</td>\n",
       "      <td>...</td>\n",
       "      <td>...</td>\n",
       "    </tr>\n",
       "    <tr>\n",
       "      <th>2017-12-30 23:10:00</th>\n",
       "      <td>7.010</td>\n",
       "      <td>72.4</td>\n",
       "      <td>0.080</td>\n",
       "      <td>NaN</td>\n",
       "      <td>0.096</td>\n",
       "      <td>31160.45627</td>\n",
       "    </tr>\n",
       "    <tr>\n",
       "      <th>2017-12-30 23:20:00</th>\n",
       "      <td>6.947</td>\n",
       "      <td>72.6</td>\n",
       "      <td>0.082</td>\n",
       "      <td>0.051</td>\n",
       "      <td>0.093</td>\n",
       "      <td>30430.41825</td>\n",
       "    </tr>\n",
       "    <tr>\n",
       "      <th>2017-12-30 23:30:00</th>\n",
       "      <td>6.900</td>\n",
       "      <td>72.8</td>\n",
       "      <td>0.086</td>\n",
       "      <td>0.084</td>\n",
       "      <td>0.074</td>\n",
       "      <td>29590.87452</td>\n",
       "    </tr>\n",
       "    <tr>\n",
       "      <th>2017-12-30 23:40:00</th>\n",
       "      <td>6.758</td>\n",
       "      <td>73.0</td>\n",
       "      <td>0.080</td>\n",
       "      <td>0.066</td>\n",
       "      <td>0.089</td>\n",
       "      <td>28958.17490</td>\n",
       "    </tr>\n",
       "    <tr>\n",
       "      <th>2017-12-30 23:50:00</th>\n",
       "      <td>6.580</td>\n",
       "      <td>74.1</td>\n",
       "      <td>0.081</td>\n",
       "      <td>0.062</td>\n",
       "      <td>0.111</td>\n",
       "      <td>28349.80989</td>\n",
       "    </tr>\n",
       "  </tbody>\n",
       "</table>\n",
       "<p>52416 rows × 6 columns</p>\n",
       "</div>"
      ],
      "text/plain": [
       "                        WT    WH     WS    GDF     DF  Consumption\n",
       "TimePeriod                                                        \n",
       "2017-01-01 00:00:00  6.559  73.8  0.083  0.051  0.119  34055.69620\n",
       "2017-01-01 00:10:00  6.414  74.5  0.083  0.070  0.085  29814.68354\n",
       "2017-01-01 00:20:00  6.313  74.5  0.080  0.062  0.100  29128.10127\n",
       "2017-01-01 00:30:00  6.121  75.0  0.083  0.091  0.096  28228.86076\n",
       "2017-01-01 00:40:00  5.921  75.7  0.081  0.048  0.085  27335.69620\n",
       "...                    ...   ...    ...    ...    ...          ...\n",
       "2017-12-30 23:10:00  7.010  72.4  0.080    NaN  0.096  31160.45627\n",
       "2017-12-30 23:20:00  6.947  72.6  0.082  0.051  0.093  30430.41825\n",
       "2017-12-30 23:30:00  6.900  72.8  0.086  0.084  0.074  29590.87452\n",
       "2017-12-30 23:40:00  6.758  73.0  0.080  0.066  0.089  28958.17490\n",
       "2017-12-30 23:50:00  6.580  74.1  0.081  0.062  0.111  28349.80989\n",
       "\n",
       "[52416 rows x 6 columns]"
      ]
     },
     "execution_count": 88,
     "metadata": {},
     "output_type": "execute_result"
    }
   ],
   "source": [
    "df = pd.merge(left=features_df, right=target_df, right_index=True, left_index=True)\n",
    "df"
   ]
  },
  {
   "cell_type": "code",
   "execution_count": 89,
   "metadata": {},
   "outputs": [
    {
     "data": {
      "text/plain": [
       "WT             559\n",
       "WH             499\n",
       "WS             529\n",
       "GDF            524\n",
       "DF             505\n",
       "Consumption      0\n",
       "dtype: int64"
      ]
     },
     "execution_count": 89,
     "metadata": {},
     "output_type": "execute_result"
    }
   ],
   "source": [
    "df.isnull().sum()"
   ]
  },
  {
   "cell_type": "markdown",
   "metadata": {
    "id": "6cTsIz3vjjJr"
   },
   "source": [
    "## Group the datasets into time intervals of 1 hour"
   ]
  },
  {
   "cell_type": "code",
   "execution_count": 91,
   "metadata": {
    "id": "bsufA_wIjloq"
   },
   "outputs": [
    {
     "data": {
      "text/plain": [
       "Index(['WT', 'WH', 'WS', 'GDF', 'DF', 'Consumption'], dtype='object')"
      ]
     },
     "execution_count": 91,
     "metadata": {},
     "output_type": "execute_result"
    }
   ],
   "source": [
    "df.columns"
   ]
  },
  {
   "cell_type": "code",
   "execution_count": 92,
   "metadata": {},
   "outputs": [],
   "source": [
    "features = ['WT', 'WH', 'WS', 'GDF', 'DF']\n",
    "target = 'Consumption'"
   ]
  },
  {
   "cell_type": "code",
   "execution_count": 93,
   "metadata": {},
   "outputs": [],
   "source": [
    "for feature in features:\n",
    "    df[feature] = df[feature].interpolate(method = 'linear')"
   ]
  },
  {
   "cell_type": "code",
   "execution_count": 94,
   "metadata": {},
   "outputs": [],
   "source": [
    "df = df.groupby(pd.Grouper(freq=\"2h\")).mean()"
   ]
  },
  {
   "cell_type": "markdown",
   "metadata": {
    "id": "SDiLVboNjmbU"
   },
   "source": [
    "## Create lags"
   ]
  },
  {
   "cell_type": "code",
   "execution_count": 96,
   "metadata": {
    "id": "pia98cPkjtyV"
   },
   "outputs": [
    {
     "data": {
      "text/html": [
       "<div>\n",
       "<style scoped>\n",
       "    .dataframe tbody tr th:only-of-type {\n",
       "        vertical-align: middle;\n",
       "    }\n",
       "\n",
       "    .dataframe tbody tr th {\n",
       "        vertical-align: top;\n",
       "    }\n",
       "\n",
       "    .dataframe thead th {\n",
       "        text-align: right;\n",
       "    }\n",
       "</style>\n",
       "<table border=\"1\" class=\"dataframe\">\n",
       "  <thead>\n",
       "    <tr style=\"text-align: right;\">\n",
       "      <th></th>\n",
       "      <th>Consumption</th>\n",
       "      <th>WT_9</th>\n",
       "      <th>WH_9</th>\n",
       "      <th>WS_9</th>\n",
       "      <th>GDF_9</th>\n",
       "      <th>DF_9</th>\n",
       "      <th>Consumption_9</th>\n",
       "      <th>WT_8</th>\n",
       "      <th>WH_8</th>\n",
       "      <th>WS_8</th>\n",
       "      <th>...</th>\n",
       "      <th>WS_2</th>\n",
       "      <th>GDF_2</th>\n",
       "      <th>DF_2</th>\n",
       "      <th>Consumption_2</th>\n",
       "      <th>WT_1</th>\n",
       "      <th>WH_1</th>\n",
       "      <th>WS_1</th>\n",
       "      <th>GDF_1</th>\n",
       "      <th>DF_1</th>\n",
       "      <th>Consumption_1</th>\n",
       "    </tr>\n",
       "    <tr>\n",
       "      <th>TimePeriod</th>\n",
       "      <th></th>\n",
       "      <th></th>\n",
       "      <th></th>\n",
       "      <th></th>\n",
       "      <th></th>\n",
       "      <th></th>\n",
       "      <th></th>\n",
       "      <th></th>\n",
       "      <th></th>\n",
       "      <th></th>\n",
       "      <th></th>\n",
       "      <th></th>\n",
       "      <th></th>\n",
       "      <th></th>\n",
       "      <th></th>\n",
       "      <th></th>\n",
       "      <th></th>\n",
       "      <th></th>\n",
       "      <th></th>\n",
       "      <th></th>\n",
       "      <th></th>\n",
       "    </tr>\n",
       "  </thead>\n",
       "  <tbody>\n",
       "    <tr>\n",
       "      <th>2017-01-01 18:00:00</th>\n",
       "      <td>39969.113924</td>\n",
       "      <td>5.866833</td>\n",
       "      <td>76.300000</td>\n",
       "      <td>0.081917</td>\n",
       "      <td>0.060167</td>\n",
       "      <td>0.105667</td>\n",
       "      <td>26927.594937</td>\n",
       "      <td>5.029333</td>\n",
       "      <td>78.008333</td>\n",
       "      <td>0.082583</td>\n",
       "      <td>...</td>\n",
       "      <td>0.075667</td>\n",
       "      <td>377.458333</td>\n",
       "      <td>48.125000</td>\n",
       "      <td>29558.481012</td>\n",
       "      <td>15.309167</td>\n",
       "      <td>59.112500</td>\n",
       "      <td>0.077250</td>\n",
       "      <td>160.075833</td>\n",
       "      <td>169.773333</td>\n",
       "      <td>31576.708860</td>\n",
       "    </tr>\n",
       "    <tr>\n",
       "      <th>2017-01-01 20:00:00</th>\n",
       "      <td>39542.278480</td>\n",
       "      <td>5.029333</td>\n",
       "      <td>78.008333</td>\n",
       "      <td>0.082583</td>\n",
       "      <td>0.061417</td>\n",
       "      <td>0.135083</td>\n",
       "      <td>21447.088607</td>\n",
       "      <td>4.919667</td>\n",
       "      <td>74.641667</td>\n",
       "      <td>0.081667</td>\n",
       "      <td>...</td>\n",
       "      <td>0.077250</td>\n",
       "      <td>160.075833</td>\n",
       "      <td>169.773333</td>\n",
       "      <td>31576.708860</td>\n",
       "      <td>12.911667</td>\n",
       "      <td>67.740833</td>\n",
       "      <td>0.077417</td>\n",
       "      <td>2.432750</td>\n",
       "      <td>2.487417</td>\n",
       "      <td>39969.113924</td>\n",
       "    </tr>\n",
       "    <tr>\n",
       "      <th>2017-01-01 22:00:00</th>\n",
       "      <td>32522.531644</td>\n",
       "      <td>4.919667</td>\n",
       "      <td>74.641667</td>\n",
       "      <td>0.081667</td>\n",
       "      <td>0.061917</td>\n",
       "      <td>0.120833</td>\n",
       "      <td>20641.518987</td>\n",
       "      <td>4.512750</td>\n",
       "      <td>74.575000</td>\n",
       "      <td>0.082417</td>\n",
       "      <td>...</td>\n",
       "      <td>0.077417</td>\n",
       "      <td>2.432750</td>\n",
       "      <td>2.487417</td>\n",
       "      <td>39969.113924</td>\n",
       "      <td>11.725417</td>\n",
       "      <td>70.855000</td>\n",
       "      <td>0.076250</td>\n",
       "      <td>0.060333</td>\n",
       "      <td>0.097083</td>\n",
       "      <td>39542.278480</td>\n",
       "    </tr>\n",
       "    <tr>\n",
       "      <th>2017-01-02 00:00:00</th>\n",
       "      <td>23907.848100</td>\n",
       "      <td>4.512750</td>\n",
       "      <td>74.575000</td>\n",
       "      <td>0.082417</td>\n",
       "      <td>0.063583</td>\n",
       "      <td>0.122500</td>\n",
       "      <td>20094.683545</td>\n",
       "      <td>4.632167</td>\n",
       "      <td>73.791667</td>\n",
       "      <td>0.082417</td>\n",
       "      <td>...</td>\n",
       "      <td>0.076250</td>\n",
       "      <td>0.060333</td>\n",
       "      <td>0.097083</td>\n",
       "      <td>39542.278480</td>\n",
       "      <td>12.251667</td>\n",
       "      <td>69.309583</td>\n",
       "      <td>0.074667</td>\n",
       "      <td>0.066333</td>\n",
       "      <td>0.108333</td>\n",
       "      <td>32522.531644</td>\n",
       "    </tr>\n",
       "    <tr>\n",
       "      <th>2017-01-02 02:00:00</th>\n",
       "      <td>20521.518986</td>\n",
       "      <td>4.632167</td>\n",
       "      <td>73.791667</td>\n",
       "      <td>0.082417</td>\n",
       "      <td>79.281917</td>\n",
       "      <td>15.761833</td>\n",
       "      <td>21255.189872</td>\n",
       "      <td>8.019333</td>\n",
       "      <td>63.835833</td>\n",
       "      <td>2.913333</td>\n",
       "      <td>...</td>\n",
       "      <td>0.074667</td>\n",
       "      <td>0.066333</td>\n",
       "      <td>0.108333</td>\n",
       "      <td>32522.531644</td>\n",
       "      <td>10.685000</td>\n",
       "      <td>78.475000</td>\n",
       "      <td>0.076417</td>\n",
       "      <td>0.068583</td>\n",
       "      <td>0.139583</td>\n",
       "      <td>23907.848100</td>\n",
       "    </tr>\n",
       "    <tr>\n",
       "      <th>...</th>\n",
       "      <td>...</td>\n",
       "      <td>...</td>\n",
       "      <td>...</td>\n",
       "      <td>...</td>\n",
       "      <td>...</td>\n",
       "      <td>...</td>\n",
       "      <td>...</td>\n",
       "      <td>...</td>\n",
       "      <td>...</td>\n",
       "      <td>...</td>\n",
       "      <td>...</td>\n",
       "      <td>...</td>\n",
       "      <td>...</td>\n",
       "      <td>...</td>\n",
       "      <td>...</td>\n",
       "      <td>...</td>\n",
       "      <td>...</td>\n",
       "      <td>...</td>\n",
       "      <td>...</td>\n",
       "      <td>...</td>\n",
       "      <td>...</td>\n",
       "    </tr>\n",
       "    <tr>\n",
       "      <th>2017-12-30 14:00:00</th>\n",
       "      <td>29293.789606</td>\n",
       "      <td>13.562500</td>\n",
       "      <td>51.010000</td>\n",
       "      <td>0.077667</td>\n",
       "      <td>0.060833</td>\n",
       "      <td>0.106000</td>\n",
       "      <td>37362.737643</td>\n",
       "      <td>13.351667</td>\n",
       "      <td>53.502500</td>\n",
       "      <td>0.077500</td>\n",
       "      <td>...</td>\n",
       "      <td>0.077000</td>\n",
       "      <td>353.441667</td>\n",
       "      <td>36.275833</td>\n",
       "      <td>29649.683142</td>\n",
       "      <td>14.399167</td>\n",
       "      <td>38.129167</td>\n",
       "      <td>0.077667</td>\n",
       "      <td>489.841667</td>\n",
       "      <td>38.455000</td>\n",
       "      <td>30490.240812</td>\n",
       "    </tr>\n",
       "    <tr>\n",
       "      <th>2017-12-30 16:00:00</th>\n",
       "      <td>31262.864386</td>\n",
       "      <td>13.351667</td>\n",
       "      <td>53.502500</td>\n",
       "      <td>0.077500</td>\n",
       "      <td>0.060000</td>\n",
       "      <td>0.099250</td>\n",
       "      <td>32013.181242</td>\n",
       "      <td>12.705833</td>\n",
       "      <td>52.955000</td>\n",
       "      <td>0.077333</td>\n",
       "      <td>...</td>\n",
       "      <td>0.077667</td>\n",
       "      <td>489.841667</td>\n",
       "      <td>38.455000</td>\n",
       "      <td>30490.240812</td>\n",
       "      <td>14.513333</td>\n",
       "      <td>39.675417</td>\n",
       "      <td>0.077667</td>\n",
       "      <td>409.650000</td>\n",
       "      <td>42.163333</td>\n",
       "      <td>29293.789606</td>\n",
       "    </tr>\n",
       "    <tr>\n",
       "      <th>2017-12-30 18:00:00</th>\n",
       "      <td>37721.673005</td>\n",
       "      <td>12.705833</td>\n",
       "      <td>52.955000</td>\n",
       "      <td>0.077333</td>\n",
       "      <td>0.057000</td>\n",
       "      <td>0.101417</td>\n",
       "      <td>24484.664132</td>\n",
       "      <td>11.755000</td>\n",
       "      <td>53.032500</td>\n",
       "      <td>0.077917</td>\n",
       "      <td>...</td>\n",
       "      <td>0.077667</td>\n",
       "      <td>409.650000</td>\n",
       "      <td>42.163333</td>\n",
       "      <td>29293.789606</td>\n",
       "      <td>14.015000</td>\n",
       "      <td>43.082500</td>\n",
       "      <td>0.077500</td>\n",
       "      <td>153.905000</td>\n",
       "      <td>152.368333</td>\n",
       "      <td>31262.864386</td>\n",
       "    </tr>\n",
       "    <tr>\n",
       "      <th>2017-12-30 20:00:00</th>\n",
       "      <td>36183.523447</td>\n",
       "      <td>11.755000</td>\n",
       "      <td>53.032500</td>\n",
       "      <td>0.077917</td>\n",
       "      <td>0.067583</td>\n",
       "      <td>0.103250</td>\n",
       "      <td>21005.830164</td>\n",
       "      <td>11.315833</td>\n",
       "      <td>50.196667</td>\n",
       "      <td>0.078333</td>\n",
       "      <td>...</td>\n",
       "      <td>0.077500</td>\n",
       "      <td>153.905000</td>\n",
       "      <td>152.368333</td>\n",
       "      <td>31262.864386</td>\n",
       "      <td>10.112500</td>\n",
       "      <td>60.359583</td>\n",
       "      <td>0.075583</td>\n",
       "      <td>1.618917</td>\n",
       "      <td>1.676750</td>\n",
       "      <td>37721.673005</td>\n",
       "    </tr>\n",
       "    <tr>\n",
       "      <th>2017-12-30 22:00:00</th>\n",
       "      <td>32050.697084</td>\n",
       "      <td>11.315833</td>\n",
       "      <td>50.196667</td>\n",
       "      <td>0.078333</td>\n",
       "      <td>0.067250</td>\n",
       "      <td>0.109833</td>\n",
       "      <td>20576.932827</td>\n",
       "      <td>11.221667</td>\n",
       "      <td>48.974583</td>\n",
       "      <td>0.078417</td>\n",
       "      <td>...</td>\n",
       "      <td>0.075583</td>\n",
       "      <td>1.618917</td>\n",
       "      <td>1.676750</td>\n",
       "      <td>37721.673005</td>\n",
       "      <td>8.526667</td>\n",
       "      <td>66.832500</td>\n",
       "      <td>0.080917</td>\n",
       "      <td>0.062917</td>\n",
       "      <td>0.101667</td>\n",
       "      <td>36183.523447</td>\n",
       "    </tr>\n",
       "  </tbody>\n",
       "</table>\n",
       "<p>4359 rows × 55 columns</p>\n",
       "</div>"
      ],
      "text/plain": [
       "                      Consumption       WT_9       WH_9      WS_9      GDF_9  \\\n",
       "TimePeriod                                                                     \n",
       "2017-01-01 18:00:00  39969.113924   5.866833  76.300000  0.081917   0.060167   \n",
       "2017-01-01 20:00:00  39542.278480   5.029333  78.008333  0.082583   0.061417   \n",
       "2017-01-01 22:00:00  32522.531644   4.919667  74.641667  0.081667   0.061917   \n",
       "2017-01-02 00:00:00  23907.848100   4.512750  74.575000  0.082417   0.063583   \n",
       "2017-01-02 02:00:00  20521.518986   4.632167  73.791667  0.082417  79.281917   \n",
       "...                           ...        ...        ...       ...        ...   \n",
       "2017-12-30 14:00:00  29293.789606  13.562500  51.010000  0.077667   0.060833   \n",
       "2017-12-30 16:00:00  31262.864386  13.351667  53.502500  0.077500   0.060000   \n",
       "2017-12-30 18:00:00  37721.673005  12.705833  52.955000  0.077333   0.057000   \n",
       "2017-12-30 20:00:00  36183.523447  11.755000  53.032500  0.077917   0.067583   \n",
       "2017-12-30 22:00:00  32050.697084  11.315833  50.196667  0.078333   0.067250   \n",
       "\n",
       "                          DF_9  Consumption_9       WT_8       WH_8      WS_8  \\\n",
       "TimePeriod                                                                      \n",
       "2017-01-01 18:00:00   0.105667   26927.594937   5.029333  78.008333  0.082583   \n",
       "2017-01-01 20:00:00   0.135083   21447.088607   4.919667  74.641667  0.081667   \n",
       "2017-01-01 22:00:00   0.120833   20641.518987   4.512750  74.575000  0.082417   \n",
       "2017-01-02 00:00:00   0.122500   20094.683545   4.632167  73.791667  0.082417   \n",
       "2017-01-02 02:00:00  15.761833   21255.189872   8.019333  63.835833  2.913333   \n",
       "...                        ...            ...        ...        ...       ...   \n",
       "2017-12-30 14:00:00   0.106000   37362.737643  13.351667  53.502500  0.077500   \n",
       "2017-12-30 16:00:00   0.099250   32013.181242  12.705833  52.955000  0.077333   \n",
       "2017-12-30 18:00:00   0.101417   24484.664132  11.755000  53.032500  0.077917   \n",
       "2017-12-30 20:00:00   0.103250   21005.830164  11.315833  50.196667  0.078333   \n",
       "2017-12-30 22:00:00   0.109833   20576.932827  11.221667  48.974583  0.078417   \n",
       "\n",
       "                     ...      WS_2       GDF_2        DF_2  Consumption_2  \\\n",
       "TimePeriod           ...                                                    \n",
       "2017-01-01 18:00:00  ...  0.075667  377.458333   48.125000   29558.481012   \n",
       "2017-01-01 20:00:00  ...  0.077250  160.075833  169.773333   31576.708860   \n",
       "2017-01-01 22:00:00  ...  0.077417    2.432750    2.487417   39969.113924   \n",
       "2017-01-02 00:00:00  ...  0.076250    0.060333    0.097083   39542.278480   \n",
       "2017-01-02 02:00:00  ...  0.074667    0.066333    0.108333   32522.531644   \n",
       "...                  ...       ...         ...         ...            ...   \n",
       "2017-12-30 14:00:00  ...  0.077000  353.441667   36.275833   29649.683142   \n",
       "2017-12-30 16:00:00  ...  0.077667  489.841667   38.455000   30490.240812   \n",
       "2017-12-30 18:00:00  ...  0.077667  409.650000   42.163333   29293.789606   \n",
       "2017-12-30 20:00:00  ...  0.077500  153.905000  152.368333   31262.864386   \n",
       "2017-12-30 22:00:00  ...  0.075583    1.618917    1.676750   37721.673005   \n",
       "\n",
       "                          WT_1       WH_1      WS_1       GDF_1        DF_1  \\\n",
       "TimePeriod                                                                    \n",
       "2017-01-01 18:00:00  15.309167  59.112500  0.077250  160.075833  169.773333   \n",
       "2017-01-01 20:00:00  12.911667  67.740833  0.077417    2.432750    2.487417   \n",
       "2017-01-01 22:00:00  11.725417  70.855000  0.076250    0.060333    0.097083   \n",
       "2017-01-02 00:00:00  12.251667  69.309583  0.074667    0.066333    0.108333   \n",
       "2017-01-02 02:00:00  10.685000  78.475000  0.076417    0.068583    0.139583   \n",
       "...                        ...        ...       ...         ...         ...   \n",
       "2017-12-30 14:00:00  14.399167  38.129167  0.077667  489.841667   38.455000   \n",
       "2017-12-30 16:00:00  14.513333  39.675417  0.077667  409.650000   42.163333   \n",
       "2017-12-30 18:00:00  14.015000  43.082500  0.077500  153.905000  152.368333   \n",
       "2017-12-30 20:00:00  10.112500  60.359583  0.075583    1.618917    1.676750   \n",
       "2017-12-30 22:00:00   8.526667  66.832500  0.080917    0.062917    0.101667   \n",
       "\n",
       "                     Consumption_1  \n",
       "TimePeriod                          \n",
       "2017-01-01 18:00:00   31576.708860  \n",
       "2017-01-01 20:00:00   39969.113924  \n",
       "2017-01-01 22:00:00   39542.278480  \n",
       "2017-01-02 00:00:00   32522.531644  \n",
       "2017-01-02 02:00:00   23907.848100  \n",
       "...                            ...  \n",
       "2017-12-30 14:00:00   30490.240812  \n",
       "2017-12-30 16:00:00   29293.789606  \n",
       "2017-12-30 18:00:00   31262.864386  \n",
       "2017-12-30 20:00:00   37721.673005  \n",
       "2017-12-30 22:00:00   36183.523447  \n",
       "\n",
       "[4359 rows x 55 columns]"
      ]
     },
     "execution_count": 96,
     "metadata": {},
     "output_type": "execute_result"
    }
   ],
   "source": [
    "lags = range(9, 0, -1)\n",
    "for lag in lags:\n",
    "    for column in features + [target]:\n",
    "        df[f\"{column}_{lag}\"] = df[column].shift(lag)\n",
    "df.drop(columns=features, inplace=True)\n",
    "df.dropna(axis=0, inplace=True)\n",
    "df"
   ]
  },
  {
   "cell_type": "markdown",
   "metadata": {
    "id": "YiHdAHJJjuUL"
   },
   "source": [
    "# Split the dataset into 80% training and 20% testing datasets"
   ]
  },
  {
   "cell_type": "code",
   "execution_count": 98,
   "metadata": {
    "id": "Kpdsa-tgjw-V"
   },
   "outputs": [],
   "source": [
    "from sklearn.model_selection import train_test_split\n",
    "\n",
    "X, y = df.drop(columns=[target]), df[target]\n",
    "train_X, test_X, train_y, test_y = train_test_split(X, y, test_size=0.20, shuffle=False)"
   ]
  },
  {
   "cell_type": "markdown",
   "metadata": {
    "id": "eMx4eOy8j5vE"
   },
   "source": [
    "## Create the model, pre-process the data and make it suitable for training"
   ]
  },
  {
   "cell_type": "code",
   "execution_count": 121,
   "metadata": {
    "id": "-MesyKu2j9Zw"
   },
   "outputs": [],
   "source": [
    "from sklearn.preprocessing import MinMaxScaler\n",
    "\n",
    "scaler = MinMaxScaler()\n",
    "train_X = scaler.fit_transform(train_X)\n",
    "test_X = scaler.transform(test_X)"
   ]
  },
  {
   "cell_type": "code",
   "execution_count": 123,
   "metadata": {},
   "outputs": [],
   "source": [
    "scaler = MinMaxScaler()\n",
    "train_y = scaler.fit_transform(train_y.to_numpy().reshape(-1, 1))"
   ]
  },
  {
   "cell_type": "code",
   "execution_count": 125,
   "metadata": {},
   "outputs": [
    {
     "data": {
      "text/plain": [
       "(3487, 9, 6)"
      ]
     },
     "execution_count": 125,
     "metadata": {},
     "output_type": "execute_result"
    }
   ],
   "source": [
    "lag = 9\n",
    "(train_X.shape[0], lag, (train_X.shape[1] // lag))"
   ]
  },
  {
   "cell_type": "code",
   "execution_count": 127,
   "metadata": {},
   "outputs": [],
   "source": [
    "train_X = train_X.reshape((train_X.shape[0], lag, (train_X.shape[1] // lag)))\n",
    "test_X = test_X.reshape((test_X.shape[0], lag, (test_X.shape[1] // lag)))"
   ]
  },
  {
   "cell_type": "markdown",
   "metadata": {
    "id": "VpO5gwPKkEZV"
   },
   "source": [
    "## Train the model, use 20% of the training dataset for validation\n",
    "Train with 10 epochs (due to time limit)"
   ]
  },
  {
   "cell_type": "code",
   "execution_count": 129,
   "metadata": {
    "id": "BwnSFVitkH_F"
   },
   "outputs": [],
   "source": [
    "from keras.models import Sequential\n",
    "from keras.layers import Input, LSTM, Dense"
   ]
  },
  {
   "cell_type": "code",
   "execution_count": 131,
   "metadata": {},
   "outputs": [],
   "source": [
    "model = Sequential([\n",
    "    Input((train_X.shape[1], train_X.shape[2],)),\n",
    "    LSTM(64, activation=\"relu\", return_sequences=True),\n",
    "    LSTM(32, activation=\"relu\"),\n",
    "    Dense(1, activation=\"linear\")\n",
    "])"
   ]
  },
  {
   "cell_type": "code",
   "execution_count": 133,
   "metadata": {},
   "outputs": [
    {
     "data": {
      "text/html": [
       "<pre style=\"white-space:pre;overflow-x:auto;line-height:normal;font-family:Menlo,'DejaVu Sans Mono',consolas,'Courier New',monospace\"><span style=\"font-weight: bold\">Model: \"sequential\"</span>\n",
       "</pre>\n"
      ],
      "text/plain": [
       "\u001b[1mModel: \"sequential\"\u001b[0m\n"
      ]
     },
     "metadata": {},
     "output_type": "display_data"
    },
    {
     "data": {
      "text/html": [
       "<pre style=\"white-space:pre;overflow-x:auto;line-height:normal;font-family:Menlo,'DejaVu Sans Mono',consolas,'Courier New',monospace\">┏━━━━━━━━━━━━━━━━━━━━━━━━━━━━━━━━━━━━━━┳━━━━━━━━━━━━━━━━━━━━━━━━━━━━━┳━━━━━━━━━━━━━━━━━┓\n",
       "┃<span style=\"font-weight: bold\"> Layer (type)                         </span>┃<span style=\"font-weight: bold\"> Output Shape                </span>┃<span style=\"font-weight: bold\">         Param # </span>┃\n",
       "┡━━━━━━━━━━━━━━━━━━━━━━━━━━━━━━━━━━━━━━╇━━━━━━━━━━━━━━━━━━━━━━━━━━━━━╇━━━━━━━━━━━━━━━━━┩\n",
       "│ lstm (<span style=\"color: #0087ff; text-decoration-color: #0087ff\">LSTM</span>)                          │ (<span style=\"color: #00d7ff; text-decoration-color: #00d7ff\">None</span>, <span style=\"color: #00af00; text-decoration-color: #00af00\">9</span>, <span style=\"color: #00af00; text-decoration-color: #00af00\">64</span>)               │          <span style=\"color: #00af00; text-decoration-color: #00af00\">18,176</span> │\n",
       "├──────────────────────────────────────┼─────────────────────────────┼─────────────────┤\n",
       "│ lstm_1 (<span style=\"color: #0087ff; text-decoration-color: #0087ff\">LSTM</span>)                        │ (<span style=\"color: #00d7ff; text-decoration-color: #00d7ff\">None</span>, <span style=\"color: #00af00; text-decoration-color: #00af00\">32</span>)                  │          <span style=\"color: #00af00; text-decoration-color: #00af00\">12,416</span> │\n",
       "├──────────────────────────────────────┼─────────────────────────────┼─────────────────┤\n",
       "│ dense (<span style=\"color: #0087ff; text-decoration-color: #0087ff\">Dense</span>)                        │ (<span style=\"color: #00d7ff; text-decoration-color: #00d7ff\">None</span>, <span style=\"color: #00af00; text-decoration-color: #00af00\">1</span>)                   │              <span style=\"color: #00af00; text-decoration-color: #00af00\">33</span> │\n",
       "└──────────────────────────────────────┴─────────────────────────────┴─────────────────┘\n",
       "</pre>\n"
      ],
      "text/plain": [
       "┏━━━━━━━━━━━━━━━━━━━━━━━━━━━━━━━━━━━━━━┳━━━━━━━━━━━━━━━━━━━━━━━━━━━━━┳━━━━━━━━━━━━━━━━━┓\n",
       "┃\u001b[1m \u001b[0m\u001b[1mLayer (type)                        \u001b[0m\u001b[1m \u001b[0m┃\u001b[1m \u001b[0m\u001b[1mOutput Shape               \u001b[0m\u001b[1m \u001b[0m┃\u001b[1m \u001b[0m\u001b[1m        Param #\u001b[0m\u001b[1m \u001b[0m┃\n",
       "┡━━━━━━━━━━━━━━━━━━━━━━━━━━━━━━━━━━━━━━╇━━━━━━━━━━━━━━━━━━━━━━━━━━━━━╇━━━━━━━━━━━━━━━━━┩\n",
       "│ lstm (\u001b[38;5;33mLSTM\u001b[0m)                          │ (\u001b[38;5;45mNone\u001b[0m, \u001b[38;5;34m9\u001b[0m, \u001b[38;5;34m64\u001b[0m)               │          \u001b[38;5;34m18,176\u001b[0m │\n",
       "├──────────────────────────────────────┼─────────────────────────────┼─────────────────┤\n",
       "│ lstm_1 (\u001b[38;5;33mLSTM\u001b[0m)                        │ (\u001b[38;5;45mNone\u001b[0m, \u001b[38;5;34m32\u001b[0m)                  │          \u001b[38;5;34m12,416\u001b[0m │\n",
       "├──────────────────────────────────────┼─────────────────────────────┼─────────────────┤\n",
       "│ dense (\u001b[38;5;33mDense\u001b[0m)                        │ (\u001b[38;5;45mNone\u001b[0m, \u001b[38;5;34m1\u001b[0m)                   │              \u001b[38;5;34m33\u001b[0m │\n",
       "└──────────────────────────────────────┴─────────────────────────────┴─────────────────┘\n"
      ]
     },
     "metadata": {},
     "output_type": "display_data"
    },
    {
     "data": {
      "text/html": [
       "<pre style=\"white-space:pre;overflow-x:auto;line-height:normal;font-family:Menlo,'DejaVu Sans Mono',consolas,'Courier New',monospace\"><span style=\"font-weight: bold\"> Total params: </span><span style=\"color: #00af00; text-decoration-color: #00af00\">30,625</span> (119.63 KB)\n",
       "</pre>\n"
      ],
      "text/plain": [
       "\u001b[1m Total params: \u001b[0m\u001b[38;5;34m30,625\u001b[0m (119.63 KB)\n"
      ]
     },
     "metadata": {},
     "output_type": "display_data"
    },
    {
     "data": {
      "text/html": [
       "<pre style=\"white-space:pre;overflow-x:auto;line-height:normal;font-family:Menlo,'DejaVu Sans Mono',consolas,'Courier New',monospace\"><span style=\"font-weight: bold\"> Trainable params: </span><span style=\"color: #00af00; text-decoration-color: #00af00\">30,625</span> (119.63 KB)\n",
       "</pre>\n"
      ],
      "text/plain": [
       "\u001b[1m Trainable params: \u001b[0m\u001b[38;5;34m30,625\u001b[0m (119.63 KB)\n"
      ]
     },
     "metadata": {},
     "output_type": "display_data"
    },
    {
     "data": {
      "text/html": [
       "<pre style=\"white-space:pre;overflow-x:auto;line-height:normal;font-family:Menlo,'DejaVu Sans Mono',consolas,'Courier New',monospace\"><span style=\"font-weight: bold\"> Non-trainable params: </span><span style=\"color: #00af00; text-decoration-color: #00af00\">0</span> (0.00 B)\n",
       "</pre>\n"
      ],
      "text/plain": [
       "\u001b[1m Non-trainable params: \u001b[0m\u001b[38;5;34m0\u001b[0m (0.00 B)\n"
      ]
     },
     "metadata": {},
     "output_type": "display_data"
    }
   ],
   "source": [
    "model.summary()"
   ]
  },
  {
   "cell_type": "code",
   "execution_count": 135,
   "metadata": {},
   "outputs": [],
   "source": [
    "model.compile(\n",
    "    loss=\"mean_squared_error\",\n",
    "    optimizer=\"adam\",\n",
    "    metrics=[\"mean_squared_error\"],\n",
    ")"
   ]
  },
  {
   "cell_type": "code",
   "execution_count": 137,
   "metadata": {},
   "outputs": [
    {
     "name": "stdout",
     "output_type": "stream",
     "text": [
      "Epoch 1/16\n",
      "\u001b[1m44/44\u001b[0m \u001b[32m━━━━━━━━━━━━━━━━━━━━\u001b[0m\u001b[37m\u001b[0m \u001b[1m6s\u001b[0m 29ms/step - loss: 0.1127 - mean_squared_error: 0.1127 - val_loss: 0.0466 - val_mean_squared_error: 0.0466\n",
      "Epoch 2/16\n",
      "\u001b[1m44/44\u001b[0m \u001b[32m━━━━━━━━━━━━━━━━━━━━\u001b[0m\u001b[37m\u001b[0m \u001b[1m1s\u001b[0m 12ms/step - loss: 0.0354 - mean_squared_error: 0.0354 - val_loss: 0.0319 - val_mean_squared_error: 0.0319\n",
      "Epoch 3/16\n",
      "\u001b[1m44/44\u001b[0m \u001b[32m━━━━━━━━━━━━━━━━━━━━\u001b[0m\u001b[37m\u001b[0m \u001b[1m1s\u001b[0m 12ms/step - loss: 0.0272 - mean_squared_error: 0.0272 - val_loss: 0.0262 - val_mean_squared_error: 0.0262\n",
      "Epoch 4/16\n",
      "\u001b[1m44/44\u001b[0m \u001b[32m━━━━━━━━━━━━━━━━━━━━\u001b[0m\u001b[37m\u001b[0m \u001b[1m1s\u001b[0m 13ms/step - loss: 0.0209 - mean_squared_error: 0.0209 - val_loss: 0.0222 - val_mean_squared_error: 0.0222\n",
      "Epoch 5/16\n",
      "\u001b[1m44/44\u001b[0m \u001b[32m━━━━━━━━━━━━━━━━━━━━\u001b[0m\u001b[37m\u001b[0m \u001b[1m1s\u001b[0m 12ms/step - loss: 0.0193 - mean_squared_error: 0.0193 - val_loss: 0.0191 - val_mean_squared_error: 0.0191\n",
      "Epoch 6/16\n",
      "\u001b[1m44/44\u001b[0m \u001b[32m━━━━━━━━━━━━━━━━━━━━\u001b[0m\u001b[37m\u001b[0m \u001b[1m1s\u001b[0m 14ms/step - loss: 0.0184 - mean_squared_error: 0.0184 - val_loss: 0.0176 - val_mean_squared_error: 0.0176\n",
      "Epoch 7/16\n",
      "\u001b[1m44/44\u001b[0m \u001b[32m━━━━━━━━━━━━━━━━━━━━\u001b[0m\u001b[37m\u001b[0m \u001b[1m1s\u001b[0m 12ms/step - loss: 0.0177 - mean_squared_error: 0.0177 - val_loss: 0.0164 - val_mean_squared_error: 0.0164\n",
      "Epoch 8/16\n",
      "\u001b[1m44/44\u001b[0m \u001b[32m━━━━━━━━━━━━━━━━━━━━\u001b[0m\u001b[37m\u001b[0m \u001b[1m1s\u001b[0m 12ms/step - loss: 0.0171 - mean_squared_error: 0.0171 - val_loss: 0.0152 - val_mean_squared_error: 0.0152\n",
      "Epoch 9/16\n",
      "\u001b[1m44/44\u001b[0m \u001b[32m━━━━━━━━━━━━━━━━━━━━\u001b[0m\u001b[37m\u001b[0m \u001b[1m1s\u001b[0m 11ms/step - loss: 0.0165 - mean_squared_error: 0.0165 - val_loss: 0.0145 - val_mean_squared_error: 0.0145\n",
      "Epoch 10/16\n",
      "\u001b[1m44/44\u001b[0m \u001b[32m━━━━━━━━━━━━━━━━━━━━\u001b[0m\u001b[37m\u001b[0m \u001b[1m1s\u001b[0m 12ms/step - loss: 0.0160 - mean_squared_error: 0.0160 - val_loss: 0.0139 - val_mean_squared_error: 0.0139\n",
      "Epoch 11/16\n",
      "\u001b[1m44/44\u001b[0m \u001b[32m━━━━━━━━━━━━━━━━━━━━\u001b[0m\u001b[37m\u001b[0m \u001b[1m1s\u001b[0m 13ms/step - loss: 0.0156 - mean_squared_error: 0.0156 - val_loss: 0.0131 - val_mean_squared_error: 0.0131\n",
      "Epoch 12/16\n",
      "\u001b[1m44/44\u001b[0m \u001b[32m━━━━━━━━━━━━━━━━━━━━\u001b[0m\u001b[37m\u001b[0m \u001b[1m1s\u001b[0m 12ms/step - loss: 0.0151 - mean_squared_error: 0.0151 - val_loss: 0.0122 - val_mean_squared_error: 0.0122\n",
      "Epoch 13/16\n",
      "\u001b[1m44/44\u001b[0m \u001b[32m━━━━━━━━━━━━━━━━━━━━\u001b[0m\u001b[37m\u001b[0m \u001b[1m1s\u001b[0m 11ms/step - loss: 0.0147 - mean_squared_error: 0.0147 - val_loss: 0.0114 - val_mean_squared_error: 0.0114\n",
      "Epoch 14/16\n",
      "\u001b[1m44/44\u001b[0m \u001b[32m━━━━━━━━━━━━━━━━━━━━\u001b[0m\u001b[37m\u001b[0m \u001b[1m1s\u001b[0m 15ms/step - loss: 0.0144 - mean_squared_error: 0.0144 - val_loss: 0.0108 - val_mean_squared_error: 0.0108\n",
      "Epoch 15/16\n",
      "\u001b[1m44/44\u001b[0m \u001b[32m━━━━━━━━━━━━━━━━━━━━\u001b[0m\u001b[37m\u001b[0m \u001b[1m1s\u001b[0m 12ms/step - loss: 0.0139 - mean_squared_error: 0.0139 - val_loss: 0.0103 - val_mean_squared_error: 0.0103\n",
      "Epoch 16/16\n",
      "\u001b[1m44/44\u001b[0m \u001b[32m━━━━━━━━━━━━━━━━━━━━\u001b[0m\u001b[37m\u001b[0m \u001b[1m1s\u001b[0m 12ms/step - loss: 0.0137 - mean_squared_error: 0.0137 - val_loss: 0.0100 - val_mean_squared_error: 0.0100\n"
     ]
    }
   ],
   "source": [
    "history = model.fit(train_X, train_y , validation_split=0.20, epochs=16, batch_size=64, shuffle=False)"
   ]
  },
  {
   "cell_type": "markdown",
   "metadata": {
    "id": "T251oIhoj_py"
   },
   "source": [
    "## Plot the loss function on the training and validation dataset"
   ]
  },
  {
   "cell_type": "code",
   "execution_count": 141,
   "metadata": {
    "id": "VdHpwfROkCjy"
   },
   "outputs": [
    {
     "data": {
      "text/plain": [
       "<Axes: >"
      ]
     },
     "execution_count": 141,
     "metadata": {},
     "output_type": "execute_result"
    },
    {
     "data": {
      "image/png": "[encoded data removed]",
      "text/plain": [
       "<Figure size 640x480 with 1 Axes>"
      ]
     },
     "metadata": {},
     "output_type": "display_data"
    }
   ],
   "source": [
    "import seaborn as sns\n",
    "sns.lineplot(history.history[\"loss\"], label=\"loss\")\n",
    "sns.lineplot(history.history[\"val_loss\"], label=\"val_loss\")"
   ]
  },
  {
   "cell_type": "markdown",
   "metadata": {
    "id": "dnbQsioUkKys"
   },
   "source": [
    "## Calculate the adequate metrics"
   ]
  },
  {
   "cell_type": "code",
   "execution_count": 143,
   "metadata": {
    "id": "6L_L8NjckNV9"
   },
   "outputs": [
    {
     "name": "stdout",
     "output_type": "stream",
     "text": [
      "\u001b[1m28/28\u001b[0m \u001b[32m━━━━━━━━━━━━━━━━━━━━\u001b[0m\u001b[37m\u001b[0m \u001b[1m1s\u001b[0m 19ms/step\n"
     ]
    }
   ],
   "source": [
    "pred_y = model.predict(test_X)"
   ]
  },
  {
   "cell_type": "code",
   "execution_count": 145,
   "metadata": {},
   "outputs": [],
   "source": [
    "pred_y = scaler.inverse_transform(pred_y)"
   ]
  },
  {
   "cell_type": "code",
   "execution_count": 147,
   "metadata": {},
   "outputs": [
    {
     "data": {
      "text/plain": [
       "(3647.101375614966, 18689026.361795608, 0.4778670659957709)"
      ]
     },
     "execution_count": 147,
     "metadata": {},
     "output_type": "execute_result"
    }
   ],
   "source": [
    "from sklearn.metrics import mean_absolute_error, mean_squared_error, r2_score\n",
    "(mean_absolute_error(test_y, pred_y), mean_squared_error(test_y, pred_y), r2_score(test_y, pred_y))"
   ]
  },
  {
   "cell_type": "markdown",
   "metadata": {
    "id": "UAuCQBvSkN1U"
   },
   "source": [
    "## Visualize the targets against the predictions"
   ]
  },
  {
   "cell_type": "code",
   "execution_count": 149,
   "metadata": {
    "id": "kPkcMVoYkQRd"
   },
   "outputs": [
    {
     "data": {
      "text/plain": [
       "<Axes: xlabel='TimePeriod'>"
      ]
     },
     "execution_count": 149,
     "metadata": {},
     "output_type": "execute_result"
    },
    {
     "data": {
      "image/png": "[encoded data removed]",
      "text/plain": [
       "<Figure size 640x480 with 1 Axes>"
      ]
     },
     "metadata": {},
     "output_type": "display_data"
    }
   ],
   "source": [
    "sns.lineplot(x=test_y.index, y=test_y.values)\n",
    "sns.lineplot(x=test_y.index, y=pred_y.flatten())"
   ]
  },
  {
   "cell_type": "code",
   "execution_count": null,
   "metadata": {},
   "outputs": [],
   "source": []
  }
 ],
 "metadata": {
  "colab": {
   "provenance": [
    {
     "file_id": "1C896clLEVDHPP_zCqrqY07cZrhkGHVFQ",
     "timestamp": 1707323366585
    }
   ]
  },
  "kernelspec": {
   "display_name": "Python 3 (ipykernel)",
   "language": "python",
   "name": "python3"
  },
  "language_info": {
   "codemirror_mode": {
    "name": "ipython",
    "version": 3
   },
   "file_extension": ".py",
   "mimetype": "text/x-python",
   "name": "python",
   "nbconvert_exporter": "python",
   "pygments_lexer": "ipython3",
   "version": "3.12.7"
  }
 },
 "nbformat": 4,
 "nbformat_minor": 4
}
