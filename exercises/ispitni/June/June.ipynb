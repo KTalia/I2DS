{
 "cells": [
  {
   "cell_type": "markdown",
   "id": "9749c9cb-fbc2-429f-8ae3-af5125aa741b",
   "metadata": {},
   "source": [
    "# <span style=\"color:orange\">June Exam 2024</span>"
   ]
  },
  {
   "cell_type": "code",
   "execution_count": 994,
   "id": "fdd5931b-a70f-46f7-944c-6797c7b589ac",
   "metadata": {},
   "outputs": [],
   "source": [
    "import pandas as pd\n",
    "import numpy as np\n",
    "import seaborn as sns\n",
    "from sklearn.impute import KNNImputer\n",
    "from sklearn.preprocessing import LabelEncoder\n",
    "import matplotlib.pyplot as plt\n",
    "from sklearn.metrics import mean_squared_error, mean_absolute_error, r2_score\n",
    "from sklearn.cluster import KMeans\n",
    "from sklearn.decomposition import PCA"
   ]
  },
  {
   "cell_type": "code",
   "execution_count": 1126,
   "id": "653524a2-5e4e-4702-b4ec-f94185ff3850",
   "metadata": {},
   "outputs": [],
   "source": [
    "df = pd.read_csv('adult.csv/adult.csv')"
   ]
  },
  {
   "cell_type": "markdown",
   "id": "b6364aca-ab2a-46b4-bbe0-f7d42d6da9ea",
   "metadata": {},
   "source": [
    "## <span style=\"color:orange\">Step 1: Load and Explore the Dataset</span>"
   ]
  },
  {
   "cell_type": "code",
   "execution_count": 1128,
   "id": "5409b839-e958-4c70-9841-fd3106a9628f",
   "metadata": {},
   "outputs": [
    {
     "data": {
      "text/html": [
       "<div>\n",
       "<style scoped>\n",
       "    .dataframe tbody tr th:only-of-type {\n",
       "        vertical-align: middle;\n",
       "    }\n",
       "\n",
       "    .dataframe tbody tr th {\n",
       "        vertical-align: top;\n",
       "    }\n",
       "\n",
       "    .dataframe thead th {\n",
       "        text-align: right;\n",
       "    }\n",
       "</style>\n",
       "<table border=\"1\" class=\"dataframe\">\n",
       "  <thead>\n",
       "    <tr style=\"text-align: right;\">\n",
       "      <th></th>\n",
       "      <th>age</th>\n",
       "      <th>workclass</th>\n",
       "      <th>fnlwgt</th>\n",
       "      <th>education</th>\n",
       "      <th>education.num</th>\n",
       "      <th>marital.status</th>\n",
       "      <th>occupation</th>\n",
       "      <th>relationship</th>\n",
       "      <th>race</th>\n",
       "      <th>sex</th>\n",
       "      <th>capital.gain</th>\n",
       "      <th>capital.loss</th>\n",
       "      <th>hours.per.week</th>\n",
       "      <th>native.country</th>\n",
       "      <th>income</th>\n",
       "    </tr>\n",
       "  </thead>\n",
       "  <tbody>\n",
       "    <tr>\n",
       "      <th>0</th>\n",
       "      <td>90</td>\n",
       "      <td>?</td>\n",
       "      <td>77053</td>\n",
       "      <td>HS-grad</td>\n",
       "      <td>9</td>\n",
       "      <td>Widowed</td>\n",
       "      <td>?</td>\n",
       "      <td>Not-in-family</td>\n",
       "      <td>White</td>\n",
       "      <td>Female</td>\n",
       "      <td>0</td>\n",
       "      <td>4356</td>\n",
       "      <td>40</td>\n",
       "      <td>United-States</td>\n",
       "      <td>&lt;=50K</td>\n",
       "    </tr>\n",
       "    <tr>\n",
       "      <th>1</th>\n",
       "      <td>82</td>\n",
       "      <td>Private</td>\n",
       "      <td>132870</td>\n",
       "      <td>HS-grad</td>\n",
       "      <td>9</td>\n",
       "      <td>Widowed</td>\n",
       "      <td>Exec-managerial</td>\n",
       "      <td>Not-in-family</td>\n",
       "      <td>White</td>\n",
       "      <td>Female</td>\n",
       "      <td>0</td>\n",
       "      <td>4356</td>\n",
       "      <td>18</td>\n",
       "      <td>United-States</td>\n",
       "      <td>&lt;=50K</td>\n",
       "    </tr>\n",
       "    <tr>\n",
       "      <th>2</th>\n",
       "      <td>66</td>\n",
       "      <td>?</td>\n",
       "      <td>186061</td>\n",
       "      <td>Some-college</td>\n",
       "      <td>10</td>\n",
       "      <td>Widowed</td>\n",
       "      <td>?</td>\n",
       "      <td>Unmarried</td>\n",
       "      <td>Black</td>\n",
       "      <td>Female</td>\n",
       "      <td>0</td>\n",
       "      <td>4356</td>\n",
       "      <td>40</td>\n",
       "      <td>United-States</td>\n",
       "      <td>&lt;=50K</td>\n",
       "    </tr>\n",
       "    <tr>\n",
       "      <th>3</th>\n",
       "      <td>54</td>\n",
       "      <td>Private</td>\n",
       "      <td>140359</td>\n",
       "      <td>7th-8th</td>\n",
       "      <td>4</td>\n",
       "      <td>Divorced</td>\n",
       "      <td>Machine-op-inspct</td>\n",
       "      <td>Unmarried</td>\n",
       "      <td>White</td>\n",
       "      <td>Female</td>\n",
       "      <td>0</td>\n",
       "      <td>3900</td>\n",
       "      <td>40</td>\n",
       "      <td>United-States</td>\n",
       "      <td>&lt;=50K</td>\n",
       "    </tr>\n",
       "    <tr>\n",
       "      <th>4</th>\n",
       "      <td>41</td>\n",
       "      <td>Private</td>\n",
       "      <td>264663</td>\n",
       "      <td>Some-college</td>\n",
       "      <td>10</td>\n",
       "      <td>Separated</td>\n",
       "      <td>Prof-specialty</td>\n",
       "      <td>Own-child</td>\n",
       "      <td>White</td>\n",
       "      <td>Female</td>\n",
       "      <td>0</td>\n",
       "      <td>3900</td>\n",
       "      <td>40</td>\n",
       "      <td>United-States</td>\n",
       "      <td>&lt;=50K</td>\n",
       "    </tr>\n",
       "  </tbody>\n",
       "</table>\n",
       "</div>"
      ],
      "text/plain": [
       "   age workclass  fnlwgt     education  education.num marital.status  \\\n",
       "0   90         ?   77053       HS-grad              9        Widowed   \n",
       "1   82   Private  132870       HS-grad              9        Widowed   \n",
       "2   66         ?  186061  Some-college             10        Widowed   \n",
       "3   54   Private  140359       7th-8th              4       Divorced   \n",
       "4   41   Private  264663  Some-college             10      Separated   \n",
       "\n",
       "          occupation   relationship   race     sex  capital.gain  \\\n",
       "0                  ?  Not-in-family  White  Female             0   \n",
       "1    Exec-managerial  Not-in-family  White  Female             0   \n",
       "2                  ?      Unmarried  Black  Female             0   \n",
       "3  Machine-op-inspct      Unmarried  White  Female             0   \n",
       "4     Prof-specialty      Own-child  White  Female             0   \n",
       "\n",
       "   capital.loss  hours.per.week native.country income  \n",
       "0          4356              40  United-States  <=50K  \n",
       "1          4356              18  United-States  <=50K  \n",
       "2          4356              40  United-States  <=50K  \n",
       "3          3900              40  United-States  <=50K  \n",
       "4          3900              40  United-States  <=50K  "
      ]
     },
     "execution_count": 1128,
     "metadata": {},
     "output_type": "execute_result"
    }
   ],
   "source": [
    "df.head()"
   ]
  },
  {
   "cell_type": "code",
   "execution_count": 996,
   "id": "c90ee45f-a69e-400b-9160-b111c5f18290",
   "metadata": {},
   "outputs": [
    {
     "name": "stdout",
     "output_type": "stream",
     "text": [
      "<class 'pandas.core.frame.DataFrame'>\n",
      "RangeIndex: 32561 entries, 0 to 32560\n",
      "Data columns (total 15 columns):\n",
      " #   Column          Non-Null Count  Dtype \n",
      "---  ------          --------------  ----- \n",
      " 0   age             32561 non-null  int64 \n",
      " 1   workclass       32561 non-null  object\n",
      " 2   fnlwgt          32561 non-null  int64 \n",
      " 3   education       32561 non-null  object\n",
      " 4   education.num   32561 non-null  int64 \n",
      " 5   marital.status  32561 non-null  object\n",
      " 6   occupation      32561 non-null  object\n",
      " 7   relationship    32561 non-null  object\n",
      " 8   race            32561 non-null  object\n",
      " 9   sex             32561 non-null  object\n",
      " 10  capital.gain    32561 non-null  int64 \n",
      " 11  capital.loss    32561 non-null  int64 \n",
      " 12  hours.per.week  32561 non-null  int64 \n",
      " 13  native.country  32561 non-null  object\n",
      " 14  income          32561 non-null  object\n",
      "dtypes: int64(6), object(9)\n",
      "memory usage: 3.7+ MB\n"
     ]
    }
   ],
   "source": [
    "df.info()"
   ]
  },
  {
   "cell_type": "code",
   "execution_count": 997,
   "id": "5afdb5eb-0331-4267-a14f-2eac32b606e2",
   "metadata": {},
   "outputs": [],
   "source": [
    "catcols = ['workclass','education','marital.status', 'occupation', 'relationship', 'race', 'sex', 'native.country', 'income']"
   ]
  },
  {
   "cell_type": "code",
   "execution_count": 998,
   "id": "88ff9aa4-fdcc-4140-b3fc-c092692ca22f",
   "metadata": {},
   "outputs": [
    {
     "name": "stdout",
     "output_type": "stream",
     "text": [
      "age               0\n",
      "workclass         0\n",
      "fnlwgt            0\n",
      "education         0\n",
      "education.num     0\n",
      "marital.status    0\n",
      "occupation        0\n",
      "relationship      0\n",
      "race              0\n",
      "sex               0\n",
      "capital.gain      0\n",
      "capital.loss      0\n",
      "hours.per.week    0\n",
      "native.country    0\n",
      "income            0\n",
      "dtype: int64\n"
     ]
    }
   ],
   "source": [
    "print(df.isnull().sum())"
   ]
  },
  {
   "cell_type": "markdown",
   "id": "b63f1990-c375-4a13-9d25-4d28069738c8",
   "metadata": {},
   "source": [
    "### Check for '?' symbols in categorical columns"
   ]
  },
  {
   "cell_type": "code",
   "execution_count": 1000,
   "id": "0094a871-c398-49a6-b371-0d711c6e2a74",
   "metadata": {},
   "outputs": [
    {
     "name": "stdout",
     "output_type": "stream",
     "text": [
      "age                  0\n",
      "workclass         1836\n",
      "fnlwgt               0\n",
      "education            0\n",
      "education.num        0\n",
      "marital.status       0\n",
      "occupation        1843\n",
      "relationship         0\n",
      "race                 0\n",
      "sex                  0\n",
      "capital.gain         0\n",
      "capital.loss         0\n",
      "hours.per.week       0\n",
      "native.country     583\n",
      "income               0\n",
      "dtype: int64\n"
     ]
    }
   ],
   "source": [
    "print((df == '?').sum())"
   ]
  },
  {
   "cell_type": "markdown",
   "id": "5617ce88-7dd5-40d0-a5f8-b56ab8ade0e6",
   "metadata": {},
   "source": [
    "# <span style=\"color:orange\">Step 2: Handling Missing Values</span>"
   ]
  },
  {
   "cell_type": "markdown",
   "id": "bf0fd054-c90e-4409-b604-a41c9cb177ec",
   "metadata": {},
   "source": [
    "### Replace '?' with NaN"
   ]
  },
  {
   "cell_type": "code",
   "execution_count": 1003,
   "id": "2eae08cd-4425-4143-9d9a-25c837954880",
   "metadata": {},
   "outputs": [],
   "source": [
    "df.replace('?', np.nan, inplace=True)"
   ]
  },
  {
   "cell_type": "code",
   "execution_count": 1004,
   "id": "1561eaf7-aaa3-48b4-aa75-1988fdc16c5d",
   "metadata": {},
   "outputs": [
    {
     "data": {
      "text/plain": [
       "age               0\n",
       "workclass         0\n",
       "fnlwgt            0\n",
       "education         0\n",
       "education.num     0\n",
       "marital.status    0\n",
       "occupation        0\n",
       "relationship      0\n",
       "race              0\n",
       "sex               0\n",
       "capital.gain      0\n",
       "capital.loss      0\n",
       "hours.per.week    0\n",
       "native.country    0\n",
       "income            0\n",
       "dtype: int64"
      ]
     },
     "execution_count": 1004,
     "metadata": {},
     "output_type": "execute_result"
    }
   ],
   "source": [
    "((df==\"?\").sum())"
   ]
  },
  {
   "cell_type": "markdown",
   "id": "13ae3ace-69be-4579-844c-84282c2bab55",
   "metadata": {},
   "source": [
    "### Count missing values again"
   ]
  },
  {
   "cell_type": "code",
   "execution_count": 1006,
   "id": "b51ed370-7c47-4b03-a284-46115b8a9e40",
   "metadata": {},
   "outputs": [
    {
     "name": "stdout",
     "output_type": "stream",
     "text": [
      "age                  0\n",
      "workclass         1836\n",
      "fnlwgt               0\n",
      "education            0\n",
      "education.num        0\n",
      "marital.status       0\n",
      "occupation        1843\n",
      "relationship         0\n",
      "race                 0\n",
      "sex                  0\n",
      "capital.gain         0\n",
      "capital.loss         0\n",
      "hours.per.week       0\n",
      "native.country     583\n",
      "income               0\n",
      "dtype: int64\n"
     ]
    }
   ],
   "source": [
    "print(df.isnull().sum())"
   ]
  },
  {
   "cell_type": "markdown",
   "id": "e314624e-ba4d-4152-ad05-e99918dcc005",
   "metadata": {},
   "source": [
    "### Percentage of missing values per column"
   ]
  },
  {
   "cell_type": "code",
   "execution_count": 1008,
   "id": "cb9c9102-c34f-4ee2-ba89-95a24aa53a5e",
   "metadata": {},
   "outputs": [
    {
     "name": "stdout",
     "output_type": "stream",
     "text": [
      "age               0.000000\n",
      "workclass         5.638647\n",
      "fnlwgt            0.000000\n",
      "education         0.000000\n",
      "education.num     0.000000\n",
      "marital.status    0.000000\n",
      "occupation        5.660146\n",
      "relationship      0.000000\n",
      "race              0.000000\n",
      "sex               0.000000\n",
      "capital.gain      0.000000\n",
      "capital.loss      0.000000\n",
      "hours.per.week    0.000000\n",
      "native.country    1.790486\n",
      "income            0.000000\n",
      "dtype: float64\n"
     ]
    }
   ],
   "source": [
    "missing_percentage = df.isnull().sum() / len(df) * 100\n",
    "print(missing_percentage)"
   ]
  },
  {
   "cell_type": "markdown",
   "id": "47d15eb2-9b38-4ab9-aa09-0d85cc2e3da0",
   "metadata": {},
   "source": [
    "### Drop 'fnlwgt' since it's not useful"
   ]
  },
  {
   "cell_type": "code",
   "execution_count": 1010,
   "id": "028f1fe4-c471-4d34-82ab-25399b7c21aa",
   "metadata": {},
   "outputs": [
    {
     "name": "stdout",
     "output_type": "stream",
     "text": [
      "<class 'pandas.core.frame.DataFrame'>\n",
      "RangeIndex: 32561 entries, 0 to 32560\n",
      "Data columns (total 14 columns):\n",
      " #   Column          Non-Null Count  Dtype \n",
      "---  ------          --------------  ----- \n",
      " 0   age             32561 non-null  int64 \n",
      " 1   workclass       30725 non-null  object\n",
      " 2   education       32561 non-null  object\n",
      " 3   education.num   32561 non-null  int64 \n",
      " 4   marital.status  32561 non-null  object\n",
      " 5   occupation      30718 non-null  object\n",
      " 6   relationship    32561 non-null  object\n",
      " 7   race            32561 non-null  object\n",
      " 8   sex             32561 non-null  object\n",
      " 9   capital.gain    32561 non-null  int64 \n",
      " 10  capital.loss    32561 non-null  int64 \n",
      " 11  hours.per.week  32561 non-null  int64 \n",
      " 12  native.country  31978 non-null  object\n",
      " 13  income          32561 non-null  object\n",
      "dtypes: int64(5), object(9)\n",
      "memory usage: 3.5+ MB\n"
     ]
    }
   ],
   "source": [
    "df.drop(columns=['fnlwgt'], inplace=True)\n",
    "\n",
    "df.info()"
   ]
  },
  {
   "cell_type": "markdown",
   "id": "ebe08d5b-644e-4ed3-bb21-c79b76295f73",
   "metadata": {},
   "source": [
    "# <span style=\"color:orange\">Step 3: Handling Missing Values in Categorical Columns Using KNNImputer</span>"
   ]
  },
  {
   "cell_type": "markdown",
   "id": "42209bf5-342e-4cc5-87b8-9f631ae70aa7",
   "metadata": {},
   "source": [
    "### Select categorical columns with missing values"
   ]
  },
  {
   "cell_type": "code",
   "execution_count": 1013,
   "id": "288e57cc-2424-44b2-a98f-7a4f9c3aaf6e",
   "metadata": {},
   "outputs": [],
   "source": [
    "categorical_cols = df.select_dtypes(include=['object']).columns\n",
    "\n",
    "missing_categorical = [col for col in categorical_cols if df[col].isnull().sum() > 0]"
   ]
  },
  {
   "cell_type": "markdown",
   "id": "3d10dd2d-465a-44cd-bc62-742a71c7a9ce",
   "metadata": {},
   "source": [
    "### Encode categorical variables to numerical values"
   ]
  },
  {
   "cell_type": "code",
   "execution_count": 1015,
   "id": "832ec3be-f622-4550-a5ca-1fdbc515afea",
   "metadata": {},
   "outputs": [
    {
     "data": {
      "text/html": [
       "<div>\n",
       "<style scoped>\n",
       "    .dataframe tbody tr th:only-of-type {\n",
       "        vertical-align: middle;\n",
       "    }\n",
       "\n",
       "    .dataframe tbody tr th {\n",
       "        vertical-align: top;\n",
       "    }\n",
       "\n",
       "    .dataframe thead th {\n",
       "        text-align: right;\n",
       "    }\n",
       "</style>\n",
       "<table border=\"1\" class=\"dataframe\">\n",
       "  <thead>\n",
       "    <tr style=\"text-align: right;\">\n",
       "      <th></th>\n",
       "      <th>age</th>\n",
       "      <th>workclass</th>\n",
       "      <th>education</th>\n",
       "      <th>education.num</th>\n",
       "      <th>marital.status</th>\n",
       "      <th>occupation</th>\n",
       "      <th>relationship</th>\n",
       "      <th>race</th>\n",
       "      <th>sex</th>\n",
       "      <th>capital.gain</th>\n",
       "      <th>capital.loss</th>\n",
       "      <th>hours.per.week</th>\n",
       "      <th>native.country</th>\n",
       "      <th>income</th>\n",
       "    </tr>\n",
       "  </thead>\n",
       "  <tbody>\n",
       "    <tr>\n",
       "      <th>0</th>\n",
       "      <td>90</td>\n",
       "      <td>NaN</td>\n",
       "      <td>HS-grad</td>\n",
       "      <td>9</td>\n",
       "      <td>Widowed</td>\n",
       "      <td>NaN</td>\n",
       "      <td>Not-in-family</td>\n",
       "      <td>White</td>\n",
       "      <td>Female</td>\n",
       "      <td>0</td>\n",
       "      <td>4356</td>\n",
       "      <td>40</td>\n",
       "      <td>United-States</td>\n",
       "      <td>&lt;=50K</td>\n",
       "    </tr>\n",
       "    <tr>\n",
       "      <th>1</th>\n",
       "      <td>82</td>\n",
       "      <td>Private</td>\n",
       "      <td>HS-grad</td>\n",
       "      <td>9</td>\n",
       "      <td>Widowed</td>\n",
       "      <td>Exec-managerial</td>\n",
       "      <td>Not-in-family</td>\n",
       "      <td>White</td>\n",
       "      <td>Female</td>\n",
       "      <td>0</td>\n",
       "      <td>4356</td>\n",
       "      <td>18</td>\n",
       "      <td>United-States</td>\n",
       "      <td>&lt;=50K</td>\n",
       "    </tr>\n",
       "  </tbody>\n",
       "</table>\n",
       "</div>"
      ],
      "text/plain": [
       "   age workclass education  education.num marital.status       occupation  \\\n",
       "0   90       NaN   HS-grad              9        Widowed              NaN   \n",
       "1   82   Private   HS-grad              9        Widowed  Exec-managerial   \n",
       "\n",
       "    relationship   race     sex  capital.gain  capital.loss  hours.per.week  \\\n",
       "0  Not-in-family  White  Female             0          4356              40   \n",
       "1  Not-in-family  White  Female             0          4356              18   \n",
       "\n",
       "  native.country income  \n",
       "0  United-States  <=50K  \n",
       "1  United-States  <=50K  "
      ]
     },
     "execution_count": 1015,
     "metadata": {},
     "output_type": "execute_result"
    }
   ],
   "source": [
    "df.head(2)"
   ]
  },
  {
   "cell_type": "code",
   "execution_count": 1016,
   "id": "1f316209-d11a-4a8a-a645-6668eeb6a578",
   "metadata": {},
   "outputs": [],
   "source": [
    "label_encoders = {}\n",
    "le = LabelEncoder()\n",
    "\n",
    "for col in missing_categorical:\n",
    "    df[col] = le.fit_transform(df[col].astype(str))\n",
    "\n",
    "for col in missing_categorical:\n",
    "    le = LabelEncoder()\n",
    "    df[col] = le.fit_transform(df[col].astype(str))  # Convert NaN to string to avoid errors\n",
    "    label_encoders[col] = le  # Store the encoder for inverse transformation"
   ]
  },
  {
   "cell_type": "code",
   "execution_count": 1017,
   "id": "1579d5c6-c937-4e98-9553-3a367c2702ac",
   "metadata": {},
   "outputs": [
    {
     "data": {
      "text/html": [
       "<div>\n",
       "<style scoped>\n",
       "    .dataframe tbody tr th:only-of-type {\n",
       "        vertical-align: middle;\n",
       "    }\n",
       "\n",
       "    .dataframe tbody tr th {\n",
       "        vertical-align: top;\n",
       "    }\n",
       "\n",
       "    .dataframe thead th {\n",
       "        text-align: right;\n",
       "    }\n",
       "</style>\n",
       "<table border=\"1\" class=\"dataframe\">\n",
       "  <thead>\n",
       "    <tr style=\"text-align: right;\">\n",
       "      <th></th>\n",
       "      <th>age</th>\n",
       "      <th>workclass</th>\n",
       "      <th>education</th>\n",
       "      <th>education.num</th>\n",
       "      <th>marital.status</th>\n",
       "      <th>occupation</th>\n",
       "      <th>relationship</th>\n",
       "      <th>race</th>\n",
       "      <th>sex</th>\n",
       "      <th>capital.gain</th>\n",
       "      <th>capital.loss</th>\n",
       "      <th>hours.per.week</th>\n",
       "      <th>native.country</th>\n",
       "      <th>income</th>\n",
       "    </tr>\n",
       "  </thead>\n",
       "  <tbody>\n",
       "    <tr>\n",
       "      <th>0</th>\n",
       "      <td>90</td>\n",
       "      <td>8</td>\n",
       "      <td>HS-grad</td>\n",
       "      <td>9</td>\n",
       "      <td>Widowed</td>\n",
       "      <td>6</td>\n",
       "      <td>Not-in-family</td>\n",
       "      <td>White</td>\n",
       "      <td>Female</td>\n",
       "      <td>0</td>\n",
       "      <td>4356</td>\n",
       "      <td>40</td>\n",
       "      <td>32</td>\n",
       "      <td>&lt;=50K</td>\n",
       "    </tr>\n",
       "    <tr>\n",
       "      <th>1</th>\n",
       "      <td>82</td>\n",
       "      <td>3</td>\n",
       "      <td>HS-grad</td>\n",
       "      <td>9</td>\n",
       "      <td>Widowed</td>\n",
       "      <td>8</td>\n",
       "      <td>Not-in-family</td>\n",
       "      <td>White</td>\n",
       "      <td>Female</td>\n",
       "      <td>0</td>\n",
       "      <td>4356</td>\n",
       "      <td>18</td>\n",
       "      <td>32</td>\n",
       "      <td>&lt;=50K</td>\n",
       "    </tr>\n",
       "  </tbody>\n",
       "</table>\n",
       "</div>"
      ],
      "text/plain": [
       "   age  workclass education  education.num marital.status  occupation  \\\n",
       "0   90          8   HS-grad              9        Widowed           6   \n",
       "1   82          3   HS-grad              9        Widowed           8   \n",
       "\n",
       "    relationship   race     sex  capital.gain  capital.loss  hours.per.week  \\\n",
       "0  Not-in-family  White  Female             0          4356              40   \n",
       "1  Not-in-family  White  Female             0          4356              18   \n",
       "\n",
       "   native.country income  \n",
       "0              32  <=50K  \n",
       "1              32  <=50K  "
      ]
     },
     "execution_count": 1017,
     "metadata": {},
     "output_type": "execute_result"
    }
   ],
   "source": [
    "df.head(2)"
   ]
  },
  {
   "cell_type": "code",
   "execution_count": 1018,
   "id": "1f77f9bb-777e-4a6a-9c13-1f674a765db5",
   "metadata": {},
   "outputs": [],
   "source": [
    "imputer = KNNImputer(n_neighbors=5)\n",
    "df[missing_categorical] = imputer.fit_transform(df[missing_categorical])\n",
    "\n",
    "#   for column in columns:\n",
    "#     data_copy[column] = imputer.fit_transform(data_copy[column].to_numpy().reshape(-1, 1))\n",
    "#   return data_copy"
   ]
  },
  {
   "cell_type": "code",
   "execution_count": 1019,
   "id": "e55ba8d0-ddcb-4379-a431-8f94e4ea0967",
   "metadata": {},
   "outputs": [
    {
     "data": {
      "text/plain": [
       "['workclass', 'occupation', 'native.country']"
      ]
     },
     "execution_count": 1019,
     "metadata": {},
     "output_type": "execute_result"
    }
   ],
   "source": [
    "missing_categorical"
   ]
  },
  {
   "cell_type": "markdown",
   "id": "026d067f-12c0-408c-98ae-710f63a15fe5",
   "metadata": {},
   "source": [
    "### Convert back to original categorical labels"
   ]
  },
  {
   "cell_type": "code",
   "execution_count": 1021,
   "id": "be8cda6a-d6b7-46fc-8e5b-0563e9326837",
   "metadata": {},
   "outputs": [],
   "source": [
    "for col in missing_categorical:\n",
    "    df[col] = label_encoders[col].inverse_transform(df[col].astype(int))"
   ]
  },
  {
   "cell_type": "code",
   "execution_count": 1022,
   "id": "fa757892-bceb-4c01-b6e5-5a798ea0003c",
   "metadata": {},
   "outputs": [
    {
     "data": {
      "text/html": [
       "<div>\n",
       "<style scoped>\n",
       "    .dataframe tbody tr th:only-of-type {\n",
       "        vertical-align: middle;\n",
       "    }\n",
       "\n",
       "    .dataframe tbody tr th {\n",
       "        vertical-align: top;\n",
       "    }\n",
       "\n",
       "    .dataframe thead th {\n",
       "        text-align: right;\n",
       "    }\n",
       "</style>\n",
       "<table border=\"1\" class=\"dataframe\">\n",
       "  <thead>\n",
       "    <tr style=\"text-align: right;\">\n",
       "      <th></th>\n",
       "      <th>age</th>\n",
       "      <th>workclass</th>\n",
       "      <th>education</th>\n",
       "      <th>education.num</th>\n",
       "      <th>marital.status</th>\n",
       "      <th>occupation</th>\n",
       "      <th>relationship</th>\n",
       "      <th>race</th>\n",
       "      <th>sex</th>\n",
       "      <th>capital.gain</th>\n",
       "      <th>capital.loss</th>\n",
       "      <th>hours.per.week</th>\n",
       "      <th>native.country</th>\n",
       "      <th>income</th>\n",
       "    </tr>\n",
       "  </thead>\n",
       "  <tbody>\n",
       "    <tr>\n",
       "      <th>0</th>\n",
       "      <td>90</td>\n",
       "      <td>8</td>\n",
       "      <td>HS-grad</td>\n",
       "      <td>9</td>\n",
       "      <td>Widowed</td>\n",
       "      <td>14</td>\n",
       "      <td>Not-in-family</td>\n",
       "      <td>White</td>\n",
       "      <td>Female</td>\n",
       "      <td>0</td>\n",
       "      <td>4356</td>\n",
       "      <td>40</td>\n",
       "      <td>38</td>\n",
       "      <td>&lt;=50K</td>\n",
       "    </tr>\n",
       "    <tr>\n",
       "      <th>1</th>\n",
       "      <td>82</td>\n",
       "      <td>3</td>\n",
       "      <td>HS-grad</td>\n",
       "      <td>9</td>\n",
       "      <td>Widowed</td>\n",
       "      <td>3</td>\n",
       "      <td>Not-in-family</td>\n",
       "      <td>White</td>\n",
       "      <td>Female</td>\n",
       "      <td>0</td>\n",
       "      <td>4356</td>\n",
       "      <td>18</td>\n",
       "      <td>38</td>\n",
       "      <td>&lt;=50K</td>\n",
       "    </tr>\n",
       "  </tbody>\n",
       "</table>\n",
       "</div>"
      ],
      "text/plain": [
       "   age workclass education  education.num marital.status occupation  \\\n",
       "0   90         8   HS-grad              9        Widowed         14   \n",
       "1   82         3   HS-grad              9        Widowed          3   \n",
       "\n",
       "    relationship   race     sex  capital.gain  capital.loss  hours.per.week  \\\n",
       "0  Not-in-family  White  Female             0          4356              40   \n",
       "1  Not-in-family  White  Female             0          4356              18   \n",
       "\n",
       "  native.country income  \n",
       "0             38  <=50K  \n",
       "1             38  <=50K  "
      ]
     },
     "execution_count": 1022,
     "metadata": {},
     "output_type": "execute_result"
    }
   ],
   "source": [
    "df.head(2)"
   ]
  },
  {
   "cell_type": "code",
   "execution_count": 1023,
   "id": "d9f17a61-26f1-4af9-a7f8-f199f68724b0",
   "metadata": {},
   "outputs": [
    {
     "data": {
      "text/plain": [
       "['workclass', 'occupation', 'native.country']"
      ]
     },
     "execution_count": 1023,
     "metadata": {},
     "output_type": "execute_result"
    }
   ],
   "source": [
    "missing_categorical"
   ]
  },
  {
   "cell_type": "markdown",
   "id": "96252ec9-8f1d-4078-9308-eb57bf7981a5",
   "metadata": {},
   "source": [
    "### Check if missing values are handled"
   ]
  },
  {
   "cell_type": "code",
   "execution_count": 1025,
   "id": "f8723874-97b3-492d-8002-7217ee7491db",
   "metadata": {},
   "outputs": [
    {
     "name": "stdout",
     "output_type": "stream",
     "text": [
      "age               0\n",
      "workclass         0\n",
      "education         0\n",
      "education.num     0\n",
      "marital.status    0\n",
      "occupation        0\n",
      "relationship      0\n",
      "race              0\n",
      "sex               0\n",
      "capital.gain      0\n",
      "capital.loss      0\n",
      "hours.per.week    0\n",
      "native.country    0\n",
      "income            0\n",
      "dtype: int64\n"
     ]
    }
   ],
   "source": [
    "print(df.isnull().sum())"
   ]
  },
  {
   "cell_type": "markdown",
   "id": "e26e9c6b-b2b6-443c-a1c5-22ecf9fcd3cd",
   "metadata": {},
   "source": [
    "# <span style=\"color:orange\">Step 5: Analyzing the Salary Distribution</span>\n"
   ]
  },
  {
   "cell_type": "markdown",
   "id": "3a8f9d1d-07ba-412b-be17-0a14edb2df5a",
   "metadata": {},
   "source": [
    "### Count of each salary category"
   ]
  },
  {
   "cell_type": "code",
   "execution_count": 1028,
   "id": "7fa7da02-c96b-4edd-aba3-b3621eac0d1f",
   "metadata": {},
   "outputs": [
    {
     "data": {
      "text/plain": [
       "array(['<=50K', '>50K'], dtype=object)"
      ]
     },
     "execution_count": 1028,
     "metadata": {},
     "output_type": "execute_result"
    }
   ],
   "source": [
    "df.income.unique()"
   ]
  },
  {
   "cell_type": "code",
   "execution_count": 1029,
   "id": "016d8fdd-e7af-4d1c-83a3-6d4eeacb6cd8",
   "metadata": {},
   "outputs": [
    {
     "data": {
      "text/plain": [
       "income\n",
       "<=50K    24720\n",
       ">50K      7841\n",
       "Name: count, dtype: int64"
      ]
     },
     "execution_count": 1029,
     "metadata": {},
     "output_type": "execute_result"
    }
   ],
   "source": [
    "df['income'].value_counts()\n"
   ]
  },
  {
   "cell_type": "code",
   "execution_count": 1030,
   "id": "33377025-0503-4080-a005-8ca899c7c488",
   "metadata": {},
   "outputs": [
    {
     "name": "stdout",
     "output_type": "stream",
     "text": [
      "Percentage of citizens earning more than $50K: 24.08%\n"
     ]
    }
   ],
   "source": [
    "salary_counts = df['income'].value_counts()\n",
    "total_citizens = len(df)\n",
    "percentage_above_50k = (salary_counts['>50K'] / total_citizens) * 100\n",
    "\n",
    "print(f\"Percentage of citizens earning more than $50K: {percentage_above_50k:.2f}%\")"
   ]
  },
  {
   "cell_type": "markdown",
   "id": "23ad5bf0-06b3-4391-aba1-9127d214a437",
   "metadata": {},
   "source": [
    "### Visualization"
   ]
  },
  {
   "cell_type": "code",
   "execution_count": 1139,
   "id": "f7774430-6f33-440c-8610-26f3bd690da1",
   "metadata": {},
   "outputs": [
    {
     "data": {
      "text/plain": [
       "<Axes: xlabel='income'>"
      ]
     },
     "execution_count": 1139,
     "metadata": {},
     "output_type": "execute_result"
    },
    {
     "data": {
      "image/png": "[encoded data removed]",
      "text/plain": [
       "<Figure size 640x480 with 1 Axes>"
      ]
     },
     "metadata": {},
     "output_type": "display_data"
    }
   ],
   "source": [
    "df['income'].value_counts().plot.bar()"
   ]
  },
  {
   "cell_type": "markdown",
   "id": "16a69074-4955-4599-add5-b2913301fa28",
   "metadata": {},
   "source": [
    "# <span style=\"color:orange\">Step 5: Checking if Education Influences Yearly Income</span>\n"
   ]
  },
  {
   "cell_type": "markdown",
   "id": "cfcc2602-ee51-464e-91e4-590b8b9f2b3e",
   "metadata": {},
   "source": [
    "### Group by education and calculate percentage earning >50K"
   ]
  },
  {
   "cell_type": "code",
   "execution_count": 1035,
   "id": "a4618983-8a71-434f-b561-19d5c4b837d3",
   "metadata": {},
   "outputs": [],
   "source": [
    "education_salary = df.groupby('education')['income'].value_counts(normalize=True).unstack()\n",
    "\n",
    "education_salary['>50K'] = education_salary['>50K'] * 100  # Convert to percentage\n",
    "\n",
    "education_salary = education_salary.sort_values(by='>50K', ascending=False) # Sort values for better visualization"
   ]
  },
  {
   "cell_type": "markdown",
   "id": "6ffb9e53-3d20-40c4-9d51-f94e19b0007c",
   "metadata": {},
   "source": [
    "### Plot"
   ]
  },
  {
   "cell_type": "code",
   "execution_count": 1037,
   "id": "5454c834-d267-41fb-a788-e206a0aed690",
   "metadata": {},
   "outputs": [
    {
     "data": {
      "image/png": "[encoded data removed]",
      "text/plain": [
       "<Figure size 1200x600 with 1 Axes>"
      ]
     },
     "metadata": {},
     "output_type": "display_data"
    }
   ],
   "source": [
    "plt.figure(figsize=(12, 6))\n",
    "sns.barplot(x=education_salary.index, y=education_salary['>50K'])\n",
    "plt.xticks(rotation=45)\n",
    "plt.xlabel(\"Education Level\")\n",
    "plt.ylabel(\"Percentage of People Earning > 50K\")\n",
    "plt.title(\"Impact of Education Level on Income\")\n",
    "plt.show()"
   ]
  },
  {
   "cell_type": "markdown",
   "id": "91b41333-3cc8-4033-a28d-261c81a5a6a1",
   "metadata": {},
   "source": [
    "# Step 6: Analyzing Income Differences Between Age Groups (41-50 vs. 51-60)"
   ]
  },
  {
   "cell_type": "markdown",
   "id": "63d20bf5-05b8-4f1e-b21f-95405f255cfe",
   "metadata": {},
   "source": [
    "### Define age groups"
   ]
  },
  {
   "cell_type": "code",
   "execution_count": 1040,
   "id": "0bbe4290-16e2-4d21-9240-af04fc65af71",
   "metadata": {},
   "outputs": [],
   "source": [
    "# returns a table where the rows match the age criteria\n",
    "df_age_group_41_50 = df[(df['age'] >= 41) & (df['age'] <= 50)]\n",
    "df_age_group_51_60 = df[(df['age'] >= 51) & (df['age'] <= 60)]"
   ]
  },
  {
   "cell_type": "markdown",
   "id": "21770865-3069-47e9-bb19-919e629ab48a",
   "metadata": {},
   "source": [
    "### Calculate percentage earning >50K in each group"
   ]
  },
  {
   "cell_type": "code",
   "execution_count": 1042,
   "id": "860db6f6-8149-4c42-8039-8bb0de95b519",
   "metadata": {},
   "outputs": [],
   "source": [
    "percentage_41_50 = (df_age_group_41_50['income'].value_counts(normalize=True)['>50K']) * 100\n",
    "percentage_51_60 = (df_age_group_51_60['income'].value_counts(normalize=True)['>50K']) * 100"
   ]
  },
  {
   "cell_type": "markdown",
   "id": "ec60d052-3dfc-49e9-879b-c1d671f3e91d",
   "metadata": {},
   "source": [
    "### Data for visualization"
   ]
  },
  {
   "cell_type": "code",
   "execution_count": 1046,
   "id": "1ffb49d8-30b4-433a-a73d-ee201070bdd0",
   "metadata": {},
   "outputs": [],
   "source": [
    "age_groups = ['41-50', '51-60']\n",
    "percentages = [percentage_41_50, percentage_51_60]"
   ]
  },
  {
   "cell_type": "code",
   "execution_count": 1047,
   "id": "b6605f48-b923-4e1c-9433-1576e9e8624e",
   "metadata": {},
   "outputs": [
    {
     "name": "stdout",
     "output_type": "stream",
     "text": [
      "Percentage 41-50 earning > 50k: 38.02\n",
      "Percentage 51-60 earning > 50k: 37.48\n"
     ]
    }
   ],
   "source": [
    "print(f\"Percentage 41-50 earning > 50k: {percentages[0]:.2f}\")\n",
    "print(f\"Percentage 51-60 earning > 50k: {percentages[1]:.2f}\")"
   ]
  },
  {
   "cell_type": "markdown",
   "id": "234a0442-971d-4023-9d09-9c36b92ff74b",
   "metadata": {},
   "source": [
    "### Plot"
   ]
  },
  {
   "cell_type": "code",
   "execution_count": 1049,
   "id": "0f40ba9a-d903-42f0-8b29-485b2c85a742",
   "metadata": {},
   "outputs": [
    {
     "data": {
      "image/png": "[encoded data removed]",
      "text/plain": [
       "<Figure size 600x400 with 1 Axes>"
      ]
     },
     "metadata": {},
     "output_type": "display_data"
    }
   ],
   "source": [
    "plt.figure(figsize=(6, 4))\n",
    "sns.barplot(x=age_groups, y=percentages)\n",
    "plt.xlabel(\"Age Group\")\n",
    "plt.ylabel(\"Percentage Earning >50K\")\n",
    "plt.title(\"Income Differences Between Age Groups (41-50 vs. 51-60)\")\n",
    "plt.ylim(0, 100)\n",
    "plt.show()"
   ]
  },
  {
   "cell_type": "markdown",
   "id": "017caef4-4ccd-4d5a-9c1c-32d4f6c877dd",
   "metadata": {},
   "source": [
    "### Print values"
   ]
  },
  {
   "cell_type": "code",
   "execution_count": 1051,
   "id": "a6baaf7a-b354-4a21-86b0-1034522c329a",
   "metadata": {},
   "outputs": [
    {
     "name": "stdout",
     "output_type": "stream",
     "text": [
      "Percentage of people aged 41-50 earning >50K: 38.02%\n",
      "Percentage of people aged 51-60 earning >50K: 37.48%\n"
     ]
    }
   ],
   "source": [
    "print(f\"Percentage of people aged 41-50 earning >50K: {percentage_41_50:.2f}%\")\n",
    "print(f\"Percentage of people aged 51-60 earning >50K: {percentage_51_60:.2f}%\")"
   ]
  },
  {
   "cell_type": "markdown",
   "id": "00e28a06-f5f6-4cea-8a61-ec12c570cac7",
   "metadata": {},
   "source": [
    "- The difference in the percentage of people earning more than $50K\n",
    "\n",
    "between the age groups 41-50 and 51-60 is quite small (38.02% vs. 37.48%),\n",
    "\n",
    "which suggests that age might not be a major factor influencing the likelihood \n",
    "\n",
    "of earning more than $50K in these two groups."
   ]
  },
  {
   "cell_type": "markdown",
   "id": "a8ad95f4-e1e7-4cb2-905f-50159ac07fb7",
   "metadata": {},
   "source": [
    "# Step 7: Analyzing the Relationship Between Weekly Working Hours and Income"
   ]
  },
  {
   "cell_type": "code",
   "execution_count": 1054,
   "id": "c9b3538c-5090-4270-a94c-1a5b5ea601a4",
   "metadata": {},
   "outputs": [
    {
     "data": {
      "image/png": "[encoded data removed]",
      "text/plain": [
       "<Figure size 1000x600 with 1 Axes>"
      ]
     },
     "metadata": {},
     "output_type": "display_data"
    },
    {
     "name": "stdout",
     "output_type": "stream",
     "text": [
      "\n",
      "Average Working Hours per Week by Salary Group:\n",
      "income\n",
      "<=50K    38.840210\n",
      ">50K     45.473026\n",
      "Name: hours.per.week, dtype: float64\n"
     ]
    }
   ],
   "source": [
    "# Plot working hours vs. income\n",
    "plt.figure(figsize=(10, 6))\n",
    "sns.boxplot(x='income', y='hours.per.week', data=df)\n",
    "plt.xlabel(\"Salary Category\")\n",
    "plt.ylabel(\"Hours Worked per Week\")\n",
    "plt.title(\"Working Hours vs. Income\")\n",
    "plt.show()\n",
    "\n",
    "# Calculate the average working hours for each salary group\n",
    "average_hours = df.groupby('income')['hours.per.week'].mean()\n",
    "print(\"\\nAverage Working Hours per Week by Salary Group:\")\n",
    "print(average_hours)\n"
   ]
  },
  {
   "cell_type": "code",
   "execution_count": 1109,
   "id": "9e8af7a2-0c4d-4f0e-923a-9bc12e4d6f6c",
   "metadata": {},
   "outputs": [
    {
     "data": {
      "image/png": "[encoded data removed]",
      "text/plain": [
       "<Figure size 600x400 with 1 Axes>"
      ]
     },
     "metadata": {},
     "output_type": "display_data"
    }
   ],
   "source": [
    "plt.figure(figsize=(6,4))\n",
    "sns.barplot(x=['<=50K', '>50K'], y=average_hours)\n",
    "plt.ylim(0,100)\n",
    "plt.show()"
   ]
  },
  {
   "cell_type": "markdown",
   "id": "b3c8f108-fd7b-4292-8673-8a653ec82b9b",
   "metadata": {},
   "source": [
    "- People earning ≤ 50K per year work an average of 38.84 hours per\n",
    "week (slightly below the standard 40-hour workweek)."
   ]
  },
  {
   "cell_type": "markdown",
   "id": "3e877209-d504-46ad-8b3f-2503cf3c5010",
   "metadata": {},
   "source": [
    "# Step 5: Feature Selection for Modeling"
   ]
  },
  {
   "cell_type": "code",
   "execution_count": 1057,
   "id": "5a5ea443-1ce5-470d-84b2-6959341759ec",
   "metadata": {},
   "outputs": [],
   "source": [
    "from sklearn.model_selection import train_test_split\n",
    "from sklearn.preprocessing import LabelEncoder\n",
    "\n",
    "# Select features\n",
    "features = ['workclass', 'occupation', 'hours.per.week', 'income', 'age', 'sex']\n",
    "target = 'education.num'"
   ]
  },
  {
   "cell_type": "code",
   "execution_count": 1077,
   "id": "16164da2-7148-496e-8f9b-f26418185349",
   "metadata": {},
   "outputs": [],
   "source": [
    "# Encode categorical variables\n",
    "label_encoders = {}\n",
    "for col in categorical_cols:\n",
    "    le = LabelEncoder()\n",
    "    df[col] = le.fit_transform(df[col])\n",
    "    label_encoders[col] = le\n",
    "\n",
    "\n",
    "\n",
    "# for col in catcols:\n",
    "#     le = LabelEncoder()\n",
    "#     df[col] = le.fit_transform(df[col])\n",
    "#     label_encoders[col] = le"
   ]
  },
  {
   "cell_type": "code",
   "execution_count": 1079,
   "id": "0d5f3b99-a0ad-4054-92a6-da10421e4c7f",
   "metadata": {},
   "outputs": [],
   "source": [
    "# Split data\n",
    "X = df[features]\n",
    "y = df[target]\n",
    "X_train, X_test, y_train, y_test = train_test_split(X, y, test_size=0.2, random_state=42)"
   ]
  },
  {
   "cell_type": "markdown",
   "id": "0d7df537-2b81-44c7-94de-bfbf810f696e",
   "metadata": {},
   "source": [
    "# Step 6: Model 1 - XGBoost (Boosting Model)"
   ]
  },
  {
   "cell_type": "code",
   "execution_count": 1082,
   "id": "e2819d26-cc84-474f-a163-0a62ee31ad44",
   "metadata": {},
   "outputs": [],
   "source": [
    "from sklearn.preprocessing import MinMaxScaler\n",
    "\n",
    "scaler = MinMaxScaler()\n",
    "\n",
    "X_train = scaler.fit_transform(X_train)\n",
    "X_test = scaler.transform(X_test)\n"
   ]
  },
  {
   "cell_type": "code",
   "execution_count": 1084,
   "id": "0cddacce-4cf4-48e1-b9ca-db74418e5395",
   "metadata": {},
   "outputs": [],
   "source": [
    "from xgboost import XGBRegressor\n",
    "\n",
    "# Train XGBRegressor\n",
    "model = XGBRegressor(n_estimators=100, learning_rate=0.1)\n",
    "\n",
    "model.fit(X_train, y_train)\n",
    "\n",
    "# Predictions\n",
    "y_pred = model.predict(X_test)\n",
    "\n",
    "\n"
   ]
  },
  {
   "cell_type": "code",
   "execution_count": 1086,
   "id": "715d8d17-4fe8-483d-ae9f-74e7d9c6bfcd",
   "metadata": {},
   "outputs": [
    {
     "name": "stdout",
     "output_type": "stream",
     "text": [
      "mse: 4.03\n",
      "mae: 1.44\n",
      "r2: 0.38\n"
     ]
    }
   ],
   "source": [
    "# Evaluation\n",
    "mae_xgb = mean_absolute_error(y_test, y_pred)\n",
    "r2_xgb = r2_score(y_test, y_pred)\n",
    "\n",
    "mse = mean_squared_error(y_test, y_pred)\n",
    "mae = mean_absolute_error(y_test, y_pred)\n",
    "r2 = r2_score(y_test, y_pred)\n",
    "\n",
    "print(f\"mse: {mse:.2f}\")\n",
    "print(f\"mae: {mae:.2f}\")\n",
    "print(f\"r2: {r2:.2f}\")"
   ]
  },
  {
   "cell_type": "code",
   "execution_count": 1064,
   "id": "7091e0a8-d3ed-4d83-82b3-6749ce77d3c8",
   "metadata": {},
   "outputs": [
    {
     "name": "stdout",
     "output_type": "stream",
     "text": [
      "RandomForest Metrics: 1.5917984251512973 4.756667782557087 0.26286258392527884\n"
     ]
    }
   ],
   "source": [
    "from sklearn.ensemble import RandomForestRegressor\n",
    "\n",
    "rf_model = RandomForestRegressor()\n",
    "rf_model.fit(X_train, y_train)\n",
    "\n",
    "# Predictions and evaluation\n",
    "y_pred_rf = rf_model.predict(X_test)\n",
    "print(\"RandomForest Metrics:\", mean_absolute_error(y_test, y_pred_rf), mean_squared_error(y_test, y_pred_rf), r2_score(y_test, y_pred_rf))"
   ]
  },
  {
   "cell_type": "markdown",
   "id": "121cfd49-d5c3-4a1e-a6df-2025137f2af4",
   "metadata": {},
   "source": [
    "# Clustering"
   ]
  },
  {
   "cell_type": "code",
   "execution_count": 1090,
   "id": "c9028ec2-dc5e-45d1-9552-0e3c17ccd514",
   "metadata": {},
   "outputs": [],
   "source": [
    "clustering_data = df.drop(columns=[ 'capital.gain', 'capital.loss', 'native.country'])"
   ]
  },
  {
   "cell_type": "code",
   "execution_count": 1092,
   "id": "839e6d26-39bf-4bc7-94f3-ac6cf7106813",
   "metadata": {},
   "outputs": [
    {
     "data": {
      "text/plain": [
       "Index(['age', 'workclass', 'education', 'education.num', 'marital.status',\n",
       "       'occupation', 'relationship', 'race', 'sex', 'hours.per.week',\n",
       "       'income'],\n",
       "      dtype='object')"
      ]
     },
     "execution_count": 1092,
     "metadata": {},
     "output_type": "execute_result"
    }
   ],
   "source": [
    "clustering_data.columns"
   ]
  },
  {
   "cell_type": "code",
   "execution_count": 1094,
   "id": "c665c099-f24d-4e4c-9f2f-d22ff3a0ece7",
   "metadata": {},
   "outputs": [],
   "source": [
    "# Finding optimal clusters\n",
    "inertias = []\n",
    "iterations = range(2, 10)\n",
    "\n",
    "for k in iterations:\n",
    "    kmeans = KMeans(n_clusters=k, random_state=42)\n",
    "    kmeans.fit(clustering_data)\n",
    "    inertias.append(np.sqrt(kmeans.inertia_))"
   ]
  },
  {
   "cell_type": "code",
   "execution_count": 1096,
   "id": "36bcc086-b2d3-414f-b75c-dc232ab29489",
   "metadata": {},
   "outputs": [
    {
     "data": {
      "image/png": "[encoded data removed]",
      "text/plain": [
       "<Figure size 640x480 with 1 Axes>"
      ]
     },
     "metadata": {},
     "output_type": "display_data"
    }
   ],
   "source": [
    "plt.plot(iterations, inertia, marker='s')\n",
    "plt.title('Elbow Method for Optimal Clusters')\n",
    "plt.xlabel('Number of clusters')\n",
    "plt.ylabel('Inertia')\n",
    "plt.show()"
   ]
  },
  {
   "cell_type": "code",
   "execution_count": 1098,
   "id": "f938e7cc-96d3-4f41-89f8-e1d33195536e",
   "metadata": {},
   "outputs": [
    {
     "name": "stdout",
     "output_type": "stream",
     "text": [
      "k: 5, WSS: 1958.2912314860248\n"
     ]
    }
   ],
   "source": [
    "from kneed import KneeLocator\n",
    "\n",
    "knee_locator = KneeLocator(iterations, inertias, curve=\"convex\", direction=\"decreasing\")\n",
    "\n",
    "print(f\"k: {knee_locator.knee}, WSS: {inertias[knee_locator.knee - 1]}\")"
   ]
  },
  {
   "cell_type": "code",
   "execution_count": 1106,
   "id": "2facbffe-351d-4176-b370-118a094ae8e2",
   "metadata": {},
   "outputs": [
    {
     "data": {
      "image/png": "[encoded data removed]",
      "text/plain": [
       "<Figure size 640x480 with 1 Axes>"
      ]
     },
     "metadata": {},
     "output_type": "display_data"
    }
   ],
   "source": [
    "pca = PCA(n_components=2)\n",
    "reduced_data = pca.fit_transform(clustering_data)\n",
    "\n",
    "kmeans = KMeans(init=\"k-means++\", n_clusters=5, random_state=42)\n",
    "kmeans.fit(reduced_data)\n",
    "labels = kmeans.labels_\n",
    "\n",
    "plt.scatter(reduced_data[:, 0], reduced_data[:, 1], c=labels, cmap='viridis')\n",
    "plt.title('2D Visualization of Clusters')\n",
    "plt.show()"
   ]
  },
  {
   "cell_type": "code",
   "execution_count": null,
   "id": "96f74d21-9c87-48f8-99d6-94d25d135cf3",
   "metadata": {},
   "outputs": [],
   "source": []
  }
 ],
 "metadata": {
  "kernelspec": {
   "display_name": "Python 3 (ipykernel)",
   "language": "python",
   "name": "python3"
  },
  "language_info": {
   "codemirror_mode": {
    "name": "ipython",
    "version": 3
   },
   "file_extension": ".py",
   "mimetype": "text/x-python",
   "name": "python",
   "nbconvert_exporter": "python",
   "pygments_lexer": "ipython3",
   "version": "3.12.7"
  }
 },
 "nbformat": 4,
 "nbformat_minor": 5
}
