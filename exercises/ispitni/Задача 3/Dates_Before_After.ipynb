{
 "cells": [
  {
   "cell_type": "markdown",
   "id": "81b2d2e8-c58c-475e-ae42-2c9255ae1e31",
   "metadata": {},
   "source": [
    "# Filter dates"
   ]
  },
  {
   "cell_type": "code",
   "execution_count": 104,
   "id": "d9fe09d8-eea2-4eb3-a038-894a9fc4f15e",
   "metadata": {},
   "outputs": [
    {
     "data": {
      "text/html": [
       "<div>\n",
       "<style scoped>\n",
       "    .dataframe tbody tr th:only-of-type {\n",
       "        vertical-align: middle;\n",
       "    }\n",
       "\n",
       "    .dataframe tbody tr th {\n",
       "        vertical-align: top;\n",
       "    }\n",
       "\n",
       "    .dataframe thead th {\n",
       "        text-align: right;\n",
       "    }\n",
       "</style>\n",
       "<table border=\"1\" class=\"dataframe\">\n",
       "  <thead>\n",
       "    <tr style=\"text-align: right;\">\n",
       "      <th></th>\n",
       "      <th>Date</th>\n",
       "      <th>Temperature</th>\n",
       "      <th>Humidity</th>\n",
       "      <th>WindSpeed</th>\n",
       "      <th>GeneralDiffuseFlows</th>\n",
       "      <th>DiffuseFlows</th>\n",
       "    </tr>\n",
       "  </thead>\n",
       "  <tbody>\n",
       "    <tr>\n",
       "      <th>0</th>\n",
       "      <td>2017-03-01 16:40:00</td>\n",
       "      <td>21.33</td>\n",
       "      <td>55.91</td>\n",
       "      <td>0.080</td>\n",
       "      <td>387.400</td>\n",
       "      <td>427.300</td>\n",
       "    </tr>\n",
       "    <tr>\n",
       "      <th>1</th>\n",
       "      <td>2017-07-27 06:30:00</td>\n",
       "      <td>23.10</td>\n",
       "      <td>48.58</td>\n",
       "      <td>4.908</td>\n",
       "      <td>10.450</td>\n",
       "      <td>8.630</td>\n",
       "    </tr>\n",
       "    <tr>\n",
       "      <th>2</th>\n",
       "      <td>2017-10-11 19:00:00</td>\n",
       "      <td>23.10</td>\n",
       "      <td>59.82</td>\n",
       "      <td>0.084</td>\n",
       "      <td>0.446</td>\n",
       "      <td>0.322</td>\n",
       "    </tr>\n",
       "    <tr>\n",
       "      <th>3</th>\n",
       "      <td>2017-02-10 06:50:00</td>\n",
       "      <td>12.25</td>\n",
       "      <td>80.80</td>\n",
       "      <td>4.916</td>\n",
       "      <td>0.051</td>\n",
       "      <td>0.111</td>\n",
       "    </tr>\n",
       "    <tr>\n",
       "      <th>4</th>\n",
       "      <td>2017-03-06 16:00:00</td>\n",
       "      <td>15.62</td>\n",
       "      <td>59.38</td>\n",
       "      <td>0.075</td>\n",
       "      <td>533.400</td>\n",
       "      <td>579.900</td>\n",
       "    </tr>\n",
       "    <tr>\n",
       "      <th>...</th>\n",
       "      <td>...</td>\n",
       "      <td>...</td>\n",
       "      <td>...</td>\n",
       "      <td>...</td>\n",
       "      <td>...</td>\n",
       "      <td>...</td>\n",
       "    </tr>\n",
       "    <tr>\n",
       "      <th>52411</th>\n",
       "      <td>2017-05-14 02:20:00</td>\n",
       "      <td>23.58</td>\n",
       "      <td>43.10</td>\n",
       "      <td>0.075</td>\n",
       "      <td>0.110</td>\n",
       "      <td>0.122</td>\n",
       "    </tr>\n",
       "    <tr>\n",
       "      <th>52412</th>\n",
       "      <td>2017-11-17 19:20:00</td>\n",
       "      <td>17.30</td>\n",
       "      <td>76.50</td>\n",
       "      <td>0.075</td>\n",
       "      <td>0.040</td>\n",
       "      <td>0.148</td>\n",
       "    </tr>\n",
       "    <tr>\n",
       "      <th>52413</th>\n",
       "      <td>2017-03-21 12:10:00</td>\n",
       "      <td>17.90</td>\n",
       "      <td>50.28</td>\n",
       "      <td>0.081</td>\n",
       "      <td>837.000</td>\n",
       "      <td>296.700</td>\n",
       "    </tr>\n",
       "    <tr>\n",
       "      <th>52414</th>\n",
       "      <td>2017-07-28 05:10:00</td>\n",
       "      <td>25.23</td>\n",
       "      <td>61.32</td>\n",
       "      <td>4.907</td>\n",
       "      <td>0.091</td>\n",
       "      <td>0.119</td>\n",
       "    </tr>\n",
       "    <tr>\n",
       "      <th>52415</th>\n",
       "      <td>2017-12-16 20:30:00</td>\n",
       "      <td>13.90</td>\n",
       "      <td>80.80</td>\n",
       "      <td>0.082</td>\n",
       "      <td>0.051</td>\n",
       "      <td>0.152</td>\n",
       "    </tr>\n",
       "  </tbody>\n",
       "</table>\n",
       "<p>52416 rows × 6 columns</p>\n",
       "</div>"
      ],
      "text/plain": [
       "                      Date  Temperature  Humidity  WindSpeed  \\\n",
       "0      2017-03-01 16:40:00        21.33     55.91      0.080   \n",
       "1      2017-07-27 06:30:00        23.10     48.58      4.908   \n",
       "2      2017-10-11 19:00:00        23.10     59.82      0.084   \n",
       "3      2017-02-10 06:50:00        12.25     80.80      4.916   \n",
       "4      2017-03-06 16:00:00        15.62     59.38      0.075   \n",
       "...                    ...          ...       ...        ...   \n",
       "52411  2017-05-14 02:20:00        23.58     43.10      0.075   \n",
       "52412  2017-11-17 19:20:00        17.30     76.50      0.075   \n",
       "52413  2017-03-21 12:10:00        17.90     50.28      0.081   \n",
       "52414  2017-07-28 05:10:00        25.23     61.32      4.907   \n",
       "52415  2017-12-16 20:30:00        13.90     80.80      0.082   \n",
       "\n",
       "       GeneralDiffuseFlows  DiffuseFlows  \n",
       "0                  387.400       427.300  \n",
       "1                   10.450         8.630  \n",
       "2                    0.446         0.322  \n",
       "3                    0.051         0.111  \n",
       "4                  533.400       579.900  \n",
       "...                    ...           ...  \n",
       "52411                0.110         0.122  \n",
       "52412                0.040         0.148  \n",
       "52413              837.000       296.700  \n",
       "52414                0.091         0.119  \n",
       "52415                0.051         0.152  \n",
       "\n",
       "[52416 rows x 6 columns]"
      ]
     },
     "execution_count": 104,
     "metadata": {},
     "output_type": "execute_result"
    }
   ],
   "source": [
    "import pandas as pd\n",
    "\n",
    "df = pd.read_csv(\"data/power_consumption_g3_feat.csv\")\n",
    "df"
   ]
  },
  {
   "cell_type": "markdown",
   "id": "6e4f0ce6-0ae4-47dc-a3d6-6d40e958e380",
   "metadata": {},
   "source": [
    "### 1. Ensure Date is in Datetime Format"
   ]
  },
  {
   "cell_type": "code",
   "execution_count": 106,
   "id": "c73a99f6-b8b3-4297-8799-026d36025b86",
   "metadata": {},
   "outputs": [],
   "source": [
    "df[\"Date\"] = pd.to_datetime(df[\"Date\"]) \n"
   ]
  },
  {
   "cell_type": "markdown",
   "id": "1b31d1c2-9ae8-40bf-bb21-f378c67b85a9",
   "metadata": {},
   "source": [
    "### 2. Filter Data Between Two Dates"
   ]
  },
  {
   "cell_type": "code",
   "execution_count": 108,
   "id": "45eb6a55-827a-4dc7-ac2e-e95930d52711",
   "metadata": {},
   "outputs": [],
   "source": [
    "start_date = \"2023-01-01\"\n",
    "end_date = \"2023-02-01\"\n",
    "\n",
    "df_filtered = df[(df[\"Date\"] >= start_date) & (df[\"Date\"] <= end_date)]"
   ]
  },
  {
   "cell_type": "markdown",
   "id": "c4689299-9a1d-4943-b9a9-4e646abc15b6",
   "metadata": {},
   "source": [
    "### 3. Filter Data Before a Specific Date"
   ]
  },
  {
   "cell_type": "code",
   "execution_count": 110,
   "id": "aff4f7ef-f297-45d5-be03-25a75e3713cb",
   "metadata": {},
   "outputs": [],
   "source": [
    "cutoff_date = \"2023-01-01\"\n",
    "df_before = df[df[\"Date\"] < cutoff_date]"
   ]
  },
  {
   "cell_type": "markdown",
   "id": "54f883b4-f900-4075-b084-0b35078e7102",
   "metadata": {},
   "source": [
    "### 4. Filter Data After a Specific Date"
   ]
  },
  {
   "cell_type": "code",
   "execution_count": 112,
   "id": "3d4fd3f6-9a55-4b00-a986-b77e9a0dc2a4",
   "metadata": {},
   "outputs": [],
   "source": [
    "cutoff_date = \"2023-01-01\"\n",
    "df_after = df[df[\"Date\"] > cutoff_date]"
   ]
  },
  {
   "cell_type": "markdown",
   "id": "90358a33-a58f-42e6-8a30-08ec99a42686",
   "metadata": {},
   "source": [
    "### 5. Group Data Between Two Dates"
   ]
  },
  {
   "cell_type": "code",
   "execution_count": 114,
   "id": "6754528c-f446-4ed3-bfc9-bf94336ffc26",
   "metadata": {},
   "outputs": [],
   "source": [
    "df_between = df[(df[\"Date\"] >= \"2023-01-01\") & (df[\"Date\"] <= \"2023-02-01\")]\n",
    "df_grouped = df_between.groupby(pd.Grouper(key=\"Date\", freq=\"D\")).mean()"
   ]
  },
  {
   "cell_type": "markdown",
   "id": "a0c417b0-8e0e-49b5-b2c5-6875ea80a005",
   "metadata": {},
   "source": [
    "## 6. Resample Data Before or After a Date"
   ]
  },
  {
   "cell_type": "markdown",
   "id": "196f8352-739c-4163-a16f-7055b2497f57",
   "metadata": {},
   "source": [
    "### 1. Before a Date:"
   ]
  },
  {
   "cell_type": "code",
   "execution_count": 117,
   "id": "997dae75-d41b-4be7-8b7e-1ad1d18ba2dc",
   "metadata": {},
   "outputs": [],
   "source": [
    "df_before = df[df[\"Date\"] < \"2023-01-01\"]\n",
    "df_resampled = df_before.resample(\"D\", on=\"Date\").mean()\n"
   ]
  },
  {
   "cell_type": "markdown",
   "id": "fc0aa99e-a577-4f89-a2e0-c16de5eb944d",
   "metadata": {},
   "source": [
    "### 2. After a Date:"
   ]
  },
  {
   "cell_type": "code",
   "execution_count": 119,
   "id": "00c37243-d3af-48a9-82ea-045221e0cc02",
   "metadata": {},
   "outputs": [],
   "source": [
    "df[\"Date\"] = pd.to_datetime(df[\"Date\"])  # Convert to datetime\n",
    "df_after = df[df[\"Date\"] > \"2023-01-01\"]  # Filter\n",
    "\n",
    "df_resampled = df_after.groupby(pd.Grouper(key=\"Date\", freq=\"D\")).mean()"
   ]
  },
  {
   "cell_type": "code",
   "execution_count": null,
   "id": "0489ddbb-e501-482b-8789-ad7085ddd2a3",
   "metadata": {},
   "outputs": [],
   "source": []
  }
 ],
 "metadata": {
  "kernelspec": {
   "display_name": "Python 3 (ipykernel)",
   "language": "python",
   "name": "python3"
  },
  "language_info": {
   "codemirror_mode": {
    "name": "ipython",
    "version": 3
   },
   "file_extension": ".py",
   "mimetype": "text/x-python",
   "name": "python",
   "nbconvert_exporter": "python",
   "pygments_lexer": "ipython3",
   "version": "3.12.7"
  }
 },
 "nbformat": 4,
 "nbformat_minor": 5
}
