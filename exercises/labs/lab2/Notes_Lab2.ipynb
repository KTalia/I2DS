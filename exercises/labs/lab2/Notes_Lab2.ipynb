{
 "cells": [
  {
   "cell_type": "markdown",
   "id": "59234b21-2078-4732-8188-b04f4f84efe1",
   "metadata": {},
   "source": [
    "# <font color = 'Orange'>Data Preparation & KNN Classification</font>"
   ]
  },
  {
   "cell_type": "code",
   "execution_count": 43,
   "id": "9b07c27d-9390-4c94-9df4-4441055fa757",
   "metadata": {},
   "outputs": [
    {
     "name": "stderr",
     "output_type": "stream",
     "text": [
      "Downloading...\n",
      "From: https://drive.google.com/uc?id=1CkUp_wtuauTNL9aOW-K52jDlTXqD4KWS\n",
      "To: C:\\Users\\admin\\Desktop\\I2DS\\exercises\\labs\\lab2\\diabetes.csv\n",
      "\n",
      "  0%|          | 0.00/23.8k [00:00<?, ?B/s]\n",
      "100%|##########| 23.8k/23.8k [00:00<00:00, 29.3MB/s]\n"
     ]
    }
   ],
   "source": [
    "!gdown 1CkUp_wtuauTNL9aOW-K52jDlTXqD4KWS"
   ]
  },
  {
   "cell_type": "markdown",
   "id": "1c4cd60a-c922-42a5-8e61-4b50e98ec2e5",
   "metadata": {},
   "source": [
    "## Steps:"
   ]
  },
  {
   "cell_type": "markdown",
   "id": "cf3e9fe8-a0e0-4bde-9eed-569a8e74f3bf",
   "metadata": {
    "jp-MarkdownHeadingCollapsed": true
   },
   "source": [
    "## <font color = 'Orange'>1. Read your Dataset (.csv)</font>\n"
   ]
  },
  {
   "cell_type": "code",
   "execution_count": 47,
   "id": "79996c6b-cb02-456f-bc00-cd4ec5bde98b",
   "metadata": {},
   "outputs": [],
   "source": [
    "import pandas as pd\n",
    "\n",
    "df = pd.read_csv('diabetes.csv')"
   ]
  },
  {
   "cell_type": "code",
   "execution_count": 49,
   "id": "78d7afc6-42a9-4f47-84e0-7af860f0b4ea",
   "metadata": {},
   "outputs": [
    {
     "data": {
      "text/plain": [
       "Index(['Pregnancies', 'Glucose', 'BloodPressure', 'SkinThickness', 'Insulin',\n",
       "       'BMI', 'DiabetesPedigreeFunction', 'Age', 'Outcome'],\n",
       "      dtype='object')"
      ]
     },
     "execution_count": 49,
     "metadata": {},
     "output_type": "execute_result"
    }
   ],
   "source": [
    "df.columns"
   ]
  },
  {
   "cell_type": "markdown",
   "id": "0b947072-730b-4c45-a49c-9c7ada1574a5",
   "metadata": {
    "jp-MarkdownHeadingCollapsed": true
   },
   "source": [
    "## <font color = 'Orange'>2. Detect the Missing values</font>"
   ]
  },
  {
   "cell_type": "markdown",
   "id": "d8992e71-b4a2-4543-ac50-6e3f21d9140d",
   "metadata": {},
   "source": [
    "- Outcome: target column"
   ]
  },
  {
   "cell_type": "code",
   "execution_count": null,
   "id": "9a3ca284-2977-430b-87bb-40ca4625fa0a",
   "metadata": {},
   "outputs": [],
   "source": [
    "missing"
   ]
  },
  {
   "cell_type": "markdown",
   "id": "399a87d0-b8a8-48d5-ae74-f126e6f8cf34",
   "metadata": {},
   "source": [
    "## <font color = 'Orange'>3. Find reasons for the missing values</font>"
   ]
  },
  {
   "cell_type": "markdown",
   "id": "4ecc6ce4-1fc0-4d33-962c-741dbdceb449",
   "metadata": {},
   "source": [
    "## <font color = 'Orange'>4. Handle the missing values</font>"
   ]
  },
  {
   "cell_type": "markdown",
   "id": "f705b442-86fb-4d6f-8b73-083209ab1685",
   "metadata": {},
   "source": [
    "## <font color = 'Orange'>5. Save the new Dataset(.csv) without the missing values</font>"
   ]
  },
  {
   "cell_type": "markdown",
   "id": "d6e98ce6-ea5b-418c-aa20-0c94d5d80e8b",
   "metadata": {},
   "source": [
    "## <font color = 'Orange'>6. Split the dataset for training and testing in ratio 80:20</font>"
   ]
  },
  {
   "cell_type": "markdown",
   "id": "529d18ba-d815-4698-807c-51f1a0e74c56",
   "metadata": {},
   "source": [
    "## <font color = 'Orange'>7. Initialize the KNN Classification model, and use the fit function for training the model</font>"
   ]
  },
  {
   "cell_type": "markdown",
   "id": "0c8b37c7-7aaa-4fe3-a741-f440fb5277a7",
   "metadata": {},
   "source": [
    "## <font color = 'Orange'>8.Predict the outcomes for X test</font>"
   ]
  },
  {
   "cell_type": "markdown",
   "id": "99d37ca2-39fa-4929-bd3e-899bff900f70",
   "metadata": {},
   "source": [
    "## <font color = 'Orange'>9. See the model performance, by using sklearn metrics for classification</font>"
   ]
  }
 ],
 "metadata": {
  "kernelspec": {
   "display_name": "Python 3 (ipykernel)",
   "language": "python",
   "name": "python3"
  },
  "language_info": {
   "codemirror_mode": {
    "name": "ipython",
    "version": 3
   },
   "file_extension": ".py",
   "mimetype": "text/x-python",
   "name": "python",
   "nbconvert_exporter": "python",
   "pygments_lexer": "ipython3",
   "version": "3.12.7"
  }
 },
 "nbformat": 4,
 "nbformat_minor": 5
}
